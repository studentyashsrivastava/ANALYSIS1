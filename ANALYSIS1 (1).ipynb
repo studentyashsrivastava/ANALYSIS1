{
 "cells": [
  {
   "cell_type": "markdown",
   "id": "3fed8c3b-151b-40c1-82b1-54e0de182249",
   "metadata": {},
   "source": [
    "\n",
    "<h1>            ANALYSING TALLY DATA AND PROVIDING PRECIOUS INSIGHTS</h1>\n"
   ]
  },
  {
   "cell_type": "markdown",
   "id": "e5438641-a344-4627-9b9d-d43c31400bd8",
   "metadata": {},
   "source": [
    "\n",
    "<h2>IMPORTING DEPENDENCIES</h2>\n"
   ]
  },
  {
   "cell_type": "code",
   "execution_count": 49,
   "id": "384a40e9-d6b0-4406-b5ef-2809b30d128e",
   "metadata": {},
   "outputs": [],
   "source": [
    "import numpy as np\n",
    "import pandas as pd\n",
    "import matplotlib.pyplot as plt\n",
    "import seaborn as sns\n",
    "import plotly.express as px\n",
    "import plotly.graph_objects as go\n"
   ]
  },
  {
   "cell_type": "markdown",
   "id": "e76914df-a1e0-4136-a4a4-f0f7fc490d76",
   "metadata": {},
   "source": [
    "## TAKING DATA FROM TWO TALLY SHEETS OF DIFFERENT FINANCIAL YEAR"
   ]
  },
  {
   "cell_type": "code",
   "execution_count": 50,
   "id": "4543b322-ed9b-40af-b49c-10142c7a25da",
   "metadata": {},
   "outputs": [],
   "source": [
    "df1 = pd.read_excel(\"C:\\\\Users\\\\yashs\\\\Downloads\\\\tally 22-23.xlsx\", engine=\"openpyxl\")\n",
    "df2 = pd.read_excel(r\"C:\\Users\\yashs\\Downloads\\tally23-24.xlsx\", engine=\"openpyxl\")"
   ]
  },
  {
   "cell_type": "markdown",
   "id": "ccca7d62-f70a-441b-9198-7f3a084b920b",
   "metadata": {},
   "source": [
    "## PREPROCESSING AND EXPLORING DATA"
   ]
  },
  {
   "cell_type": "code",
   "execution_count": 51,
   "id": "8a640d44-db94-4405-b3de-cd14ddbc83d5",
   "metadata": {},
   "outputs": [
    {
     "data": {
      "text/html": [
       "<div>\n",
       "<style scoped>\n",
       "    .dataframe tbody tr th:only-of-type {\n",
       "        vertical-align: middle;\n",
       "    }\n",
       "\n",
       "    .dataframe tbody tr th {\n",
       "        vertical-align: top;\n",
       "    }\n",
       "\n",
       "    .dataframe thead th {\n",
       "        text-align: right;\n",
       "    }\n",
       "</style>\n",
       "<table border=\"1\" class=\"dataframe\">\n",
       "  <thead>\n",
       "    <tr style=\"text-align: right;\">\n",
       "      <th></th>\n",
       "      <th>Date</th>\n",
       "      <th>Particulars</th>\n",
       "      <th>Vch Type</th>\n",
       "      <th>Vch No.</th>\n",
       "      <th>Debit</th>\n",
       "      <th>Credit</th>\n",
       "    </tr>\n",
       "  </thead>\n",
       "  <tbody>\n",
       "    <tr>\n",
       "      <th>0</th>\n",
       "      <td>2022-04-01</td>\n",
       "      <td>Computer - Software</td>\n",
       "      <td>Journal</td>\n",
       "      <td>1</td>\n",
       "      <td>614.0</td>\n",
       "      <td>NaN</td>\n",
       "    </tr>\n",
       "    <tr>\n",
       "      <th>1</th>\n",
       "      <td>2022-04-04</td>\n",
       "      <td>Rep &amp; Maint - General</td>\n",
       "      <td>PMT LUC - CASH</td>\n",
       "      <td>1</td>\n",
       "      <td>200.0</td>\n",
       "      <td>NaN</td>\n",
       "    </tr>\n",
       "    <tr>\n",
       "      <th>2</th>\n",
       "      <td>2022-04-15</td>\n",
       "      <td>Courier Charges</td>\n",
       "      <td>PMT LUC - CASH</td>\n",
       "      <td>2</td>\n",
       "      <td>120.0</td>\n",
       "      <td>NaN</td>\n",
       "    </tr>\n",
       "    <tr>\n",
       "      <th>3</th>\n",
       "      <td>2022-04-17</td>\n",
       "      <td>Garden Expenses</td>\n",
       "      <td>PMT LUC - CASH</td>\n",
       "      <td>3</td>\n",
       "      <td>360.0</td>\n",
       "      <td>NaN</td>\n",
       "    </tr>\n",
       "    <tr>\n",
       "      <th>4</th>\n",
       "      <td>2022-04-17</td>\n",
       "      <td>Rep &amp; Maint - General</td>\n",
       "      <td>PMT LUC - CASH</td>\n",
       "      <td>4</td>\n",
       "      <td>2000.0</td>\n",
       "      <td>NaN</td>\n",
       "    </tr>\n",
       "    <tr>\n",
       "      <th>5</th>\n",
       "      <td>2022-04-17</td>\n",
       "      <td>O/S Liabilities (2021-22)</td>\n",
       "      <td>PMT LUC - CASH</td>\n",
       "      <td>5</td>\n",
       "      <td>589.0</td>\n",
       "      <td>NaN</td>\n",
       "    </tr>\n",
       "    <tr>\n",
       "      <th>6</th>\n",
       "      <td>2022-04-21</td>\n",
       "      <td>Electricity Expenses</td>\n",
       "      <td>PMT LUC - BANK</td>\n",
       "      <td>1</td>\n",
       "      <td>1168.0</td>\n",
       "      <td>NaN</td>\n",
       "    </tr>\n",
       "    <tr>\n",
       "      <th>7</th>\n",
       "      <td>2022-04-30</td>\n",
       "      <td>Salaries</td>\n",
       "      <td>PMT LUC - CASH</td>\n",
       "      <td>6</td>\n",
       "      <td>6600.0</td>\n",
       "      <td>NaN</td>\n",
       "    </tr>\n",
       "    <tr>\n",
       "      <th>8</th>\n",
       "      <td>2022-05-01</td>\n",
       "      <td>Salaries</td>\n",
       "      <td>PMT LUC - CASH</td>\n",
       "      <td>7</td>\n",
       "      <td>5000.0</td>\n",
       "      <td>NaN</td>\n",
       "    </tr>\n",
       "    <tr>\n",
       "      <th>9</th>\n",
       "      <td>2022-05-01</td>\n",
       "      <td>Housekeeping Comsumables</td>\n",
       "      <td>PMT LUC - CASH</td>\n",
       "      <td>8</td>\n",
       "      <td>1800.0</td>\n",
       "      <td>NaN</td>\n",
       "    </tr>\n",
       "  </tbody>\n",
       "</table>\n",
       "</div>"
      ],
      "text/plain": [
       "        Date                Particulars        Vch Type  Vch No.   Debit  \\\n",
       "0 2022-04-01        Computer - Software         Journal        1   614.0   \n",
       "1 2022-04-04      Rep & Maint - General  PMT LUC - CASH        1   200.0   \n",
       "2 2022-04-15            Courier Charges  PMT LUC - CASH        2   120.0   \n",
       "3 2022-04-17            Garden Expenses  PMT LUC - CASH        3   360.0   \n",
       "4 2022-04-17      Rep & Maint - General  PMT LUC - CASH        4  2000.0   \n",
       "5 2022-04-17  O/S Liabilities (2021-22)  PMT LUC - CASH        5   589.0   \n",
       "6 2022-04-21       Electricity Expenses  PMT LUC - BANK        1  1168.0   \n",
       "7 2022-04-30                   Salaries  PMT LUC - CASH        6  6600.0   \n",
       "8 2022-05-01                   Salaries  PMT LUC - CASH        7  5000.0   \n",
       "9 2022-05-01   Housekeeping Comsumables  PMT LUC - CASH        8  1800.0   \n",
       "\n",
       "   Credit  \n",
       "0     NaN  \n",
       "1     NaN  \n",
       "2     NaN  \n",
       "3     NaN  \n",
       "4     NaN  \n",
       "5     NaN  \n",
       "6     NaN  \n",
       "7     NaN  \n",
       "8     NaN  \n",
       "9     NaN  "
      ]
     },
     "execution_count": 51,
     "metadata": {},
     "output_type": "execute_result"
    }
   ],
   "source": [
    "df1.head(10)"
   ]
  },
  {
   "cell_type": "code",
   "execution_count": 52,
   "id": "5bf28a5e-de44-4827-a6b2-91365e8a2a32",
   "metadata": {},
   "outputs": [
    {
     "data": {
      "text/html": [
       "<div>\n",
       "<style scoped>\n",
       "    .dataframe tbody tr th:only-of-type {\n",
       "        vertical-align: middle;\n",
       "    }\n",
       "\n",
       "    .dataframe tbody tr th {\n",
       "        vertical-align: top;\n",
       "    }\n",
       "\n",
       "    .dataframe thead th {\n",
       "        text-align: right;\n",
       "    }\n",
       "</style>\n",
       "<table border=\"1\" class=\"dataframe\">\n",
       "  <thead>\n",
       "    <tr style=\"text-align: right;\">\n",
       "      <th></th>\n",
       "      <th>Debit</th>\n",
       "      <th>Credit</th>\n",
       "    </tr>\n",
       "  </thead>\n",
       "  <tbody>\n",
       "    <tr>\n",
       "      <th>count</th>\n",
       "      <td>222.000000</td>\n",
       "      <td>18.000000</td>\n",
       "    </tr>\n",
       "    <tr>\n",
       "      <th>mean</th>\n",
       "      <td>16375.905405</td>\n",
       "      <td>81074.888889</td>\n",
       "    </tr>\n",
       "    <tr>\n",
       "      <th>std</th>\n",
       "      <td>76051.275156</td>\n",
       "      <td>124303.276222</td>\n",
       "    </tr>\n",
       "    <tr>\n",
       "      <th>min</th>\n",
       "      <td>100.000000</td>\n",
       "      <td>1063.000000</td>\n",
       "    </tr>\n",
       "    <tr>\n",
       "      <th>25%</th>\n",
       "      <td>606.500000</td>\n",
       "      <td>12699.750000</td>\n",
       "    </tr>\n",
       "    <tr>\n",
       "      <th>50%</th>\n",
       "      <td>3127.000000</td>\n",
       "      <td>50000.000000</td>\n",
       "    </tr>\n",
       "    <tr>\n",
       "      <th>75%</th>\n",
       "      <td>5600.000000</td>\n",
       "      <td>60000.000000</td>\n",
       "    </tr>\n",
       "    <tr>\n",
       "      <th>max</th>\n",
       "      <td>895787.000000</td>\n",
       "      <td>450000.000000</td>\n",
       "    </tr>\n",
       "  </tbody>\n",
       "</table>\n",
       "</div>"
      ],
      "text/plain": [
       "               Debit         Credit\n",
       "count     222.000000      18.000000\n",
       "mean    16375.905405   81074.888889\n",
       "std     76051.275156  124303.276222\n",
       "min       100.000000    1063.000000\n",
       "25%       606.500000   12699.750000\n",
       "50%      3127.000000   50000.000000\n",
       "75%      5600.000000   60000.000000\n",
       "max    895787.000000  450000.000000"
      ]
     },
     "execution_count": 52,
     "metadata": {},
     "output_type": "execute_result"
    }
   ],
   "source": [
    "df1[['Debit','Credit']].describe()"
   ]
  },
  {
   "cell_type": "code",
   "execution_count": 53,
   "id": "f701861a-0ffb-4ef3-bb84-4ec0fa6ae3db",
   "metadata": {},
   "outputs": [
    {
     "name": "stdout",
     "output_type": "stream",
     "text": [
      "<class 'pandas.core.frame.DataFrame'>\n",
      "RangeIndex: 240 entries, 0 to 239\n",
      "Data columns (total 6 columns):\n",
      " #   Column       Non-Null Count  Dtype         \n",
      "---  ------       --------------  -----         \n",
      " 0   Date         240 non-null    datetime64[ns]\n",
      " 1   Particulars  240 non-null    object        \n",
      " 2   Vch Type     240 non-null    object        \n",
      " 3   Vch No.      240 non-null    int64         \n",
      " 4   Debit        222 non-null    float64       \n",
      " 5   Credit       18 non-null     float64       \n",
      "dtypes: datetime64[ns](1), float64(2), int64(1), object(2)\n",
      "memory usage: 11.4+ KB\n"
     ]
    }
   ],
   "source": [
    "df1.info()"
   ]
  },
  {
   "cell_type": "code",
   "execution_count": 54,
   "id": "48f7f367-7899-4f61-bba6-3694f3dfcec0",
   "metadata": {},
   "outputs": [],
   "source": [
    "## SINCE DATE CLASS IS A datetime64 datatype se can directly use dt without converting it into time series object"
   ]
  },
  {
   "cell_type": "code",
   "execution_count": 55,
   "id": "60401bf6-ee55-4146-962e-4453d8037964",
   "metadata": {},
   "outputs": [
    {
     "data": {
      "text/plain": [
       "0       1\n",
       "1       4\n",
       "2      15\n",
       "3      17\n",
       "4      17\n",
       "       ..\n",
       "235    31\n",
       "236    31\n",
       "237    31\n",
       "238    31\n",
       "239    31\n",
       "Name: Date, Length: 240, dtype: int32"
      ]
     },
     "execution_count": 55,
     "metadata": {},
     "output_type": "execute_result"
    }
   ],
   "source": [
    "date =df1['Date'].dt.day \n",
    "date"
   ]
  },
  {
   "cell_type": "code",
   "execution_count": 56,
   "id": "ebad34db-f4ac-41fa-b97c-7f3fbc6d5c12",
   "metadata": {},
   "outputs": [
    {
     "data": {
      "text/plain": [
       "0      4\n",
       "1      4\n",
       "2      4\n",
       "3      4\n",
       "4      4\n",
       "      ..\n",
       "235    3\n",
       "236    3\n",
       "237    3\n",
       "238    3\n",
       "239    3\n",
       "Name: Date, Length: 240, dtype: int32"
      ]
     },
     "execution_count": 56,
     "metadata": {},
     "output_type": "execute_result"
    }
   ],
   "source": [
    "month =df1['Date'].dt.month\n",
    "month"
   ]
  },
  {
   "cell_type": "code",
   "execution_count": 57,
   "id": "be911522-3f3f-49d3-b659-b42c3d7b3d63",
   "metadata": {},
   "outputs": [
    {
     "data": {
      "text/plain": [
       "0      2022\n",
       "1      2022\n",
       "2      2022\n",
       "3      2022\n",
       "4      2022\n",
       "       ... \n",
       "235    2023\n",
       "236    2023\n",
       "237    2023\n",
       "238    2023\n",
       "239    2023\n",
       "Name: Date, Length: 240, dtype: int32"
      ]
     },
     "execution_count": 57,
     "metadata": {},
     "output_type": "execute_result"
    }
   ],
   "source": [
    "year=df1['Date'].dt.year\n",
    "year"
   ]
  },
  {
   "cell_type": "code",
   "execution_count": 58,
   "id": "3f4c9f0d-c09a-43b5-aa86-93979214d048",
   "metadata": {},
   "outputs": [],
   "source": [
    "df1.insert(1,'date',date)"
   ]
  },
  {
   "cell_type": "code",
   "execution_count": 59,
   "id": "fbc7fc06-9442-49ea-b2e3-1aa7fd25f144",
   "metadata": {},
   "outputs": [],
   "source": [
    "df1.insert(2,'month',month)"
   ]
  },
  {
   "cell_type": "code",
   "execution_count": 60,
   "id": "d5368bcd-8a77-4a5a-97aa-4cd42edd9712",
   "metadata": {},
   "outputs": [],
   "source": [
    "df1.insert(3,'year',year)"
   ]
  },
  {
   "cell_type": "code",
   "execution_count": 61,
   "id": "55af5fad-f04f-4f97-a92a-5c1020ebe23a",
   "metadata": {},
   "outputs": [
    {
     "data": {
      "text/html": [
       "<div>\n",
       "<style scoped>\n",
       "    .dataframe tbody tr th:only-of-type {\n",
       "        vertical-align: middle;\n",
       "    }\n",
       "\n",
       "    .dataframe tbody tr th {\n",
       "        vertical-align: top;\n",
       "    }\n",
       "\n",
       "    .dataframe thead th {\n",
       "        text-align: right;\n",
       "    }\n",
       "</style>\n",
       "<table border=\"1\" class=\"dataframe\">\n",
       "  <thead>\n",
       "    <tr style=\"text-align: right;\">\n",
       "      <th></th>\n",
       "      <th>Date</th>\n",
       "      <th>date</th>\n",
       "      <th>month</th>\n",
       "      <th>year</th>\n",
       "      <th>Particulars</th>\n",
       "      <th>Vch Type</th>\n",
       "      <th>Vch No.</th>\n",
       "      <th>Debit</th>\n",
       "      <th>Credit</th>\n",
       "    </tr>\n",
       "  </thead>\n",
       "  <tbody>\n",
       "    <tr>\n",
       "      <th>0</th>\n",
       "      <td>2022-04-01</td>\n",
       "      <td>1</td>\n",
       "      <td>4</td>\n",
       "      <td>2022</td>\n",
       "      <td>Computer - Software</td>\n",
       "      <td>Journal</td>\n",
       "      <td>1</td>\n",
       "      <td>614.0</td>\n",
       "      <td>NaN</td>\n",
       "    </tr>\n",
       "    <tr>\n",
       "      <th>1</th>\n",
       "      <td>2022-04-04</td>\n",
       "      <td>4</td>\n",
       "      <td>4</td>\n",
       "      <td>2022</td>\n",
       "      <td>Rep &amp; Maint - General</td>\n",
       "      <td>PMT LUC - CASH</td>\n",
       "      <td>1</td>\n",
       "      <td>200.0</td>\n",
       "      <td>NaN</td>\n",
       "    </tr>\n",
       "    <tr>\n",
       "      <th>2</th>\n",
       "      <td>2022-04-15</td>\n",
       "      <td>15</td>\n",
       "      <td>4</td>\n",
       "      <td>2022</td>\n",
       "      <td>Courier Charges</td>\n",
       "      <td>PMT LUC - CASH</td>\n",
       "      <td>2</td>\n",
       "      <td>120.0</td>\n",
       "      <td>NaN</td>\n",
       "    </tr>\n",
       "    <tr>\n",
       "      <th>3</th>\n",
       "      <td>2022-04-17</td>\n",
       "      <td>17</td>\n",
       "      <td>4</td>\n",
       "      <td>2022</td>\n",
       "      <td>Garden Expenses</td>\n",
       "      <td>PMT LUC - CASH</td>\n",
       "      <td>3</td>\n",
       "      <td>360.0</td>\n",
       "      <td>NaN</td>\n",
       "    </tr>\n",
       "    <tr>\n",
       "      <th>4</th>\n",
       "      <td>2022-04-17</td>\n",
       "      <td>17</td>\n",
       "      <td>4</td>\n",
       "      <td>2022</td>\n",
       "      <td>Rep &amp; Maint - General</td>\n",
       "      <td>PMT LUC - CASH</td>\n",
       "      <td>4</td>\n",
       "      <td>2000.0</td>\n",
       "      <td>NaN</td>\n",
       "    </tr>\n",
       "    <tr>\n",
       "      <th>...</th>\n",
       "      <td>...</td>\n",
       "      <td>...</td>\n",
       "      <td>...</td>\n",
       "      <td>...</td>\n",
       "      <td>...</td>\n",
       "      <td>...</td>\n",
       "      <td>...</td>\n",
       "      <td>...</td>\n",
       "      <td>...</td>\n",
       "    </tr>\n",
       "    <tr>\n",
       "      <th>235</th>\n",
       "      <td>2023-03-31</td>\n",
       "      <td>31</td>\n",
       "      <td>3</td>\n",
       "      <td>2023</td>\n",
       "      <td>Machinery, Equipment &amp; Vehicles</td>\n",
       "      <td>Journal</td>\n",
       "      <td>16</td>\n",
       "      <td>200.0</td>\n",
       "      <td>NaN</td>\n",
       "    </tr>\n",
       "    <tr>\n",
       "      <th>236</th>\n",
       "      <td>2023-03-31</td>\n",
       "      <td>31</td>\n",
       "      <td>3</td>\n",
       "      <td>2023</td>\n",
       "      <td>Donation in Kind - Assets</td>\n",
       "      <td>Journal</td>\n",
       "      <td>17</td>\n",
       "      <td>200.0</td>\n",
       "      <td>NaN</td>\n",
       "    </tr>\n",
       "    <tr>\n",
       "      <th>237</th>\n",
       "      <td>2023-03-31</td>\n",
       "      <td>31</td>\n",
       "      <td>3</td>\n",
       "      <td>2023</td>\n",
       "      <td>Lucknow - Delhi (EPF)</td>\n",
       "      <td>Journal</td>\n",
       "      <td>18</td>\n",
       "      <td>3300.0</td>\n",
       "      <td>NaN</td>\n",
       "    </tr>\n",
       "    <tr>\n",
       "      <th>238</th>\n",
       "      <td>2023-03-31</td>\n",
       "      <td>31</td>\n",
       "      <td>3</td>\n",
       "      <td>2023</td>\n",
       "      <td>Branch Fund</td>\n",
       "      <td>Journal</td>\n",
       "      <td>19</td>\n",
       "      <td>36301.0</td>\n",
       "      <td>NaN</td>\n",
       "    </tr>\n",
       "    <tr>\n",
       "      <th>239</th>\n",
       "      <td>2023-03-31</td>\n",
       "      <td>31</td>\n",
       "      <td>3</td>\n",
       "      <td>2023</td>\n",
       "      <td>Lucknow Operation Fund</td>\n",
       "      <td>Journal</td>\n",
       "      <td>20</td>\n",
       "      <td>505535.0</td>\n",
       "      <td>NaN</td>\n",
       "    </tr>\n",
       "  </tbody>\n",
       "</table>\n",
       "<p>240 rows × 9 columns</p>\n",
       "</div>"
      ],
      "text/plain": [
       "          Date  date  month  year                      Particulars  \\\n",
       "0   2022-04-01     1      4  2022              Computer - Software   \n",
       "1   2022-04-04     4      4  2022            Rep & Maint - General   \n",
       "2   2022-04-15    15      4  2022                  Courier Charges   \n",
       "3   2022-04-17    17      4  2022                  Garden Expenses   \n",
       "4   2022-04-17    17      4  2022            Rep & Maint - General   \n",
       "..         ...   ...    ...   ...                              ...   \n",
       "235 2023-03-31    31      3  2023  Machinery, Equipment & Vehicles   \n",
       "236 2023-03-31    31      3  2023        Donation in Kind - Assets   \n",
       "237 2023-03-31    31      3  2023            Lucknow - Delhi (EPF)   \n",
       "238 2023-03-31    31      3  2023                      Branch Fund   \n",
       "239 2023-03-31    31      3  2023           Lucknow Operation Fund   \n",
       "\n",
       "           Vch Type  Vch No.     Debit  Credit  \n",
       "0           Journal        1     614.0     NaN  \n",
       "1    PMT LUC - CASH        1     200.0     NaN  \n",
       "2    PMT LUC - CASH        2     120.0     NaN  \n",
       "3    PMT LUC - CASH        3     360.0     NaN  \n",
       "4    PMT LUC - CASH        4    2000.0     NaN  \n",
       "..              ...      ...       ...     ...  \n",
       "235         Journal       16     200.0     NaN  \n",
       "236         Journal       17     200.0     NaN  \n",
       "237         Journal       18    3300.0     NaN  \n",
       "238         Journal       19   36301.0     NaN  \n",
       "239         Journal       20  505535.0     NaN  \n",
       "\n",
       "[240 rows x 9 columns]"
      ]
     },
     "execution_count": 61,
     "metadata": {},
     "output_type": "execute_result"
    }
   ],
   "source": [
    "df1"
   ]
  },
  {
   "cell_type": "code",
   "execution_count": 62,
   "id": "ea402bcb-08b4-40a8-9868-b6487843b661",
   "metadata": {},
   "outputs": [],
   "source": [
    "totaldebit=df1['Debit'].sum()"
   ]
  },
  {
   "cell_type": "code",
   "execution_count": 63,
   "id": "09de6b78-5675-4708-b52d-47d726dadc25",
   "metadata": {},
   "outputs": [
    {
     "data": {
      "text/plain": [
       "3635451.0"
      ]
     },
     "execution_count": 63,
     "metadata": {},
     "output_type": "execute_result"
    }
   ],
   "source": [
    "totaldebit"
   ]
  },
  {
   "cell_type": "code",
   "execution_count": 64,
   "id": "5dbc3e29-b425-49c1-90ae-6ba9f6bf8519",
   "metadata": {},
   "outputs": [],
   "source": [
    "totalcredit=df1['Credit'].sum()"
   ]
  },
  {
   "cell_type": "code",
   "execution_count": 65,
   "id": "41fa0971-a3d6-403b-b7b3-48407953da15",
   "metadata": {},
   "outputs": [
    {
     "data": {
      "text/plain": [
       "1459348.0"
      ]
     },
     "execution_count": 65,
     "metadata": {},
     "output_type": "execute_result"
    }
   ],
   "source": [
    "totalcredit"
   ]
  },
  {
   "cell_type": "code",
   "execution_count": 66,
   "id": "3e629deb-231a-484f-b93a-25f85f3c704f",
   "metadata": {},
   "outputs": [
    {
     "data": {
      "text/html": [
       "<div>\n",
       "<style scoped>\n",
       "    .dataframe tbody tr th:only-of-type {\n",
       "        vertical-align: middle;\n",
       "    }\n",
       "\n",
       "    .dataframe tbody tr th {\n",
       "        vertical-align: top;\n",
       "    }\n",
       "\n",
       "    .dataframe thead th {\n",
       "        text-align: right;\n",
       "    }\n",
       "</style>\n",
       "<table border=\"1\" class=\"dataframe\">\n",
       "  <thead>\n",
       "    <tr style=\"text-align: right;\">\n",
       "      <th></th>\n",
       "      <th>Date</th>\n",
       "      <th>date</th>\n",
       "      <th>month</th>\n",
       "      <th>year</th>\n",
       "      <th>Particulars</th>\n",
       "      <th>Vch Type</th>\n",
       "      <th>Vch No.</th>\n",
       "      <th>Debit</th>\n",
       "      <th>Credit</th>\n",
       "    </tr>\n",
       "  </thead>\n",
       "  <tbody>\n",
       "    <tr>\n",
       "      <th>0</th>\n",
       "      <td>2022-04-01</td>\n",
       "      <td>1</td>\n",
       "      <td>4</td>\n",
       "      <td>2022</td>\n",
       "      <td>Computer - Software</td>\n",
       "      <td>Journal</td>\n",
       "      <td>1</td>\n",
       "      <td>614.0</td>\n",
       "      <td>0.0</td>\n",
       "    </tr>\n",
       "    <tr>\n",
       "      <th>1</th>\n",
       "      <td>2022-04-04</td>\n",
       "      <td>4</td>\n",
       "      <td>4</td>\n",
       "      <td>2022</td>\n",
       "      <td>Rep &amp; Maint - General</td>\n",
       "      <td>PMT LUC - CASH</td>\n",
       "      <td>1</td>\n",
       "      <td>200.0</td>\n",
       "      <td>0.0</td>\n",
       "    </tr>\n",
       "    <tr>\n",
       "      <th>2</th>\n",
       "      <td>2022-04-15</td>\n",
       "      <td>15</td>\n",
       "      <td>4</td>\n",
       "      <td>2022</td>\n",
       "      <td>Courier Charges</td>\n",
       "      <td>PMT LUC - CASH</td>\n",
       "      <td>2</td>\n",
       "      <td>120.0</td>\n",
       "      <td>0.0</td>\n",
       "    </tr>\n",
       "    <tr>\n",
       "      <th>3</th>\n",
       "      <td>2022-04-17</td>\n",
       "      <td>17</td>\n",
       "      <td>4</td>\n",
       "      <td>2022</td>\n",
       "      <td>Garden Expenses</td>\n",
       "      <td>PMT LUC - CASH</td>\n",
       "      <td>3</td>\n",
       "      <td>360.0</td>\n",
       "      <td>0.0</td>\n",
       "    </tr>\n",
       "    <tr>\n",
       "      <th>4</th>\n",
       "      <td>2022-04-17</td>\n",
       "      <td>17</td>\n",
       "      <td>4</td>\n",
       "      <td>2022</td>\n",
       "      <td>Rep &amp; Maint - General</td>\n",
       "      <td>PMT LUC - CASH</td>\n",
       "      <td>4</td>\n",
       "      <td>2000.0</td>\n",
       "      <td>0.0</td>\n",
       "    </tr>\n",
       "  </tbody>\n",
       "</table>\n",
       "</div>"
      ],
      "text/plain": [
       "        Date  date  month  year            Particulars        Vch Type  \\\n",
       "0 2022-04-01     1      4  2022    Computer - Software         Journal   \n",
       "1 2022-04-04     4      4  2022  Rep & Maint - General  PMT LUC - CASH   \n",
       "2 2022-04-15    15      4  2022        Courier Charges  PMT LUC - CASH   \n",
       "3 2022-04-17    17      4  2022        Garden Expenses  PMT LUC - CASH   \n",
       "4 2022-04-17    17      4  2022  Rep & Maint - General  PMT LUC - CASH   \n",
       "\n",
       "   Vch No.   Debit  Credit  \n",
       "0        1   614.0     0.0  \n",
       "1        1   200.0     0.0  \n",
       "2        2   120.0     0.0  \n",
       "3        3   360.0     0.0  \n",
       "4        4  2000.0     0.0  "
      ]
     },
     "execution_count": 66,
     "metadata": {},
     "output_type": "execute_result"
    }
   ],
   "source": [
    "df1.fillna(0,inplace=True)\n",
    "df1.head(5)"
   ]
  },
  {
   "cell_type": "markdown",
   "id": "97956c3e-e181-4cee-8371-c6acce5d0c53",
   "metadata": {},
   "source": [
    "## BREAKING DOWN DATA BY THE USE OF FUNTIONS SUCH AS GROUPBY AND MELT"
   ]
  },
  {
   "cell_type": "code",
   "execution_count": 67,
   "id": "89af8d5f-97b7-48a3-add6-e1b168318a35",
   "metadata": {},
   "outputs": [],
   "source": [
    "monthly_summary = df1.groupby(['year','month']).agg({'Debit': 'sum', 'Credit': 'sum'}).reset_index()"
   ]
  },
  {
   "cell_type": "code",
   "execution_count": 68,
   "id": "a42e955f-d680-47e1-ad29-97a7ff3dc9b5",
   "metadata": {},
   "outputs": [
    {
     "data": {
      "text/html": [
       "<div>\n",
       "<style scoped>\n",
       "    .dataframe tbody tr th:only-of-type {\n",
       "        vertical-align: middle;\n",
       "    }\n",
       "\n",
       "    .dataframe tbody tr th {\n",
       "        vertical-align: top;\n",
       "    }\n",
       "\n",
       "    .dataframe thead th {\n",
       "        text-align: right;\n",
       "    }\n",
       "</style>\n",
       "<table border=\"1\" class=\"dataframe\">\n",
       "  <thead>\n",
       "    <tr style=\"text-align: right;\">\n",
       "      <th></th>\n",
       "      <th>year</th>\n",
       "      <th>month</th>\n",
       "      <th>Debit</th>\n",
       "      <th>Credit</th>\n",
       "    </tr>\n",
       "  </thead>\n",
       "  <tbody>\n",
       "    <tr>\n",
       "      <th>0</th>\n",
       "      <td>2022</td>\n",
       "      <td>4</td>\n",
       "      <td>11651.0</td>\n",
       "      <td>0.0</td>\n",
       "    </tr>\n",
       "    <tr>\n",
       "      <th>1</th>\n",
       "      <td>2022</td>\n",
       "      <td>5</td>\n",
       "      <td>11909.0</td>\n",
       "      <td>50000.0</td>\n",
       "    </tr>\n",
       "    <tr>\n",
       "      <th>2</th>\n",
       "      <td>2022</td>\n",
       "      <td>6</td>\n",
       "      <td>27412.0</td>\n",
       "      <td>0.0</td>\n",
       "    </tr>\n",
       "    <tr>\n",
       "      <th>3</th>\n",
       "      <td>2022</td>\n",
       "      <td>7</td>\n",
       "      <td>314291.0</td>\n",
       "      <td>571381.0</td>\n",
       "    </tr>\n",
       "    <tr>\n",
       "      <th>4</th>\n",
       "      <td>2022</td>\n",
       "      <td>8</td>\n",
       "      <td>300852.0</td>\n",
       "      <td>66933.0</td>\n",
       "    </tr>\n",
       "    <tr>\n",
       "      <th>5</th>\n",
       "      <td>2022</td>\n",
       "      <td>9</td>\n",
       "      <td>79477.0</td>\n",
       "      <td>50000.0</td>\n",
       "    </tr>\n",
       "    <tr>\n",
       "      <th>6</th>\n",
       "      <td>2022</td>\n",
       "      <td>10</td>\n",
       "      <td>54336.0</td>\n",
       "      <td>377174.0</td>\n",
       "    </tr>\n",
       "    <tr>\n",
       "      <th>7</th>\n",
       "      <td>2022</td>\n",
       "      <td>11</td>\n",
       "      <td>142250.0</td>\n",
       "      <td>50000.0</td>\n",
       "    </tr>\n",
       "    <tr>\n",
       "      <th>8</th>\n",
       "      <td>2022</td>\n",
       "      <td>12</td>\n",
       "      <td>252184.0</td>\n",
       "      <td>50000.0</td>\n",
       "    </tr>\n",
       "    <tr>\n",
       "      <th>9</th>\n",
       "      <td>2023</td>\n",
       "      <td>1</td>\n",
       "      <td>81249.0</td>\n",
       "      <td>162797.0</td>\n",
       "    </tr>\n",
       "    <tr>\n",
       "      <th>10</th>\n",
       "      <td>2023</td>\n",
       "      <td>2</td>\n",
       "      <td>59831.0</td>\n",
       "      <td>50000.0</td>\n",
       "    </tr>\n",
       "    <tr>\n",
       "      <th>11</th>\n",
       "      <td>2023</td>\n",
       "      <td>3</td>\n",
       "      <td>2300009.0</td>\n",
       "      <td>31063.0</td>\n",
       "    </tr>\n",
       "  </tbody>\n",
       "</table>\n",
       "</div>"
      ],
      "text/plain": [
       "    year  month      Debit    Credit\n",
       "0   2022      4    11651.0       0.0\n",
       "1   2022      5    11909.0   50000.0\n",
       "2   2022      6    27412.0       0.0\n",
       "3   2022      7   314291.0  571381.0\n",
       "4   2022      8   300852.0   66933.0\n",
       "5   2022      9    79477.0   50000.0\n",
       "6   2022     10    54336.0  377174.0\n",
       "7   2022     11   142250.0   50000.0\n",
       "8   2022     12   252184.0   50000.0\n",
       "9   2023      1    81249.0  162797.0\n",
       "10  2023      2    59831.0   50000.0\n",
       "11  2023      3  2300009.0   31063.0"
      ]
     },
     "execution_count": 68,
     "metadata": {},
     "output_type": "execute_result"
    }
   ],
   "source": [
    "monthly_summary"
   ]
  },
  {
   "cell_type": "code",
   "execution_count": 69,
   "id": "6712978a-1bef-4b47-9176-1cfbf131ca58",
   "metadata": {},
   "outputs": [
    {
     "data": {
      "image/png": "[encoded data removed]",
      "text/plain": [
       "<Figure size 1600x600 with 1 Axes>"
      ]
     },
     "metadata": {},
     "output_type": "display_data"
    }
   ],
   "source": [
    "plt.figure(figsize=(16, 6))\n",
    "\n",
    "debit_plot = sns.lineplot(x='month', y='Debit', data=monthly_summary, label='Debit')\n",
    "credit_plot = sns.lineplot(x='month', y='Credit', data=monthly_summary, label='Credit')\n",
    "\n",
    "plt.title('Monthly Debit and Credit Summary', fontsize=14)\n",
    "plt.xlabel('Month', fontsize=12)\n",
    "plt.ylabel('Amount', fontsize=12)\n",
    "\n",
    "plt.legend(title='Transaction Type')\n",
    "\n",
    "plt.show()"
   ]
  },
  {
   "cell_type": "code",
   "execution_count": 70,
   "id": "5ae9a6b5-4f11-485f-ab43-e108c490fa29",
   "metadata": {},
   "outputs": [
    {
     "data": {
      "text/html": [
       "<div>\n",
       "<style scoped>\n",
       "    .dataframe tbody tr th:only-of-type {\n",
       "        vertical-align: middle;\n",
       "    }\n",
       "\n",
       "    .dataframe tbody tr th {\n",
       "        vertical-align: top;\n",
       "    }\n",
       "\n",
       "    .dataframe thead th {\n",
       "        text-align: right;\n",
       "    }\n",
       "</style>\n",
       "<table border=\"1\" class=\"dataframe\">\n",
       "  <thead>\n",
       "    <tr style=\"text-align: right;\">\n",
       "      <th></th>\n",
       "      <th>month</th>\n",
       "      <th>year</th>\n",
       "      <th>variable</th>\n",
       "      <th>value</th>\n",
       "    </tr>\n",
       "  </thead>\n",
       "  <tbody>\n",
       "    <tr>\n",
       "      <th>0</th>\n",
       "      <td>4</td>\n",
       "      <td>2022</td>\n",
       "      <td>Debit</td>\n",
       "      <td>11651.0</td>\n",
       "    </tr>\n",
       "    <tr>\n",
       "      <th>1</th>\n",
       "      <td>5</td>\n",
       "      <td>2022</td>\n",
       "      <td>Debit</td>\n",
       "      <td>11909.0</td>\n",
       "    </tr>\n",
       "    <tr>\n",
       "      <th>2</th>\n",
       "      <td>6</td>\n",
       "      <td>2022</td>\n",
       "      <td>Debit</td>\n",
       "      <td>27412.0</td>\n",
       "    </tr>\n",
       "    <tr>\n",
       "      <th>3</th>\n",
       "      <td>7</td>\n",
       "      <td>2022</td>\n",
       "      <td>Debit</td>\n",
       "      <td>314291.0</td>\n",
       "    </tr>\n",
       "    <tr>\n",
       "      <th>4</th>\n",
       "      <td>8</td>\n",
       "      <td>2022</td>\n",
       "      <td>Debit</td>\n",
       "      <td>300852.0</td>\n",
       "    </tr>\n",
       "    <tr>\n",
       "      <th>5</th>\n",
       "      <td>9</td>\n",
       "      <td>2022</td>\n",
       "      <td>Debit</td>\n",
       "      <td>79477.0</td>\n",
       "    </tr>\n",
       "    <tr>\n",
       "      <th>6</th>\n",
       "      <td>10</td>\n",
       "      <td>2022</td>\n",
       "      <td>Debit</td>\n",
       "      <td>54336.0</td>\n",
       "    </tr>\n",
       "    <tr>\n",
       "      <th>7</th>\n",
       "      <td>11</td>\n",
       "      <td>2022</td>\n",
       "      <td>Debit</td>\n",
       "      <td>142250.0</td>\n",
       "    </tr>\n",
       "    <tr>\n",
       "      <th>8</th>\n",
       "      <td>12</td>\n",
       "      <td>2022</td>\n",
       "      <td>Debit</td>\n",
       "      <td>252184.0</td>\n",
       "    </tr>\n",
       "    <tr>\n",
       "      <th>9</th>\n",
       "      <td>1</td>\n",
       "      <td>2023</td>\n",
       "      <td>Debit</td>\n",
       "      <td>81249.0</td>\n",
       "    </tr>\n",
       "    <tr>\n",
       "      <th>10</th>\n",
       "      <td>2</td>\n",
       "      <td>2023</td>\n",
       "      <td>Debit</td>\n",
       "      <td>59831.0</td>\n",
       "    </tr>\n",
       "    <tr>\n",
       "      <th>11</th>\n",
       "      <td>3</td>\n",
       "      <td>2023</td>\n",
       "      <td>Debit</td>\n",
       "      <td>2300009.0</td>\n",
       "    </tr>\n",
       "    <tr>\n",
       "      <th>12</th>\n",
       "      <td>4</td>\n",
       "      <td>2022</td>\n",
       "      <td>Credit</td>\n",
       "      <td>0.0</td>\n",
       "    </tr>\n",
       "    <tr>\n",
       "      <th>13</th>\n",
       "      <td>5</td>\n",
       "      <td>2022</td>\n",
       "      <td>Credit</td>\n",
       "      <td>50000.0</td>\n",
       "    </tr>\n",
       "    <tr>\n",
       "      <th>14</th>\n",
       "      <td>6</td>\n",
       "      <td>2022</td>\n",
       "      <td>Credit</td>\n",
       "      <td>0.0</td>\n",
       "    </tr>\n",
       "    <tr>\n",
       "      <th>15</th>\n",
       "      <td>7</td>\n",
       "      <td>2022</td>\n",
       "      <td>Credit</td>\n",
       "      <td>571381.0</td>\n",
       "    </tr>\n",
       "    <tr>\n",
       "      <th>16</th>\n",
       "      <td>8</td>\n",
       "      <td>2022</td>\n",
       "      <td>Credit</td>\n",
       "      <td>66933.0</td>\n",
       "    </tr>\n",
       "    <tr>\n",
       "      <th>17</th>\n",
       "      <td>9</td>\n",
       "      <td>2022</td>\n",
       "      <td>Credit</td>\n",
       "      <td>50000.0</td>\n",
       "    </tr>\n",
       "    <tr>\n",
       "      <th>18</th>\n",
       "      <td>10</td>\n",
       "      <td>2022</td>\n",
       "      <td>Credit</td>\n",
       "      <td>377174.0</td>\n",
       "    </tr>\n",
       "    <tr>\n",
       "      <th>19</th>\n",
       "      <td>11</td>\n",
       "      <td>2022</td>\n",
       "      <td>Credit</td>\n",
       "      <td>50000.0</td>\n",
       "    </tr>\n",
       "    <tr>\n",
       "      <th>20</th>\n",
       "      <td>12</td>\n",
       "      <td>2022</td>\n",
       "      <td>Credit</td>\n",
       "      <td>50000.0</td>\n",
       "    </tr>\n",
       "    <tr>\n",
       "      <th>21</th>\n",
       "      <td>1</td>\n",
       "      <td>2023</td>\n",
       "      <td>Credit</td>\n",
       "      <td>162797.0</td>\n",
       "    </tr>\n",
       "    <tr>\n",
       "      <th>22</th>\n",
       "      <td>2</td>\n",
       "      <td>2023</td>\n",
       "      <td>Credit</td>\n",
       "      <td>50000.0</td>\n",
       "    </tr>\n",
       "    <tr>\n",
       "      <th>23</th>\n",
       "      <td>3</td>\n",
       "      <td>2023</td>\n",
       "      <td>Credit</td>\n",
       "      <td>31063.0</td>\n",
       "    </tr>\n",
       "  </tbody>\n",
       "</table>\n",
       "</div>"
      ],
      "text/plain": [
       "    month  year variable      value\n",
       "0       4  2022    Debit    11651.0\n",
       "1       5  2022    Debit    11909.0\n",
       "2       6  2022    Debit    27412.0\n",
       "3       7  2022    Debit   314291.0\n",
       "4       8  2022    Debit   300852.0\n",
       "5       9  2022    Debit    79477.0\n",
       "6      10  2022    Debit    54336.0\n",
       "7      11  2022    Debit   142250.0\n",
       "8      12  2022    Debit   252184.0\n",
       "9       1  2023    Debit    81249.0\n",
       "10      2  2023    Debit    59831.0\n",
       "11      3  2023    Debit  2300009.0\n",
       "12      4  2022   Credit        0.0\n",
       "13      5  2022   Credit    50000.0\n",
       "14      6  2022   Credit        0.0\n",
       "15      7  2022   Credit   571381.0\n",
       "16      8  2022   Credit    66933.0\n",
       "17      9  2022   Credit    50000.0\n",
       "18     10  2022   Credit   377174.0\n",
       "19     11  2022   Credit    50000.0\n",
       "20     12  2022   Credit    50000.0\n",
       "21      1  2023   Credit   162797.0\n",
       "22      2  2023   Credit    50000.0\n",
       "23      3  2023   Credit    31063.0"
      ]
     },
     "execution_count": 70,
     "metadata": {},
     "output_type": "execute_result"
    }
   ],
   "source": [
    "df_melted = monthly_summary.melt(id_vars=['month','year'], var_name='variable', value_name='value')\n",
    "df_melted"
   ]
  },
  {
   "cell_type": "code",
   "execution_count": 71,
   "id": "79652a35-4cdd-416a-938b-d60720b7950f",
   "metadata": {},
   "outputs": [
    {
     "data": {
      "image/png": "[encoded data removed]",
      "text/plain": [
       "<Figure size 1200x600 with 1 Axes>"
      ]
     },
     "metadata": {},
     "output_type": "display_data"
    }
   ],
   "source": [
    "sns.set(style=\"whitegrid\")\n",
    "plt.figure(figsize=(12, 6))\n",
    "sns.barplot(x=\"month\", y=\"value\", hue=\"variable\", data=df_melted, palette='flare')\n",
    "\n",
    "# Add labels and title\n",
    "plt.xlabel('Months', fontsize=12)\n",
    "plt.ylabel('Value', fontsize=12)\n",
    "plt.title('Stacked Bar Plot', fontsize=14)\n",
    "plt.show()"
   ]
  },
  {
   "cell_type": "code",
   "execution_count": 72,
   "id": "34628d4b-dbbd-46f1-8afa-29a4681f7199",
   "metadata": {},
   "outputs": [
    {
     "data": {
      "text/html": [
       "<div>\n",
       "<style scoped>\n",
       "    .dataframe tbody tr th:only-of-type {\n",
       "        vertical-align: middle;\n",
       "    }\n",
       "\n",
       "    .dataframe tbody tr th {\n",
       "        vertical-align: top;\n",
       "    }\n",
       "\n",
       "    .dataframe thead th {\n",
       "        text-align: right;\n",
       "    }\n",
       "</style>\n",
       "<table border=\"1\" class=\"dataframe\">\n",
       "  <thead>\n",
       "    <tr style=\"text-align: right;\">\n",
       "      <th></th>\n",
       "      <th>Particulars</th>\n",
       "      <th>count</th>\n",
       "    </tr>\n",
       "  </thead>\n",
       "  <tbody>\n",
       "    <tr>\n",
       "      <th>0</th>\n",
       "      <td>Food Expenses</td>\n",
       "      <td>26</td>\n",
       "    </tr>\n",
       "    <tr>\n",
       "      <th>1</th>\n",
       "      <td>Housekeeping Comsumables</td>\n",
       "      <td>25</td>\n",
       "    </tr>\n",
       "    <tr>\n",
       "      <th>2</th>\n",
       "      <td>Garden Expenses</td>\n",
       "      <td>20</td>\n",
       "    </tr>\n",
       "    <tr>\n",
       "      <th>3</th>\n",
       "      <td>Salaries</td>\n",
       "      <td>20</td>\n",
       "    </tr>\n",
       "    <tr>\n",
       "      <th>4</th>\n",
       "      <td>Rep &amp; Maint - General</td>\n",
       "      <td>17</td>\n",
       "    </tr>\n",
       "    <tr>\n",
       "      <th>5</th>\n",
       "      <td>Courier Charges</td>\n",
       "      <td>14</td>\n",
       "    </tr>\n",
       "    <tr>\n",
       "      <th>6</th>\n",
       "      <td>Lucknow - Delhi</td>\n",
       "      <td>13</td>\n",
       "    </tr>\n",
       "    <tr>\n",
       "      <th>7</th>\n",
       "      <td>Internet Expenses</td>\n",
       "      <td>12</td>\n",
       "    </tr>\n",
       "    <tr>\n",
       "      <th>8</th>\n",
       "      <td>Electricity Expenses</td>\n",
       "      <td>11</td>\n",
       "    </tr>\n",
       "    <tr>\n",
       "      <th>9</th>\n",
       "      <td>Wooden Cabinet 22-23</td>\n",
       "      <td>11</td>\n",
       "    </tr>\n",
       "    <tr>\n",
       "      <th>10</th>\n",
       "      <td>AXIS - Lucknow - 913010001710740</td>\n",
       "      <td>10</td>\n",
       "    </tr>\n",
       "    <tr>\n",
       "      <th>11</th>\n",
       "      <td>Machinery, Equipment &amp; Vehicles</td>\n",
       "      <td>7</td>\n",
       "    </tr>\n",
       "    <tr>\n",
       "      <th>12</th>\n",
       "      <td>Book Fair Expenses</td>\n",
       "      <td>5</td>\n",
       "    </tr>\n",
       "    <tr>\n",
       "      <th>13</th>\n",
       "      <td>Interest - Savings</td>\n",
       "      <td>4</td>\n",
       "    </tr>\n",
       "    <tr>\n",
       "      <th>14</th>\n",
       "      <td>Meditational Aids - Expenses</td>\n",
       "      <td>3</td>\n",
       "    </tr>\n",
       "    <tr>\n",
       "      <th>15</th>\n",
       "      <td>Printing Expenses</td>\n",
       "      <td>3</td>\n",
       "    </tr>\n",
       "    <tr>\n",
       "      <th>16</th>\n",
       "      <td>Stationery Expenses</td>\n",
       "      <td>3</td>\n",
       "    </tr>\n",
       "    <tr>\n",
       "      <th>17</th>\n",
       "      <td>Conveyance Expenses</td>\n",
       "      <td>2</td>\n",
       "    </tr>\n",
       "    <tr>\n",
       "      <th>18</th>\n",
       "      <td>Assets of Rs 5000 Or Below</td>\n",
       "      <td>2</td>\n",
       "    </tr>\n",
       "    <tr>\n",
       "      <th>19</th>\n",
       "      <td>Hiring Charges - Pandals,Tents,Utensils Etc.</td>\n",
       "      <td>2</td>\n",
       "    </tr>\n",
       "    <tr>\n",
       "      <th>20</th>\n",
       "      <td>Suraj Caterers - Advance</td>\n",
       "      <td>2</td>\n",
       "    </tr>\n",
       "    <tr>\n",
       "      <th>21</th>\n",
       "      <td>Donation in Kind - Assets</td>\n",
       "      <td>2</td>\n",
       "    </tr>\n",
       "    <tr>\n",
       "      <th>22</th>\n",
       "      <td>Branch Fund</td>\n",
       "      <td>2</td>\n",
       "    </tr>\n",
       "    <tr>\n",
       "      <th>23</th>\n",
       "      <td>Rep &amp; Maint - Machinery &amp; Equipments</td>\n",
       "      <td>2</td>\n",
       "    </tr>\n",
       "    <tr>\n",
       "      <th>24</th>\n",
       "      <td>Audio Visuals</td>\n",
       "      <td>2</td>\n",
       "    </tr>\n",
       "    <tr>\n",
       "      <th>25</th>\n",
       "      <td>Rep &amp; Maint - Computers</td>\n",
       "      <td>2</td>\n",
       "    </tr>\n",
       "    <tr>\n",
       "      <th>26</th>\n",
       "      <td>Assistance for Educational Fees</td>\n",
       "      <td>2</td>\n",
       "    </tr>\n",
       "    <tr>\n",
       "      <th>27</th>\n",
       "      <td>Donation-in-Kind Assets &lt; Rs 5000</td>\n",
       "      <td>1</td>\n",
       "    </tr>\n",
       "    <tr>\n",
       "      <th>28</th>\n",
       "      <td>Furniture &amp; Fittings</td>\n",
       "      <td>1</td>\n",
       "    </tr>\n",
       "    <tr>\n",
       "      <th>29</th>\n",
       "      <td>Clothes for Needy</td>\n",
       "      <td>1</td>\n",
       "    </tr>\n",
       "    <tr>\n",
       "      <th>30</th>\n",
       "      <td>Photocopying Expenses</td>\n",
       "      <td>1</td>\n",
       "    </tr>\n",
       "    <tr>\n",
       "      <th>31</th>\n",
       "      <td>Lucknow - Delhi (EPF)</td>\n",
       "      <td>1</td>\n",
       "    </tr>\n",
       "    <tr>\n",
       "      <th>32</th>\n",
       "      <td>Computer - Software</td>\n",
       "      <td>1</td>\n",
       "    </tr>\n",
       "    <tr>\n",
       "      <th>33</th>\n",
       "      <td>Security Deposit - Gas Cylinders</td>\n",
       "      <td>1</td>\n",
       "    </tr>\n",
       "    <tr>\n",
       "      <th>34</th>\n",
       "      <td>Advance to Navneet Singh</td>\n",
       "      <td>1</td>\n",
       "    </tr>\n",
       "    <tr>\n",
       "      <th>35</th>\n",
       "      <td>GIRISH RADIO CORPORATION</td>\n",
       "      <td>1</td>\n",
       "    </tr>\n",
       "    <tr>\n",
       "      <th>36</th>\n",
       "      <td>Rent</td>\n",
       "      <td>1</td>\n",
       "    </tr>\n",
       "    <tr>\n",
       "      <th>37</th>\n",
       "      <td>Sapna Caterers - Advance</td>\n",
       "      <td>1</td>\n",
       "    </tr>\n",
       "    <tr>\n",
       "      <th>38</th>\n",
       "      <td>RAJESH RADIO CORPORATION</td>\n",
       "      <td>1</td>\n",
       "    </tr>\n",
       "    <tr>\n",
       "      <th>39</th>\n",
       "      <td>Apex Sound Solutions Private Limited</td>\n",
       "      <td>1</td>\n",
       "    </tr>\n",
       "    <tr>\n",
       "      <th>40</th>\n",
       "      <td>EPF Payable</td>\n",
       "      <td>1</td>\n",
       "    </tr>\n",
       "    <tr>\n",
       "      <th>41</th>\n",
       "      <td>O/S Liabilities (2021-22)</td>\n",
       "      <td>1</td>\n",
       "    </tr>\n",
       "    <tr>\n",
       "      <th>42</th>\n",
       "      <td>Lucknow Operation Fund</td>\n",
       "      <td>1</td>\n",
       "    </tr>\n",
       "  </tbody>\n",
       "</table>\n",
       "</div>"
      ],
      "text/plain": [
       "                                     Particulars  count\n",
       "0                                  Food Expenses     26\n",
       "1                       Housekeeping Comsumables     25\n",
       "2                                Garden Expenses     20\n",
       "3                                       Salaries     20\n",
       "4                          Rep & Maint - General     17\n",
       "5                                Courier Charges     14\n",
       "6                                Lucknow - Delhi     13\n",
       "7                              Internet Expenses     12\n",
       "8                           Electricity Expenses     11\n",
       "9                           Wooden Cabinet 22-23     11\n",
       "10              AXIS - Lucknow - 913010001710740     10\n",
       "11               Machinery, Equipment & Vehicles      7\n",
       "12                            Book Fair Expenses      5\n",
       "13                            Interest - Savings      4\n",
       "14                  Meditational Aids - Expenses      3\n",
       "15                             Printing Expenses      3\n",
       "16                           Stationery Expenses      3\n",
       "17                           Conveyance Expenses      2\n",
       "18                    Assets of Rs 5000 Or Below      2\n",
       "19  Hiring Charges - Pandals,Tents,Utensils Etc.      2\n",
       "20                      Suraj Caterers - Advance      2\n",
       "21                     Donation in Kind - Assets      2\n",
       "22                                   Branch Fund      2\n",
       "23          Rep & Maint - Machinery & Equipments      2\n",
       "24                                 Audio Visuals      2\n",
       "25                       Rep & Maint - Computers      2\n",
       "26               Assistance for Educational Fees      2\n",
       "27             Donation-in-Kind Assets < Rs 5000      1\n",
       "28                          Furniture & Fittings      1\n",
       "29                             Clothes for Needy      1\n",
       "30                         Photocopying Expenses      1\n",
       "31                         Lucknow - Delhi (EPF)      1\n",
       "32                           Computer - Software      1\n",
       "33              Security Deposit - Gas Cylinders      1\n",
       "34                      Advance to Navneet Singh      1\n",
       "35                      GIRISH RADIO CORPORATION      1\n",
       "36                                          Rent      1\n",
       "37                      Sapna Caterers - Advance      1\n",
       "38                      RAJESH RADIO CORPORATION      1\n",
       "39          Apex Sound Solutions Private Limited      1\n",
       "40                                   EPF Payable      1\n",
       "41                     O/S Liabilities (2021-22)      1\n",
       "42                        Lucknow Operation Fund      1"
      ]
     },
     "execution_count": 72,
     "metadata": {},
     "output_type": "execute_result"
    }
   ],
   "source": [
    "particularscount= df1['Particulars'].value_counts().to_frame().reset_index()\n",
    "particularscount"
   ]
  },
  {
   "cell_type": "code",
   "execution_count": 73,
   "id": "384252cd-3bd2-43af-96b8-262783dfc35e",
   "metadata": {},
   "outputs": [
    {
     "name": "stderr",
     "output_type": "stream",
     "text": [
      "C:\\Users\\yashs\\AppData\\Local\\Temp\\ipykernel_39404\\1301094005.py:7: UserWarning:\n",
      "\n",
      "set_ticklabels() should only be used with a fixed number of ticks, i.e. after set_ticks() or using a FixedLocator.\n",
      "\n"
     ]
    },
    {
     "data": {
      "image/png": "[encoded data removed]",
      "text/plain": [
       "<Figure size 1200x800 with 1 Axes>"
      ]
     },
     "metadata": {},
     "output_type": "display_data"
    }
   ],
   "source": [
    "sns.set_theme(style=\"darkgrid\")\n",
    "# Create a bubble plot with 'Particulars' ordered by their 'count' and represented by bubble size\n",
    "plt.figure(figsize=(12, 8))\n",
    "scatter =  sns.scatterplot(data=particularscount, x=\"Particulars\", y=\"count\", s=200, alpha=0.9,hue='Particulars',legend=False)  # Adjust the marker size and transparency\n",
    "\n",
    "# Rotate x-axis labels for better readability\n",
    "scatter.set_xticklabels(scatter.get_xticklabels(), rotation=45, horizontalalignment='right')\n",
    "\n",
    "# Set plot title and axis labels\n",
    "plt.title('Bubble Plot of Particulars by Count', fontsize=14)\n",
    "plt.xlabel('Particulars', fontsize=12)\n",
    "plt.ylabel('Count', fontsize=12)\n",
    "\n",
    "# Show the plot\n",
    "plt.show()"
   ]
  },
  {
   "cell_type": "code",
   "execution_count": 74,
   "id": "b02083de-15ce-496d-8d57-4feebc609f02",
   "metadata": {},
   "outputs": [
    {
     "data": {
      "text/html": [
       "<div>\n",
       "<style scoped>\n",
       "    .dataframe tbody tr th:only-of-type {\n",
       "        vertical-align: middle;\n",
       "    }\n",
       "\n",
       "    .dataframe tbody tr th {\n",
       "        vertical-align: top;\n",
       "    }\n",
       "\n",
       "    .dataframe thead th {\n",
       "        text-align: right;\n",
       "    }\n",
       "</style>\n",
       "<table border=\"1\" class=\"dataframe\">\n",
       "  <thead>\n",
       "    <tr style=\"text-align: right;\">\n",
       "      <th></th>\n",
       "      <th>Particulars</th>\n",
       "      <th>Debit</th>\n",
       "      <th>Credit</th>\n",
       "    </tr>\n",
       "  </thead>\n",
       "  <tbody>\n",
       "    <tr>\n",
       "      <th>0</th>\n",
       "      <td>RAJESH RADIO CORPORATION</td>\n",
       "      <td>24662.0</td>\n",
       "      <td>0.0</td>\n",
       "    </tr>\n",
       "    <tr>\n",
       "      <th>1</th>\n",
       "      <td>AXIS - Lucknow - 913010001710740</td>\n",
       "      <td>0.0</td>\n",
       "      <td>520000.0</td>\n",
       "    </tr>\n",
       "    <tr>\n",
       "      <th>2</th>\n",
       "      <td>Advance to Navneet Singh</td>\n",
       "      <td>50936.0</td>\n",
       "      <td>0.0</td>\n",
       "    </tr>\n",
       "    <tr>\n",
       "      <th>3</th>\n",
       "      <td>Apex Sound Solutions Private Limited</td>\n",
       "      <td>139440.0</td>\n",
       "      <td>0.0</td>\n",
       "    </tr>\n",
       "    <tr>\n",
       "      <th>4</th>\n",
       "      <td>Assets of Rs 5000 Or Below</td>\n",
       "      <td>6499.0</td>\n",
       "      <td>0.0</td>\n",
       "    </tr>\n",
       "    <tr>\n",
       "      <th>5</th>\n",
       "      <td>Assistance for Educational Fees</td>\n",
       "      <td>33000.0</td>\n",
       "      <td>0.0</td>\n",
       "    </tr>\n",
       "    <tr>\n",
       "      <th>6</th>\n",
       "      <td>Audio Visuals</td>\n",
       "      <td>3000.0</td>\n",
       "      <td>0.0</td>\n",
       "    </tr>\n",
       "    <tr>\n",
       "      <th>7</th>\n",
       "      <td>Book Fair Expenses</td>\n",
       "      <td>72744.0</td>\n",
       "      <td>0.0</td>\n",
       "    </tr>\n",
       "    <tr>\n",
       "      <th>8</th>\n",
       "      <td>Branch Fund</td>\n",
       "      <td>182683.0</td>\n",
       "      <td>0.0</td>\n",
       "    </tr>\n",
       "    <tr>\n",
       "      <th>9</th>\n",
       "      <td>Clothes for Needy</td>\n",
       "      <td>26832.0</td>\n",
       "      <td>0.0</td>\n",
       "    </tr>\n",
       "    <tr>\n",
       "      <th>10</th>\n",
       "      <td>Computer - Software</td>\n",
       "      <td>614.0</td>\n",
       "      <td>0.0</td>\n",
       "    </tr>\n",
       "    <tr>\n",
       "      <th>11</th>\n",
       "      <td>Conveyance Expenses</td>\n",
       "      <td>5310.0</td>\n",
       "      <td>0.0</td>\n",
       "    </tr>\n",
       "    <tr>\n",
       "      <th>12</th>\n",
       "      <td>Courier Charges</td>\n",
       "      <td>1755.0</td>\n",
       "      <td>0.0</td>\n",
       "    </tr>\n",
       "    <tr>\n",
       "      <th>13</th>\n",
       "      <td>Donation in Kind - Assets</td>\n",
       "      <td>500.0</td>\n",
       "      <td>0.0</td>\n",
       "    </tr>\n",
       "    <tr>\n",
       "      <th>14</th>\n",
       "      <td>Donation-in-Kind Assets &lt; Rs 5000</td>\n",
       "      <td>200.0</td>\n",
       "      <td>0.0</td>\n",
       "    </tr>\n",
       "    <tr>\n",
       "      <th>15</th>\n",
       "      <td>EPF Payable</td>\n",
       "      <td>3300.0</td>\n",
       "      <td>0.0</td>\n",
       "    </tr>\n",
       "    <tr>\n",
       "      <th>16</th>\n",
       "      <td>Electricity Expenses</td>\n",
       "      <td>96129.0</td>\n",
       "      <td>0.0</td>\n",
       "    </tr>\n",
       "    <tr>\n",
       "      <th>17</th>\n",
       "      <td>Food Expenses</td>\n",
       "      <td>127428.0</td>\n",
       "      <td>0.0</td>\n",
       "    </tr>\n",
       "    <tr>\n",
       "      <th>18</th>\n",
       "      <td>Furniture &amp; Fittings</td>\n",
       "      <td>121413.0</td>\n",
       "      <td>0.0</td>\n",
       "    </tr>\n",
       "    <tr>\n",
       "      <th>19</th>\n",
       "      <td>GIRISH RADIO CORPORATION</td>\n",
       "      <td>0.0</td>\n",
       "      <td>6933.0</td>\n",
       "    </tr>\n",
       "    <tr>\n",
       "      <th>20</th>\n",
       "      <td>Garden Expenses</td>\n",
       "      <td>47135.0</td>\n",
       "      <td>0.0</td>\n",
       "    </tr>\n",
       "    <tr>\n",
       "      <th>21</th>\n",
       "      <td>Hiring Charges - Pandals,Tents,Utensils Etc.</td>\n",
       "      <td>19920.0</td>\n",
       "      <td>0.0</td>\n",
       "    </tr>\n",
       "    <tr>\n",
       "      <th>22</th>\n",
       "      <td>Housekeeping Comsumables</td>\n",
       "      <td>82942.0</td>\n",
       "      <td>0.0</td>\n",
       "    </tr>\n",
       "    <tr>\n",
       "      <th>23</th>\n",
       "      <td>Interest - Savings</td>\n",
       "      <td>0.0</td>\n",
       "      <td>7415.0</td>\n",
       "    </tr>\n",
       "    <tr>\n",
       "      <th>24</th>\n",
       "      <td>Internet Expenses</td>\n",
       "      <td>7068.0</td>\n",
       "      <td>0.0</td>\n",
       "    </tr>\n",
       "    <tr>\n",
       "      <th>25</th>\n",
       "      <td>Lucknow - Delhi</td>\n",
       "      <td>1469356.0</td>\n",
       "      <td>925000.0</td>\n",
       "    </tr>\n",
       "    <tr>\n",
       "      <th>26</th>\n",
       "      <td>Lucknow - Delhi (EPF)</td>\n",
       "      <td>3300.0</td>\n",
       "      <td>0.0</td>\n",
       "    </tr>\n",
       "    <tr>\n",
       "      <th>27</th>\n",
       "      <td>Lucknow Operation Fund</td>\n",
       "      <td>505535.0</td>\n",
       "      <td>0.0</td>\n",
       "    </tr>\n",
       "    <tr>\n",
       "      <th>28</th>\n",
       "      <td>Machinery, Equipment &amp; Vehicles</td>\n",
       "      <td>216646.0</td>\n",
       "      <td>0.0</td>\n",
       "    </tr>\n",
       "    <tr>\n",
       "      <th>29</th>\n",
       "      <td>Meditational Aids - Expenses</td>\n",
       "      <td>3570.0</td>\n",
       "      <td>0.0</td>\n",
       "    </tr>\n",
       "    <tr>\n",
       "      <th>30</th>\n",
       "      <td>O/S Liabilities (2021-22)</td>\n",
       "      <td>589.0</td>\n",
       "      <td>0.0</td>\n",
       "    </tr>\n",
       "    <tr>\n",
       "      <th>31</th>\n",
       "      <td>Photocopying Expenses</td>\n",
       "      <td>300.0</td>\n",
       "      <td>0.0</td>\n",
       "    </tr>\n",
       "    <tr>\n",
       "      <th>32</th>\n",
       "      <td>Printing Expenses</td>\n",
       "      <td>6326.0</td>\n",
       "      <td>0.0</td>\n",
       "    </tr>\n",
       "    <tr>\n",
       "      <th>33</th>\n",
       "      <td>Rent</td>\n",
       "      <td>5376.0</td>\n",
       "      <td>0.0</td>\n",
       "    </tr>\n",
       "    <tr>\n",
       "      <th>34</th>\n",
       "      <td>Rep &amp; Maint - Computers</td>\n",
       "      <td>1400.0</td>\n",
       "      <td>0.0</td>\n",
       "    </tr>\n",
       "    <tr>\n",
       "      <th>35</th>\n",
       "      <td>Rep &amp; Maint - General</td>\n",
       "      <td>18690.0</td>\n",
       "      <td>0.0</td>\n",
       "    </tr>\n",
       "    <tr>\n",
       "      <th>36</th>\n",
       "      <td>Rep &amp; Maint - Machinery &amp; Equipments</td>\n",
       "      <td>25630.0</td>\n",
       "      <td>0.0</td>\n",
       "    </tr>\n",
       "    <tr>\n",
       "      <th>37</th>\n",
       "      <td>Salaries</td>\n",
       "      <td>171600.0</td>\n",
       "      <td>0.0</td>\n",
       "    </tr>\n",
       "    <tr>\n",
       "      <th>38</th>\n",
       "      <td>Sapna Caterers - Advance</td>\n",
       "      <td>7640.0</td>\n",
       "      <td>0.0</td>\n",
       "    </tr>\n",
       "    <tr>\n",
       "      <th>39</th>\n",
       "      <td>Security Deposit - Gas Cylinders</td>\n",
       "      <td>4650.0</td>\n",
       "      <td>0.0</td>\n",
       "    </tr>\n",
       "    <tr>\n",
       "      <th>40</th>\n",
       "      <td>Stationery Expenses</td>\n",
       "      <td>4920.0</td>\n",
       "      <td>0.0</td>\n",
       "    </tr>\n",
       "    <tr>\n",
       "      <th>41</th>\n",
       "      <td>Suraj Caterers - Advance</td>\n",
       "      <td>15000.0</td>\n",
       "      <td>0.0</td>\n",
       "    </tr>\n",
       "    <tr>\n",
       "      <th>42</th>\n",
       "      <td>Wooden Cabinet 22-23</td>\n",
       "      <td>121413.0</td>\n",
       "      <td>0.0</td>\n",
       "    </tr>\n",
       "  </tbody>\n",
       "</table>\n",
       "</div>"
      ],
      "text/plain": [
       "                                     Particulars      Debit    Credit\n",
       "0                       RAJESH RADIO CORPORATION    24662.0       0.0\n",
       "1               AXIS - Lucknow - 913010001710740        0.0  520000.0\n",
       "2                       Advance to Navneet Singh    50936.0       0.0\n",
       "3           Apex Sound Solutions Private Limited   139440.0       0.0\n",
       "4                     Assets of Rs 5000 Or Below     6499.0       0.0\n",
       "5                Assistance for Educational Fees    33000.0       0.0\n",
       "6                                  Audio Visuals     3000.0       0.0\n",
       "7                             Book Fair Expenses    72744.0       0.0\n",
       "8                                    Branch Fund   182683.0       0.0\n",
       "9                              Clothes for Needy    26832.0       0.0\n",
       "10                           Computer - Software      614.0       0.0\n",
       "11                           Conveyance Expenses     5310.0       0.0\n",
       "12                               Courier Charges     1755.0       0.0\n",
       "13                     Donation in Kind - Assets      500.0       0.0\n",
       "14             Donation-in-Kind Assets < Rs 5000      200.0       0.0\n",
       "15                                   EPF Payable     3300.0       0.0\n",
       "16                          Electricity Expenses    96129.0       0.0\n",
       "17                                 Food Expenses   127428.0       0.0\n",
       "18                          Furniture & Fittings   121413.0       0.0\n",
       "19                      GIRISH RADIO CORPORATION        0.0    6933.0\n",
       "20                               Garden Expenses    47135.0       0.0\n",
       "21  Hiring Charges - Pandals,Tents,Utensils Etc.    19920.0       0.0\n",
       "22                      Housekeeping Comsumables    82942.0       0.0\n",
       "23                            Interest - Savings        0.0    7415.0\n",
       "24                             Internet Expenses     7068.0       0.0\n",
       "25                               Lucknow - Delhi  1469356.0  925000.0\n",
       "26                         Lucknow - Delhi (EPF)     3300.0       0.0\n",
       "27                        Lucknow Operation Fund   505535.0       0.0\n",
       "28               Machinery, Equipment & Vehicles   216646.0       0.0\n",
       "29                  Meditational Aids - Expenses     3570.0       0.0\n",
       "30                     O/S Liabilities (2021-22)      589.0       0.0\n",
       "31                         Photocopying Expenses      300.0       0.0\n",
       "32                             Printing Expenses     6326.0       0.0\n",
       "33                                          Rent     5376.0       0.0\n",
       "34                       Rep & Maint - Computers     1400.0       0.0\n",
       "35                         Rep & Maint - General    18690.0       0.0\n",
       "36          Rep & Maint - Machinery & Equipments    25630.0       0.0\n",
       "37                                      Salaries   171600.0       0.0\n",
       "38                      Sapna Caterers - Advance     7640.0       0.0\n",
       "39              Security Deposit - Gas Cylinders     4650.0       0.0\n",
       "40                           Stationery Expenses     4920.0       0.0\n",
       "41                      Suraj Caterers - Advance    15000.0       0.0\n",
       "42                          Wooden Cabinet 22-23   121413.0       0.0"
      ]
     },
     "execution_count": 74,
     "metadata": {},
     "output_type": "execute_result"
    }
   ],
   "source": [
    "summary2=df1.groupby(['Particulars']).agg({'Debit': 'sum', 'Credit': 'sum'}).reset_index()\n",
    "summary2"
   ]
  },
  {
   "cell_type": "markdown",
   "id": "a99aca73-dcf4-4ec0-a953-8d0185b2e939",
   "metadata": {},
   "source": [
    "## MAKING USESR INTERACTIVE PIE CHART BY THE USE OF PLOTLY "
   ]
  },
  {
   "cell_type": "code",
   "execution_count": 75,
   "id": "6241beb7-b0a0-48eb-95e8-20b100653499",
   "metadata": {},
   "outputs": [
    {
     "data": {
      "application/vnd.plotly.v1+json": {
       "config": {
        "plotlyServerURL": "https://plot.ly"
       },
       "data": [
        {
         "domain": {
          "x": [
           0,
           1
          ],
          "y": [
           0,
           1
          ]
         },
         "hovertemplate": "Particulars=%{label}<br>Debit=%{value}<extra></extra>",
         "labels": [
          " RAJESH RADIO CORPORATION",
          "Other",
          "Advance to Navneet Singh",
          "Apex Sound Solutions Private Limited",
          "Assets of Rs 5000 Or Below",
          "Assistance for Educational Fees",
          "Other",
          "Book Fair Expenses",
          "Branch Fund",
          "Clothes for Needy",
          "Other",
          "Conveyance Expenses",
          "Other",
          "Other",
          "Other",
          "Other",
          "Electricity Expenses",
          "Food Expenses",
          "Furniture & Fittings",
          "Other",
          "Garden Expenses",
          "Hiring Charges - Pandals,Tents,Utensils Etc.",
          "Housekeeping Comsumables",
          "Other",
          "Internet Expenses",
          "Lucknow - Delhi",
          "Other",
          "Lucknow Operation Fund",
          "Machinery, Equipment & Vehicles",
          "Other",
          "Other",
          "Other",
          "Printing Expenses",
          "Rent",
          "Other",
          "Rep & Maint - General",
          "Rep & Maint - Machinery & Equipments",
          "Salaries",
          "Sapna Caterers - Advance",
          "Security Deposit - Gas Cylinders",
          "Stationery Expenses",
          "Suraj Caterers - Advance",
          "Wooden Cabinet 22-23"
         ],
         "legendgroup": "",
         "name": "",
         "showlegend": true,
         "type": "pie",
         "values": [
          24662,
          0,
          50936,
          139440,
          6499,
          33000,
          3000,
          72744,
          182683,
          26832,
          614,
          5310,
          1755,
          500,
          200,
          3300,
          96129,
          127428,
          121413,
          0,
          47135,
          19920,
          82942,
          0,
          7068,
          1469356,
          3300,
          505535,
          216646,
          3570,
          589,
          300,
          6326,
          5376,
          1400,
          18690,
          25630,
          171600,
          7640,
          4650,
          4920,
          15000,
          121413
         ]
        }
       ],
       "layout": {
        "autosize": false,
        "height": 1300,
        "legend": {
         "tracegroupgap": 0
        },
        "showlegend": true,
        "template": {
         "data": {
          "bar": [
           {
            "error_x": {
             "color": "#2a3f5f"
            },
            "error_y": {
             "color": "#2a3f5f"
            },
            "marker": {
             "line": {
              "color": "#E5ECF6",
              "width": 0.5
             },
             "pattern": {
              "fillmode": "overlay",
              "size": 10,
              "solidity": 0.2
             }
            },
            "type": "bar"
           }
          ],
          "barpolar": [
           {
            "marker": {
             "line": {
              "color": "#E5ECF6",
              "width": 0.5
             },
             "pattern": {
              "fillmode": "overlay",
              "size": 10,
              "solidity": 0.2
             }
            },
            "type": "barpolar"
           }
          ],
          "carpet": [
           {
            "aaxis": {
             "endlinecolor": "#2a3f5f",
             "gridcolor": "white",
             "linecolor": "white",
             "minorgridcolor": "white",
             "startlinecolor": "#2a3f5f"
            },
            "baxis": {
             "endlinecolor": "#2a3f5f",
             "gridcolor": "white",
             "linecolor": "white",
             "minorgridcolor": "white",
             "startlinecolor": "#2a3f5f"
            },
            "type": "carpet"
           }
          ],
          "choropleth": [
           {
            "colorbar": {
             "outlinewidth": 0,
             "ticks": ""
            },
            "type": "choropleth"
           }
          ],
          "contour": [
           {
            "colorbar": {
             "outlinewidth": 0,
             "ticks": ""
            },
            "colorscale": [
             [
              0,
              "#0d0887"
             ],
             [
              0.1111111111111111,
              "#46039f"
             ],
             [
              0.2222222222222222,
              "#7201a8"
             ],
             [
              0.3333333333333333,
              "#9c179e"
             ],
             [
              0.4444444444444444,
              "#bd3786"
             ],
             [
              0.5555555555555556,
              "#d8576b"
             ],
             [
              0.6666666666666666,
              "#ed7953"
             ],
             [
              0.7777777777777778,
              "#fb9f3a"
             ],
             [
              0.8888888888888888,
              "#fdca26"
             ],
             [
              1,
              "#f0f921"
             ]
            ],
            "type": "contour"
           }
          ],
          "contourcarpet": [
           {
            "colorbar": {
             "outlinewidth": 0,
             "ticks": ""
            },
            "type": "contourcarpet"
           }
          ],
          "heatmap": [
           {
            "colorbar": {
             "outlinewidth": 0,
             "ticks": ""
            },
            "colorscale": [
             [
              0,
              "#0d0887"
             ],
             [
              0.1111111111111111,
              "#46039f"
             ],
             [
              0.2222222222222222,
              "#7201a8"
             ],
             [
              0.3333333333333333,
              "#9c179e"
             ],
             [
              0.4444444444444444,
              "#bd3786"
             ],
             [
              0.5555555555555556,
              "#d8576b"
             ],
             [
              0.6666666666666666,
              "#ed7953"
             ],
             [
              0.7777777777777778,
              "#fb9f3a"
             ],
             [
              0.8888888888888888,
              "#fdca26"
             ],
             [
              1,
              "#f0f921"
             ]
            ],
            "type": "heatmap"
           }
          ],
          "heatmapgl": [
           {
            "colorbar": {
             "outlinewidth": 0,
             "ticks": ""
            },
            "colorscale": [
             [
              0,
              "#0d0887"
             ],
             [
              0.1111111111111111,
              "#46039f"
             ],
             [
              0.2222222222222222,
              "#7201a8"
             ],
             [
              0.3333333333333333,
              "#9c179e"
             ],
             [
              0.4444444444444444,
              "#bd3786"
             ],
             [
              0.5555555555555556,
              "#d8576b"
             ],
             [
              0.6666666666666666,
              "#ed7953"
             ],
             [
              0.7777777777777778,
              "#fb9f3a"
             ],
             [
              0.8888888888888888,
              "#fdca26"
             ],
             [
              1,
              "#f0f921"
             ]
            ],
            "type": "heatmapgl"
           }
          ],
          "histogram": [
           {
            "marker": {
             "pattern": {
              "fillmode": "overlay",
              "size": 10,
              "solidity": 0.2
             }
            },
            "type": "histogram"
           }
          ],
          "histogram2d": [
           {
            "colorbar": {
             "outlinewidth": 0,
             "ticks": ""
            },
            "colorscale": [
             [
              0,
              "#0d0887"
             ],
             [
              0.1111111111111111,
              "#46039f"
             ],
             [
              0.2222222222222222,
              "#7201a8"
             ],
             [
              0.3333333333333333,
              "#9c179e"
             ],
             [
              0.4444444444444444,
              "#bd3786"
             ],
             [
              0.5555555555555556,
              "#d8576b"
             ],
             [
              0.6666666666666666,
              "#ed7953"
             ],
             [
              0.7777777777777778,
              "#fb9f3a"
             ],
             [
              0.8888888888888888,
              "#fdca26"
             ],
             [
              1,
              "#f0f921"
             ]
            ],
            "type": "histogram2d"
           }
          ],
          "histogram2dcontour": [
           {
            "colorbar": {
             "outlinewidth": 0,
             "ticks": ""
            },
            "colorscale": [
             [
              0,
              "#0d0887"
             ],
             [
              0.1111111111111111,
              "#46039f"
             ],
             [
              0.2222222222222222,
              "#7201a8"
             ],
             [
              0.3333333333333333,
              "#9c179e"
             ],
             [
              0.4444444444444444,
              "#bd3786"
             ],
             [
              0.5555555555555556,
              "#d8576b"
             ],
             [
              0.6666666666666666,
              "#ed7953"
             ],
             [
              0.7777777777777778,
              "#fb9f3a"
             ],
             [
              0.8888888888888888,
              "#fdca26"
             ],
             [
              1,
              "#f0f921"
             ]
            ],
            "type": "histogram2dcontour"
           }
          ],
          "mesh3d": [
           {
            "colorbar": {
             "outlinewidth": 0,
             "ticks": ""
            },
            "type": "mesh3d"
           }
          ],
          "parcoords": [
           {
            "line": {
             "colorbar": {
              "outlinewidth": 0,
              "ticks": ""
             }
            },
            "type": "parcoords"
           }
          ],
          "pie": [
           {
            "automargin": true,
            "type": "pie"
           }
          ],
          "scatter": [
           {
            "fillpattern": {
             "fillmode": "overlay",
             "size": 10,
             "solidity": 0.2
            },
            "type": "scatter"
           }
          ],
          "scatter3d": [
           {
            "line": {
             "colorbar": {
              "outlinewidth": 0,
              "ticks": ""
             }
            },
            "marker": {
             "colorbar": {
              "outlinewidth": 0,
              "ticks": ""
             }
            },
            "type": "scatter3d"
           }
          ],
          "scattercarpet": [
           {
            "marker": {
             "colorbar": {
              "outlinewidth": 0,
              "ticks": ""
             }
            },
            "type": "scattercarpet"
           }
          ],
          "scattergeo": [
           {
            "marker": {
             "colorbar": {
              "outlinewidth": 0,
              "ticks": ""
             }
            },
            "type": "scattergeo"
           }
          ],
          "scattergl": [
           {
            "marker": {
             "colorbar": {
              "outlinewidth": 0,
              "ticks": ""
             }
            },
            "type": "scattergl"
           }
          ],
          "scattermapbox": [
           {
            "marker": {
             "colorbar": {
              "outlinewidth": 0,
              "ticks": ""
             }
            },
            "type": "scattermapbox"
           }
          ],
          "scatterpolar": [
           {
            "marker": {
             "colorbar": {
              "outlinewidth": 0,
              "ticks": ""
             }
            },
            "type": "scatterpolar"
           }
          ],
          "scatterpolargl": [
           {
            "marker": {
             "colorbar": {
              "outlinewidth": 0,
              "ticks": ""
             }
            },
            "type": "scatterpolargl"
           }
          ],
          "scatterternary": [
           {
            "marker": {
             "colorbar": {
              "outlinewidth": 0,
              "ticks": ""
             }
            },
            "type": "scatterternary"
           }
          ],
          "surface": [
           {
            "colorbar": {
             "outlinewidth": 0,
             "ticks": ""
            },
            "colorscale": [
             [
              0,
              "#0d0887"
             ],
             [
              0.1111111111111111,
              "#46039f"
             ],
             [
              0.2222222222222222,
              "#7201a8"
             ],
             [
              0.3333333333333333,
              "#9c179e"
             ],
             [
              0.4444444444444444,
              "#bd3786"
             ],
             [
              0.5555555555555556,
              "#d8576b"
             ],
             [
              0.6666666666666666,
              "#ed7953"
             ],
             [
              0.7777777777777778,
              "#fb9f3a"
             ],
             [
              0.8888888888888888,
              "#fdca26"
             ],
             [
              1,
              "#f0f921"
             ]
            ],
            "type": "surface"
           }
          ],
          "table": [
           {
            "cells": {
             "fill": {
              "color": "#EBF0F8"
             },
             "line": {
              "color": "white"
             }
            },
            "header": {
             "fill": {
              "color": "#C8D4E3"
             },
             "line": {
              "color": "white"
             }
            },
            "type": "table"
           }
          ]
         },
         "layout": {
          "annotationdefaults": {
           "arrowcolor": "#2a3f5f",
           "arrowhead": 0,
           "arrowwidth": 1
          },
          "autotypenumbers": "strict",
          "coloraxis": {
           "colorbar": {
            "outlinewidth": 0,
            "ticks": ""
           }
          },
          "colorscale": {
           "diverging": [
            [
             0,
             "#8e0152"
            ],
            [
             0.1,
             "#c51b7d"
            ],
            [
             0.2,
             "#de77ae"
            ],
            [
             0.3,
             "#f1b6da"
            ],
            [
             0.4,
             "#fde0ef"
            ],
            [
             0.5,
             "#f7f7f7"
            ],
            [
             0.6,
             "#e6f5d0"
            ],
            [
             0.7,
             "#b8e186"
            ],
            [
             0.8,
             "#7fbc41"
            ],
            [
             0.9,
             "#4d9221"
            ],
            [
             1,
             "#276419"
            ]
           ],
           "sequential": [
            [
             0,
             "#0d0887"
            ],
            [
             0.1111111111111111,
             "#46039f"
            ],
            [
             0.2222222222222222,
             "#7201a8"
            ],
            [
             0.3333333333333333,
             "#9c179e"
            ],
            [
             0.4444444444444444,
             "#bd3786"
            ],
            [
             0.5555555555555556,
             "#d8576b"
            ],
            [
             0.6666666666666666,
             "#ed7953"
            ],
            [
             0.7777777777777778,
             "#fb9f3a"
            ],
            [
             0.8888888888888888,
             "#fdca26"
            ],
            [
             1,
             "#f0f921"
            ]
           ],
           "sequentialminus": [
            [
             0,
             "#0d0887"
            ],
            [
             0.1111111111111111,
             "#46039f"
            ],
            [
             0.2222222222222222,
             "#7201a8"
            ],
            [
             0.3333333333333333,
             "#9c179e"
            ],
            [
             0.4444444444444444,
             "#bd3786"
            ],
            [
             0.5555555555555556,
             "#d8576b"
            ],
            [
             0.6666666666666666,
             "#ed7953"
            ],
            [
             0.7777777777777778,
             "#fb9f3a"
            ],
            [
             0.8888888888888888,
             "#fdca26"
            ],
            [
             1,
             "#f0f921"
            ]
           ]
          },
          "colorway": [
           "#636efa",
           "#EF553B",
           "#00cc96",
           "#ab63fa",
           "#FFA15A",
           "#19d3f3",
           "#FF6692",
           "#B6E880",
           "#FF97FF",
           "#FECB52"
          ],
          "font": {
           "color": "#2a3f5f"
          },
          "geo": {
           "bgcolor": "white",
           "lakecolor": "white",
           "landcolor": "#E5ECF6",
           "showlakes": true,
           "showland": true,
           "subunitcolor": "white"
          },
          "hoverlabel": {
           "align": "left"
          },
          "hovermode": "closest",
          "mapbox": {
           "style": "light"
          },
          "paper_bgcolor": "white",
          "plot_bgcolor": "#E5ECF6",
          "polar": {
           "angularaxis": {
            "gridcolor": "white",
            "linecolor": "white",
            "ticks": ""
           },
           "bgcolor": "#E5ECF6",
           "radialaxis": {
            "gridcolor": "white",
            "linecolor": "white",
            "ticks": ""
           }
          },
          "scene": {
           "xaxis": {
            "backgroundcolor": "#E5ECF6",
            "gridcolor": "white",
            "gridwidth": 2,
            "linecolor": "white",
            "showbackground": true,
            "ticks": "",
            "zerolinecolor": "white"
           },
           "yaxis": {
            "backgroundcolor": "#E5ECF6",
            "gridcolor": "white",
            "gridwidth": 2,
            "linecolor": "white",
            "showbackground": true,
            "ticks": "",
            "zerolinecolor": "white"
           },
           "zaxis": {
            "backgroundcolor": "#E5ECF6",
            "gridcolor": "white",
            "gridwidth": 2,
            "linecolor": "white",
            "showbackground": true,
            "ticks": "",
            "zerolinecolor": "white"
           }
          },
          "shapedefaults": {
           "line": {
            "color": "#2a3f5f"
           }
          },
          "ternary": {
           "aaxis": {
            "gridcolor": "white",
            "linecolor": "white",
            "ticks": ""
           },
           "baxis": {
            "gridcolor": "white",
            "linecolor": "white",
            "ticks": ""
           },
           "bgcolor": "#E5ECF6",
           "caxis": {
            "gridcolor": "white",
            "linecolor": "white",
            "ticks": ""
           }
          },
          "title": {
           "x": 0.05
          },
          "xaxis": {
           "automargin": true,
           "gridcolor": "white",
           "linecolor": "white",
           "ticks": "",
           "title": {
            "standoff": 15
           },
           "zerolinecolor": "white",
           "zerolinewidth": 2
          },
          "yaxis": {
           "automargin": true,
           "gridcolor": "white",
           "linecolor": "white",
           "ticks": "",
           "title": {
            "standoff": 15
           },
           "zerolinecolor": "white",
           "zerolinewidth": 2
          }
         }
        },
        "title": {
         "text": "Breakdown of debit entries"
        },
        "width": 1000
       }
      },
      "image/png": "[encoded data removed]",
      "text/html": [
       "<div>                            <div id=\"af05cb63-add3-47b6-b7cb-8e235a86bcd3\" class=\"plotly-graph-div\" style=\"height:1300px; width:1000px;\"></div>            <script type=\"text/javascript\">                require([\"plotly\"], function(Plotly) {                    window.PLOTLYENV=window.PLOTLYENV || {};                                    if (document.getElementById(\"af05cb63-add3-47b6-b7cb-8e235a86bcd3\")) {                    Plotly.newPlot(                        \"af05cb63-add3-47b6-b7cb-8e235a86bcd3\",                        [{\"domain\":{\"x\":[0.0,1.0],\"y\":[0.0,1.0]},\"hovertemplate\":\"Particulars=%{label}<br>Debit=%{value}<extra></extra>\",\"labels\":[\" RAJESH RADIO CORPORATION\",\"Other\",\"Advance to Navneet Singh\",\"Apex Sound Solutions Private Limited\",\"Assets of Rs 5000 Or Below\",\"Assistance for Educational Fees\",\"Other\",\"Book Fair Expenses\",\"Branch Fund\",\"Clothes for Needy\",\"Other\",\"Conveyance Expenses\",\"Other\",\"Other\",\"Other\",\"Other\",\"Electricity Expenses\",\"Food Expenses\",\"Furniture & Fittings\",\"Other\",\"Garden Expenses\",\"Hiring Charges - Pandals,Tents,Utensils Etc.\",\"Housekeeping Comsumables\",\"Other\",\"Internet Expenses\",\"Lucknow - Delhi\",\"Other\",\"Lucknow Operation Fund\",\"Machinery, Equipment & Vehicles\",\"Other\",\"Other\",\"Other\",\"Printing Expenses\",\"Rent\",\"Other\",\"Rep & Maint - General\",\"Rep & Maint - Machinery & Equipments\",\"Salaries\",\"Sapna Caterers - Advance\",\"Security Deposit - Gas Cylinders\",\"Stationery Expenses\",\"Suraj Caterers - Advance\",\"Wooden Cabinet 22-23\"],\"legendgroup\":\"\",\"name\":\"\",\"showlegend\":true,\"values\":[24662.0,0.0,50936.0,139440.0,6499.0,33000.0,3000.0,72744.0,182683.0,26832.0,614.0,5310.0,1755.0,500.0,200.0,3300.0,96129.0,127428.0,121413.0,0.0,47135.0,19920.0,82942.0,0.0,7068.0,1469356.0,3300.0,505535.0,216646.0,3570.0,589.0,300.0,6326.0,5376.0,1400.0,18690.0,25630.0,171600.0,7640.0,4650.0,4920.0,15000.0,121413.0],\"type\":\"pie\"}],                        {\"template\":{\"data\":{\"histogram2dcontour\":[{\"type\":\"histogram2dcontour\",\"colorbar\":{\"outlinewidth\":0,\"ticks\":\"\"},\"colorscale\":[[0.0,\"#0d0887\"],[0.1111111111111111,\"#46039f\"],[0.2222222222222222,\"#7201a8\"],[0.3333333333333333,\"#9c179e\"],[0.4444444444444444,\"#bd3786\"],[0.5555555555555556,\"#d8576b\"],[0.6666666666666666,\"#ed7953\"],[0.7777777777777778,\"#fb9f3a\"],[0.8888888888888888,\"#fdca26\"],[1.0,\"#f0f921\"]]}],\"choropleth\":[{\"type\":\"choropleth\",\"colorbar\":{\"outlinewidth\":0,\"ticks\":\"\"}}],\"histogram2d\":[{\"type\":\"histogram2d\",\"colorbar\":{\"outlinewidth\":0,\"ticks\":\"\"},\"colorscale\":[[0.0,\"#0d0887\"],[0.1111111111111111,\"#46039f\"],[0.2222222222222222,\"#7201a8\"],[0.3333333333333333,\"#9c179e\"],[0.4444444444444444,\"#bd3786\"],[0.5555555555555556,\"#d8576b\"],[0.6666666666666666,\"#ed7953\"],[0.7777777777777778,\"#fb9f3a\"],[0.8888888888888888,\"#fdca26\"],[1.0,\"#f0f921\"]]}],\"heatmap\":[{\"type\":\"heatmap\",\"colorbar\":{\"outlinewidth\":0,\"ticks\":\"\"},\"colorscale\":[[0.0,\"#0d0887\"],[0.1111111111111111,\"#46039f\"],[0.2222222222222222,\"#7201a8\"],[0.3333333333333333,\"#9c179e\"],[0.4444444444444444,\"#bd3786\"],[0.5555555555555556,\"#d8576b\"],[0.6666666666666666,\"#ed7953\"],[0.7777777777777778,\"#fb9f3a\"],[0.8888888888888888,\"#fdca26\"],[1.0,\"#f0f921\"]]}],\"heatmapgl\":[{\"type\":\"heatmapgl\",\"colorbar\":{\"outlinewidth\":0,\"ticks\":\"\"},\"colorscale\":[[0.0,\"#0d0887\"],[0.1111111111111111,\"#46039f\"],[0.2222222222222222,\"#7201a8\"],[0.3333333333333333,\"#9c179e\"],[0.4444444444444444,\"#bd3786\"],[0.5555555555555556,\"#d8576b\"],[0.6666666666666666,\"#ed7953\"],[0.7777777777777778,\"#fb9f3a\"],[0.8888888888888888,\"#fdca26\"],[1.0,\"#f0f921\"]]}],\"contourcarpet\":[{\"type\":\"contourcarpet\",\"colorbar\":{\"outlinewidth\":0,\"ticks\":\"\"}}],\"contour\":[{\"type\":\"contour\",\"colorbar\":{\"outlinewidth\":0,\"ticks\":\"\"},\"colorscale\":[[0.0,\"#0d0887\"],[0.1111111111111111,\"#46039f\"],[0.2222222222222222,\"#7201a8\"],[0.3333333333333333,\"#9c179e\"],[0.4444444444444444,\"#bd3786\"],[0.5555555555555556,\"#d8576b\"],[0.6666666666666666,\"#ed7953\"],[0.7777777777777778,\"#fb9f3a\"],[0.8888888888888888,\"#fdca26\"],[1.0,\"#f0f921\"]]}],\"surface\":[{\"type\":\"surface\",\"colorbar\":{\"outlinewidth\":0,\"ticks\":\"\"},\"colorscale\":[[0.0,\"#0d0887\"],[0.1111111111111111,\"#46039f\"],[0.2222222222222222,\"#7201a8\"],[0.3333333333333333,\"#9c179e\"],[0.4444444444444444,\"#bd3786\"],[0.5555555555555556,\"#d8576b\"],[0.6666666666666666,\"#ed7953\"],[0.7777777777777778,\"#fb9f3a\"],[0.8888888888888888,\"#fdca26\"],[1.0,\"#f0f921\"]]}],\"mesh3d\":[{\"type\":\"mesh3d\",\"colorbar\":{\"outlinewidth\":0,\"ticks\":\"\"}}],\"scatter\":[{\"fillpattern\":{\"fillmode\":\"overlay\",\"size\":10,\"solidity\":0.2},\"type\":\"scatter\"}],\"parcoords\":[{\"type\":\"parcoords\",\"line\":{\"colorbar\":{\"outlinewidth\":0,\"ticks\":\"\"}}}],\"scatterpolargl\":[{\"type\":\"scatterpolargl\",\"marker\":{\"colorbar\":{\"outlinewidth\":0,\"ticks\":\"\"}}}],\"bar\":[{\"error_x\":{\"color\":\"#2a3f5f\"},\"error_y\":{\"color\":\"#2a3f5f\"},\"marker\":{\"line\":{\"color\":\"#E5ECF6\",\"width\":0.5},\"pattern\":{\"fillmode\":\"overlay\",\"size\":10,\"solidity\":0.2}},\"type\":\"bar\"}],\"scattergeo\":[{\"type\":\"scattergeo\",\"marker\":{\"colorbar\":{\"outlinewidth\":0,\"ticks\":\"\"}}}],\"scatterpolar\":[{\"type\":\"scatterpolar\",\"marker\":{\"colorbar\":{\"outlinewidth\":0,\"ticks\":\"\"}}}],\"histogram\":[{\"marker\":{\"pattern\":{\"fillmode\":\"overlay\",\"size\":10,\"solidity\":0.2}},\"type\":\"histogram\"}],\"scattergl\":[{\"type\":\"scattergl\",\"marker\":{\"colorbar\":{\"outlinewidth\":0,\"ticks\":\"\"}}}],\"scatter3d\":[{\"type\":\"scatter3d\",\"line\":{\"colorbar\":{\"outlinewidth\":0,\"ticks\":\"\"}},\"marker\":{\"colorbar\":{\"outlinewidth\":0,\"ticks\":\"\"}}}],\"scattermapbox\":[{\"type\":\"scattermapbox\",\"marker\":{\"colorbar\":{\"outlinewidth\":0,\"ticks\":\"\"}}}],\"scatterternary\":[{\"type\":\"scatterternary\",\"marker\":{\"colorbar\":{\"outlinewidth\":0,\"ticks\":\"\"}}}],\"scattercarpet\":[{\"type\":\"scattercarpet\",\"marker\":{\"colorbar\":{\"outlinewidth\":0,\"ticks\":\"\"}}}],\"carpet\":[{\"aaxis\":{\"endlinecolor\":\"#2a3f5f\",\"gridcolor\":\"white\",\"linecolor\":\"white\",\"minorgridcolor\":\"white\",\"startlinecolor\":\"#2a3f5f\"},\"baxis\":{\"endlinecolor\":\"#2a3f5f\",\"gridcolor\":\"white\",\"linecolor\":\"white\",\"minorgridcolor\":\"white\",\"startlinecolor\":\"#2a3f5f\"},\"type\":\"carpet\"}],\"table\":[{\"cells\":{\"fill\":{\"color\":\"#EBF0F8\"},\"line\":{\"color\":\"white\"}},\"header\":{\"fill\":{\"color\":\"#C8D4E3\"},\"line\":{\"color\":\"white\"}},\"type\":\"table\"}],\"barpolar\":[{\"marker\":{\"line\":{\"color\":\"#E5ECF6\",\"width\":0.5},\"pattern\":{\"fillmode\":\"overlay\",\"size\":10,\"solidity\":0.2}},\"type\":\"barpolar\"}],\"pie\":[{\"automargin\":true,\"type\":\"pie\"}]},\"layout\":{\"autotypenumbers\":\"strict\",\"colorway\":[\"#636efa\",\"#EF553B\",\"#00cc96\",\"#ab63fa\",\"#FFA15A\",\"#19d3f3\",\"#FF6692\",\"#B6E880\",\"#FF97FF\",\"#FECB52\"],\"font\":{\"color\":\"#2a3f5f\"},\"hovermode\":\"closest\",\"hoverlabel\":{\"align\":\"left\"},\"paper_bgcolor\":\"white\",\"plot_bgcolor\":\"#E5ECF6\",\"polar\":{\"bgcolor\":\"#E5ECF6\",\"angularaxis\":{\"gridcolor\":\"white\",\"linecolor\":\"white\",\"ticks\":\"\"},\"radialaxis\":{\"gridcolor\":\"white\",\"linecolor\":\"white\",\"ticks\":\"\"}},\"ternary\":{\"bgcolor\":\"#E5ECF6\",\"aaxis\":{\"gridcolor\":\"white\",\"linecolor\":\"white\",\"ticks\":\"\"},\"baxis\":{\"gridcolor\":\"white\",\"linecolor\":\"white\",\"ticks\":\"\"},\"caxis\":{\"gridcolor\":\"white\",\"linecolor\":\"white\",\"ticks\":\"\"}},\"coloraxis\":{\"colorbar\":{\"outlinewidth\":0,\"ticks\":\"\"}},\"colorscale\":{\"sequential\":[[0.0,\"#0d0887\"],[0.1111111111111111,\"#46039f\"],[0.2222222222222222,\"#7201a8\"],[0.3333333333333333,\"#9c179e\"],[0.4444444444444444,\"#bd3786\"],[0.5555555555555556,\"#d8576b\"],[0.6666666666666666,\"#ed7953\"],[0.7777777777777778,\"#fb9f3a\"],[0.8888888888888888,\"#fdca26\"],[1.0,\"#f0f921\"]],\"sequentialminus\":[[0.0,\"#0d0887\"],[0.1111111111111111,\"#46039f\"],[0.2222222222222222,\"#7201a8\"],[0.3333333333333333,\"#9c179e\"],[0.4444444444444444,\"#bd3786\"],[0.5555555555555556,\"#d8576b\"],[0.6666666666666666,\"#ed7953\"],[0.7777777777777778,\"#fb9f3a\"],[0.8888888888888888,\"#fdca26\"],[1.0,\"#f0f921\"]],\"diverging\":[[0,\"#8e0152\"],[0.1,\"#c51b7d\"],[0.2,\"#de77ae\"],[0.3,\"#f1b6da\"],[0.4,\"#fde0ef\"],[0.5,\"#f7f7f7\"],[0.6,\"#e6f5d0\"],[0.7,\"#b8e186\"],[0.8,\"#7fbc41\"],[0.9,\"#4d9221\"],[1,\"#276419\"]]},\"xaxis\":{\"gridcolor\":\"white\",\"linecolor\":\"white\",\"ticks\":\"\",\"title\":{\"standoff\":15},\"zerolinecolor\":\"white\",\"automargin\":true,\"zerolinewidth\":2},\"yaxis\":{\"gridcolor\":\"white\",\"linecolor\":\"white\",\"ticks\":\"\",\"title\":{\"standoff\":15},\"zerolinecolor\":\"white\",\"automargin\":true,\"zerolinewidth\":2},\"scene\":{\"xaxis\":{\"backgroundcolor\":\"#E5ECF6\",\"gridcolor\":\"white\",\"linecolor\":\"white\",\"showbackground\":true,\"ticks\":\"\",\"zerolinecolor\":\"white\",\"gridwidth\":2},\"yaxis\":{\"backgroundcolor\":\"#E5ECF6\",\"gridcolor\":\"white\",\"linecolor\":\"white\",\"showbackground\":true,\"ticks\":\"\",\"zerolinecolor\":\"white\",\"gridwidth\":2},\"zaxis\":{\"backgroundcolor\":\"#E5ECF6\",\"gridcolor\":\"white\",\"linecolor\":\"white\",\"showbackground\":true,\"ticks\":\"\",\"zerolinecolor\":\"white\",\"gridwidth\":2}},\"shapedefaults\":{\"line\":{\"color\":\"#2a3f5f\"}},\"annotationdefaults\":{\"arrowcolor\":\"#2a3f5f\",\"arrowhead\":0,\"arrowwidth\":1},\"geo\":{\"bgcolor\":\"white\",\"landcolor\":\"#E5ECF6\",\"subunitcolor\":\"white\",\"showland\":true,\"showlakes\":true,\"lakecolor\":\"white\"},\"title\":{\"x\":0.05},\"mapbox\":{\"style\":\"light\"}}},\"legend\":{\"tracegroupgap\":0},\"title\":{\"text\":\"Breakdown of debit entries\"},\"autosize\":false,\"width\":1000,\"height\":1300,\"showlegend\":true},                        {\"responsive\": true}                    ).then(function(){\n",
       "                            \n",
       "var gd = document.getElementById('af05cb63-add3-47b6-b7cb-8e235a86bcd3');\n",
       "var x = new MutationObserver(function (mutations, observer) {{\n",
       "        var display = window.getComputedStyle(gd).display;\n",
       "        if (!display || display === 'none') {{\n",
       "            console.log([gd, 'removed!']);\n",
       "            Plotly.purge(gd);\n",
       "            observer.disconnect();\n",
       "        }}\n",
       "}});\n",
       "\n",
       "// Listen for the removal of the full notebook cells\n",
       "var notebookContainer = gd.closest('#notebook-container');\n",
       "if (notebookContainer) {{\n",
       "    x.observe(notebookContainer, {childList: true});\n",
       "}}\n",
       "\n",
       "// Listen for the clearing of the current output cell\n",
       "var outputEl = gd.closest('.output');\n",
       "if (outputEl) {{\n",
       "    x.observe(outputEl, {childList: true});\n",
       "}}\n",
       "\n",
       "                        })                };                });            </script>        </div>"
      ]
     },
     "metadata": {},
     "output_type": "display_data"
    }
   ],
   "source": [
    "\n",
    "summary2.loc[summary2['Debit'] < 4000, 'Particulars'] = 'Other' \n",
    "figdeb = px.pie(summary2, values='Debit', names='Particulars', title='Breakdown of debit entries')\n",
    "figdeb.update_layout(\n",
    "    autosize=False,\n",
    "    width=1000,\n",
    "    height=1300,\n",
    "    showlegend=True\n",
    ")\n",
    "figdeb.show()"
   ]
  },
  {
   "cell_type": "code",
   "execution_count": 76,
   "id": "8d39a8cc-cd4d-4f8a-bd67-d154da18f1d7",
   "metadata": {},
   "outputs": [
    {
     "data": {
      "application/vnd.plotly.v1+json": {
       "config": {
        "plotlyServerURL": "https://plot.ly"
       },
       "data": [
        {
         "domain": {
          "x": [
           0,
           1
          ],
          "y": [
           0,
           1
          ]
         },
         "hovertemplate": "Particulars=%{label}<br>Credit=%{value}<extra></extra>",
         "labels": [
          "Other credit",
          "Other",
          "Other credit",
          "Other credit",
          "Other credit",
          "Other credit",
          "Other credit",
          "Other credit",
          "Other credit",
          "Other credit",
          "Other credit",
          "Other credit",
          "Other credit",
          "Other credit",
          "Other credit",
          "Other credit",
          "Other credit",
          "Other credit",
          "Other credit",
          "Other",
          "Other credit",
          "Other credit",
          "Other credit",
          "Other",
          "Other credit",
          "Lucknow - Delhi",
          "Other credit",
          "Other credit",
          "Other credit",
          "Other credit",
          "Other credit",
          "Other credit",
          "Other credit",
          "Other credit",
          "Other credit",
          "Other credit",
          "Other credit",
          "Other credit",
          "Other credit",
          "Other credit",
          "Other credit",
          "Other credit",
          "Other credit"
         ],
         "legendgroup": "",
         "name": "",
         "showlegend": true,
         "type": "pie",
         "values": [
          0,
          520000,
          0,
          0,
          0,
          0,
          0,
          0,
          0,
          0,
          0,
          0,
          0,
          0,
          0,
          0,
          0,
          0,
          0,
          6933,
          0,
          0,
          0,
          7415,
          0,
          925000,
          0,
          0,
          0,
          0,
          0,
          0,
          0,
          0,
          0,
          0,
          0,
          0,
          0,
          0,
          0,
          0,
          0
         ]
        }
       ],
       "layout": {
        "autosize": false,
        "height": 1300,
        "legend": {
         "tracegroupgap": 0
        },
        "showlegend": true,
        "template": {
         "data": {
          "bar": [
           {
            "error_x": {
             "color": "#2a3f5f"
            },
            "error_y": {
             "color": "#2a3f5f"
            },
            "marker": {
             "line": {
              "color": "#E5ECF6",
              "width": 0.5
             },
             "pattern": {
              "fillmode": "overlay",
              "size": 10,
              "solidity": 0.2
             }
            },
            "type": "bar"
           }
          ],
          "barpolar": [
           {
            "marker": {
             "line": {
              "color": "#E5ECF6",
              "width": 0.5
             },
             "pattern": {
              "fillmode": "overlay",
              "size": 10,
              "solidity": 0.2
             }
            },
            "type": "barpolar"
           }
          ],
          "carpet": [
           {
            "aaxis": {
             "endlinecolor": "#2a3f5f",
             "gridcolor": "white",
             "linecolor": "white",
             "minorgridcolor": "white",
             "startlinecolor": "#2a3f5f"
            },
            "baxis": {
             "endlinecolor": "#2a3f5f",
             "gridcolor": "white",
             "linecolor": "white",
             "minorgridcolor": "white",
             "startlinecolor": "#2a3f5f"
            },
            "type": "carpet"
           }
          ],
          "choropleth": [
           {
            "colorbar": {
             "outlinewidth": 0,
             "ticks": ""
            },
            "type": "choropleth"
           }
          ],
          "contour": [
           {
            "colorbar": {
             "outlinewidth": 0,
             "ticks": ""
            },
            "colorscale": [
             [
              0,
              "#0d0887"
             ],
             [
              0.1111111111111111,
              "#46039f"
             ],
             [
              0.2222222222222222,
              "#7201a8"
             ],
             [
              0.3333333333333333,
              "#9c179e"
             ],
             [
              0.4444444444444444,
              "#bd3786"
             ],
             [
              0.5555555555555556,
              "#d8576b"
             ],
             [
              0.6666666666666666,
              "#ed7953"
             ],
             [
              0.7777777777777778,
              "#fb9f3a"
             ],
             [
              0.8888888888888888,
              "#fdca26"
             ],
             [
              1,
              "#f0f921"
             ]
            ],
            "type": "contour"
           }
          ],
          "contourcarpet": [
           {
            "colorbar": {
             "outlinewidth": 0,
             "ticks": ""
            },
            "type": "contourcarpet"
           }
          ],
          "heatmap": [
           {
            "colorbar": {
             "outlinewidth": 0,
             "ticks": ""
            },
            "colorscale": [
             [
              0,
              "#0d0887"
             ],
             [
              0.1111111111111111,
              "#46039f"
             ],
             [
              0.2222222222222222,
              "#7201a8"
             ],
             [
              0.3333333333333333,
              "#9c179e"
             ],
             [
              0.4444444444444444,
              "#bd3786"
             ],
             [
              0.5555555555555556,
              "#d8576b"
             ],
             [
              0.6666666666666666,
              "#ed7953"
             ],
             [
              0.7777777777777778,
              "#fb9f3a"
             ],
             [
              0.8888888888888888,
              "#fdca26"
             ],
             [
              1,
              "#f0f921"
             ]
            ],
            "type": "heatmap"
           }
          ],
          "heatmapgl": [
           {
            "colorbar": {
             "outlinewidth": 0,
             "ticks": ""
            },
            "colorscale": [
             [
              0,
              "#0d0887"
             ],
             [
              0.1111111111111111,
              "#46039f"
             ],
             [
              0.2222222222222222,
              "#7201a8"
             ],
             [
              0.3333333333333333,
              "#9c179e"
             ],
             [
              0.4444444444444444,
              "#bd3786"
             ],
             [
              0.5555555555555556,
              "#d8576b"
             ],
             [
              0.6666666666666666,
              "#ed7953"
             ],
             [
              0.7777777777777778,
              "#fb9f3a"
             ],
             [
              0.8888888888888888,
              "#fdca26"
             ],
             [
              1,
              "#f0f921"
             ]
            ],
            "type": "heatmapgl"
           }
          ],
          "histogram": [
           {
            "marker": {
             "pattern": {
              "fillmode": "overlay",
              "size": 10,
              "solidity": 0.2
             }
            },
            "type": "histogram"
           }
          ],
          "histogram2d": [
           {
            "colorbar": {
             "outlinewidth": 0,
             "ticks": ""
            },
            "colorscale": [
             [
              0,
              "#0d0887"
             ],
             [
              0.1111111111111111,
              "#46039f"
             ],
             [
              0.2222222222222222,
              "#7201a8"
             ],
             [
              0.3333333333333333,
              "#9c179e"
             ],
             [
              0.4444444444444444,
              "#bd3786"
             ],
             [
              0.5555555555555556,
              "#d8576b"
             ],
             [
              0.6666666666666666,
              "#ed7953"
             ],
             [
              0.7777777777777778,
              "#fb9f3a"
             ],
             [
              0.8888888888888888,
              "#fdca26"
             ],
             [
              1,
              "#f0f921"
             ]
            ],
            "type": "histogram2d"
           }
          ],
          "histogram2dcontour": [
           {
            "colorbar": {
             "outlinewidth": 0,
             "ticks": ""
            },
            "colorscale": [
             [
              0,
              "#0d0887"
             ],
             [
              0.1111111111111111,
              "#46039f"
             ],
             [
              0.2222222222222222,
              "#7201a8"
             ],
             [
              0.3333333333333333,
              "#9c179e"
             ],
             [
              0.4444444444444444,
              "#bd3786"
             ],
             [
              0.5555555555555556,
              "#d8576b"
             ],
             [
              0.6666666666666666,
              "#ed7953"
             ],
             [
              0.7777777777777778,
              "#fb9f3a"
             ],
             [
              0.8888888888888888,
              "#fdca26"
             ],
             [
              1,
              "#f0f921"
             ]
            ],
            "type": "histogram2dcontour"
           }
          ],
          "mesh3d": [
           {
            "colorbar": {
             "outlinewidth": 0,
             "ticks": ""
            },
            "type": "mesh3d"
           }
          ],
          "parcoords": [
           {
            "line": {
             "colorbar": {
              "outlinewidth": 0,
              "ticks": ""
             }
            },
            "type": "parcoords"
           }
          ],
          "pie": [
           {
            "automargin": true,
            "type": "pie"
           }
          ],
          "scatter": [
           {
            "fillpattern": {
             "fillmode": "overlay",
             "size": 10,
             "solidity": 0.2
            },
            "type": "scatter"
           }
          ],
          "scatter3d": [
           {
            "line": {
             "colorbar": {
              "outlinewidth": 0,
              "ticks": ""
             }
            },
            "marker": {
             "colorbar": {
              "outlinewidth": 0,
              "ticks": ""
             }
            },
            "type": "scatter3d"
           }
          ],
          "scattercarpet": [
           {
            "marker": {
             "colorbar": {
              "outlinewidth": 0,
              "ticks": ""
             }
            },
            "type": "scattercarpet"
           }
          ],
          "scattergeo": [
           {
            "marker": {
             "colorbar": {
              "outlinewidth": 0,
              "ticks": ""
             }
            },
            "type": "scattergeo"
           }
          ],
          "scattergl": [
           {
            "marker": {
             "colorbar": {
              "outlinewidth": 0,
              "ticks": ""
             }
            },
            "type": "scattergl"
           }
          ],
          "scattermapbox": [
           {
            "marker": {
             "colorbar": {
              "outlinewidth": 0,
              "ticks": ""
             }
            },
            "type": "scattermapbox"
           }
          ],
          "scatterpolar": [
           {
            "marker": {
             "colorbar": {
              "outlinewidth": 0,
              "ticks": ""
             }
            },
            "type": "scatterpolar"
           }
          ],
          "scatterpolargl": [
           {
            "marker": {
             "colorbar": {
              "outlinewidth": 0,
              "ticks": ""
             }
            },
            "type": "scatterpolargl"
           }
          ],
          "scatterternary": [
           {
            "marker": {
             "colorbar": {
              "outlinewidth": 0,
              "ticks": ""
             }
            },
            "type": "scatterternary"
           }
          ],
          "surface": [
           {
            "colorbar": {
             "outlinewidth": 0,
             "ticks": ""
            },
            "colorscale": [
             [
              0,
              "#0d0887"
             ],
             [
              0.1111111111111111,
              "#46039f"
             ],
             [
              0.2222222222222222,
              "#7201a8"
             ],
             [
              0.3333333333333333,
              "#9c179e"
             ],
             [
              0.4444444444444444,
              "#bd3786"
             ],
             [
              0.5555555555555556,
              "#d8576b"
             ],
             [
              0.6666666666666666,
              "#ed7953"
             ],
             [
              0.7777777777777778,
              "#fb9f3a"
             ],
             [
              0.8888888888888888,
              "#fdca26"
             ],
             [
              1,
              "#f0f921"
             ]
            ],
            "type": "surface"
           }
          ],
          "table": [
           {
            "cells": {
             "fill": {
              "color": "#EBF0F8"
             },
             "line": {
              "color": "white"
             }
            },
            "header": {
             "fill": {
              "color": "#C8D4E3"
             },
             "line": {
              "color": "white"
             }
            },
            "type": "table"
           }
          ]
         },
         "layout": {
          "annotationdefaults": {
           "arrowcolor": "#2a3f5f",
           "arrowhead": 0,
           "arrowwidth": 1
          },
          "autotypenumbers": "strict",
          "coloraxis": {
           "colorbar": {
            "outlinewidth": 0,
            "ticks": ""
           }
          },
          "colorscale": {
           "diverging": [
            [
             0,
             "#8e0152"
            ],
            [
             0.1,
             "#c51b7d"
            ],
            [
             0.2,
             "#de77ae"
            ],
            [
             0.3,
             "#f1b6da"
            ],
            [
             0.4,
             "#fde0ef"
            ],
            [
             0.5,
             "#f7f7f7"
            ],
            [
             0.6,
             "#e6f5d0"
            ],
            [
             0.7,
             "#b8e186"
            ],
            [
             0.8,
             "#7fbc41"
            ],
            [
             0.9,
             "#4d9221"
            ],
            [
             1,
             "#276419"
            ]
           ],
           "sequential": [
            [
             0,
             "#0d0887"
            ],
            [
             0.1111111111111111,
             "#46039f"
            ],
            [
             0.2222222222222222,
             "#7201a8"
            ],
            [
             0.3333333333333333,
             "#9c179e"
            ],
            [
             0.4444444444444444,
             "#bd3786"
            ],
            [
             0.5555555555555556,
             "#d8576b"
            ],
            [
             0.6666666666666666,
             "#ed7953"
            ],
            [
             0.7777777777777778,
             "#fb9f3a"
            ],
            [
             0.8888888888888888,
             "#fdca26"
            ],
            [
             1,
             "#f0f921"
            ]
           ],
           "sequentialminus": [
            [
             0,
             "#0d0887"
            ],
            [
             0.1111111111111111,
             "#46039f"
            ],
            [
             0.2222222222222222,
             "#7201a8"
            ],
            [
             0.3333333333333333,
             "#9c179e"
            ],
            [
             0.4444444444444444,
             "#bd3786"
            ],
            [
             0.5555555555555556,
             "#d8576b"
            ],
            [
             0.6666666666666666,
             "#ed7953"
            ],
            [
             0.7777777777777778,
             "#fb9f3a"
            ],
            [
             0.8888888888888888,
             "#fdca26"
            ],
            [
             1,
             "#f0f921"
            ]
           ]
          },
          "colorway": [
           "#636efa",
           "#EF553B",
           "#00cc96",
           "#ab63fa",
           "#FFA15A",
           "#19d3f3",
           "#FF6692",
           "#B6E880",
           "#FF97FF",
           "#FECB52"
          ],
          "font": {
           "color": "#2a3f5f"
          },
          "geo": {
           "bgcolor": "white",
           "lakecolor": "white",
           "landcolor": "#E5ECF6",
           "showlakes": true,
           "showland": true,
           "subunitcolor": "white"
          },
          "hoverlabel": {
           "align": "left"
          },
          "hovermode": "closest",
          "mapbox": {
           "style": "light"
          },
          "paper_bgcolor": "white",
          "plot_bgcolor": "#E5ECF6",
          "polar": {
           "angularaxis": {
            "gridcolor": "white",
            "linecolor": "white",
            "ticks": ""
           },
           "bgcolor": "#E5ECF6",
           "radialaxis": {
            "gridcolor": "white",
            "linecolor": "white",
            "ticks": ""
           }
          },
          "scene": {
           "xaxis": {
            "backgroundcolor": "#E5ECF6",
            "gridcolor": "white",
            "gridwidth": 2,
            "linecolor": "white",
            "showbackground": true,
            "ticks": "",
            "zerolinecolor": "white"
           },
           "yaxis": {
            "backgroundcolor": "#E5ECF6",
            "gridcolor": "white",
            "gridwidth": 2,
            "linecolor": "white",
            "showbackground": true,
            "ticks": "",
            "zerolinecolor": "white"
           },
           "zaxis": {
            "backgroundcolor": "#E5ECF6",
            "gridcolor": "white",
            "gridwidth": 2,
            "linecolor": "white",
            "showbackground": true,
            "ticks": "",
            "zerolinecolor": "white"
           }
          },
          "shapedefaults": {
           "line": {
            "color": "#2a3f5f"
           }
          },
          "ternary": {
           "aaxis": {
            "gridcolor": "white",
            "linecolor": "white",
            "ticks": ""
           },
           "baxis": {
            "gridcolor": "white",
            "linecolor": "white",
            "ticks": ""
           },
           "bgcolor": "#E5ECF6",
           "caxis": {
            "gridcolor": "white",
            "linecolor": "white",
            "ticks": ""
           }
          },
          "title": {
           "x": 0.05
          },
          "xaxis": {
           "automargin": true,
           "gridcolor": "white",
           "linecolor": "white",
           "ticks": "",
           "title": {
            "standoff": 15
           },
           "zerolinecolor": "white",
           "zerolinewidth": 2
          },
          "yaxis": {
           "automargin": true,
           "gridcolor": "white",
           "linecolor": "white",
           "ticks": "",
           "title": {
            "standoff": 15
           },
           "zerolinecolor": "white",
           "zerolinewidth": 2
          }
         }
        },
        "title": {
         "text": "Breakdown of Credit entries"
        },
        "width": 1000
       }
      },
      "image/png": "[encoded data removed]",
      "text/html": [
       "<div>                            <div id=\"486b59be-4d0e-4610-ab18-11f42ff8fbef\" class=\"plotly-graph-div\" style=\"height:1300px; width:1000px;\"></div>            <script type=\"text/javascript\">                require([\"plotly\"], function(Plotly) {                    window.PLOTLYENV=window.PLOTLYENV || {};                                    if (document.getElementById(\"486b59be-4d0e-4610-ab18-11f42ff8fbef\")) {                    Plotly.newPlot(                        \"486b59be-4d0e-4610-ab18-11f42ff8fbef\",                        [{\"domain\":{\"x\":[0.0,1.0],\"y\":[0.0,1.0]},\"hovertemplate\":\"Particulars=%{label}<br>Credit=%{value}<extra></extra>\",\"labels\":[\"Other credit\",\"Other\",\"Other credit\",\"Other credit\",\"Other credit\",\"Other credit\",\"Other credit\",\"Other credit\",\"Other credit\",\"Other credit\",\"Other credit\",\"Other credit\",\"Other credit\",\"Other credit\",\"Other credit\",\"Other credit\",\"Other credit\",\"Other credit\",\"Other credit\",\"Other\",\"Other credit\",\"Other credit\",\"Other credit\",\"Other\",\"Other credit\",\"Lucknow - Delhi\",\"Other credit\",\"Other credit\",\"Other credit\",\"Other credit\",\"Other credit\",\"Other credit\",\"Other credit\",\"Other credit\",\"Other credit\",\"Other credit\",\"Other credit\",\"Other credit\",\"Other credit\",\"Other credit\",\"Other credit\",\"Other credit\",\"Other credit\"],\"legendgroup\":\"\",\"name\":\"\",\"showlegend\":true,\"values\":[0.0,520000.0,0.0,0.0,0.0,0.0,0.0,0.0,0.0,0.0,0.0,0.0,0.0,0.0,0.0,0.0,0.0,0.0,0.0,6933.0,0.0,0.0,0.0,7415.0,0.0,925000.0,0.0,0.0,0.0,0.0,0.0,0.0,0.0,0.0,0.0,0.0,0.0,0.0,0.0,0.0,0.0,0.0,0.0],\"type\":\"pie\"}],                        {\"template\":{\"data\":{\"histogram2dcontour\":[{\"type\":\"histogram2dcontour\",\"colorbar\":{\"outlinewidth\":0,\"ticks\":\"\"},\"colorscale\":[[0.0,\"#0d0887\"],[0.1111111111111111,\"#46039f\"],[0.2222222222222222,\"#7201a8\"],[0.3333333333333333,\"#9c179e\"],[0.4444444444444444,\"#bd3786\"],[0.5555555555555556,\"#d8576b\"],[0.6666666666666666,\"#ed7953\"],[0.7777777777777778,\"#fb9f3a\"],[0.8888888888888888,\"#fdca26\"],[1.0,\"#f0f921\"]]}],\"choropleth\":[{\"type\":\"choropleth\",\"colorbar\":{\"outlinewidth\":0,\"ticks\":\"\"}}],\"histogram2d\":[{\"type\":\"histogram2d\",\"colorbar\":{\"outlinewidth\":0,\"ticks\":\"\"},\"colorscale\":[[0.0,\"#0d0887\"],[0.1111111111111111,\"#46039f\"],[0.2222222222222222,\"#7201a8\"],[0.3333333333333333,\"#9c179e\"],[0.4444444444444444,\"#bd3786\"],[0.5555555555555556,\"#d8576b\"],[0.6666666666666666,\"#ed7953\"],[0.7777777777777778,\"#fb9f3a\"],[0.8888888888888888,\"#fdca26\"],[1.0,\"#f0f921\"]]}],\"heatmap\":[{\"type\":\"heatmap\",\"colorbar\":{\"outlinewidth\":0,\"ticks\":\"\"},\"colorscale\":[[0.0,\"#0d0887\"],[0.1111111111111111,\"#46039f\"],[0.2222222222222222,\"#7201a8\"],[0.3333333333333333,\"#9c179e\"],[0.4444444444444444,\"#bd3786\"],[0.5555555555555556,\"#d8576b\"],[0.6666666666666666,\"#ed7953\"],[0.7777777777777778,\"#fb9f3a\"],[0.8888888888888888,\"#fdca26\"],[1.0,\"#f0f921\"]]}],\"heatmapgl\":[{\"type\":\"heatmapgl\",\"colorbar\":{\"outlinewidth\":0,\"ticks\":\"\"},\"colorscale\":[[0.0,\"#0d0887\"],[0.1111111111111111,\"#46039f\"],[0.2222222222222222,\"#7201a8\"],[0.3333333333333333,\"#9c179e\"],[0.4444444444444444,\"#bd3786\"],[0.5555555555555556,\"#d8576b\"],[0.6666666666666666,\"#ed7953\"],[0.7777777777777778,\"#fb9f3a\"],[0.8888888888888888,\"#fdca26\"],[1.0,\"#f0f921\"]]}],\"contourcarpet\":[{\"type\":\"contourcarpet\",\"colorbar\":{\"outlinewidth\":0,\"ticks\":\"\"}}],\"contour\":[{\"type\":\"contour\",\"colorbar\":{\"outlinewidth\":0,\"ticks\":\"\"},\"colorscale\":[[0.0,\"#0d0887\"],[0.1111111111111111,\"#46039f\"],[0.2222222222222222,\"#7201a8\"],[0.3333333333333333,\"#9c179e\"],[0.4444444444444444,\"#bd3786\"],[0.5555555555555556,\"#d8576b\"],[0.6666666666666666,\"#ed7953\"],[0.7777777777777778,\"#fb9f3a\"],[0.8888888888888888,\"#fdca26\"],[1.0,\"#f0f921\"]]}],\"surface\":[{\"type\":\"surface\",\"colorbar\":{\"outlinewidth\":0,\"ticks\":\"\"},\"colorscale\":[[0.0,\"#0d0887\"],[0.1111111111111111,\"#46039f\"],[0.2222222222222222,\"#7201a8\"],[0.3333333333333333,\"#9c179e\"],[0.4444444444444444,\"#bd3786\"],[0.5555555555555556,\"#d8576b\"],[0.6666666666666666,\"#ed7953\"],[0.7777777777777778,\"#fb9f3a\"],[0.8888888888888888,\"#fdca26\"],[1.0,\"#f0f921\"]]}],\"mesh3d\":[{\"type\":\"mesh3d\",\"colorbar\":{\"outlinewidth\":0,\"ticks\":\"\"}}],\"scatter\":[{\"fillpattern\":{\"fillmode\":\"overlay\",\"size\":10,\"solidity\":0.2},\"type\":\"scatter\"}],\"parcoords\":[{\"type\":\"parcoords\",\"line\":{\"colorbar\":{\"outlinewidth\":0,\"ticks\":\"\"}}}],\"scatterpolargl\":[{\"type\":\"scatterpolargl\",\"marker\":{\"colorbar\":{\"outlinewidth\":0,\"ticks\":\"\"}}}],\"bar\":[{\"error_x\":{\"color\":\"#2a3f5f\"},\"error_y\":{\"color\":\"#2a3f5f\"},\"marker\":{\"line\":{\"color\":\"#E5ECF6\",\"width\":0.5},\"pattern\":{\"fillmode\":\"overlay\",\"size\":10,\"solidity\":0.2}},\"type\":\"bar\"}],\"scattergeo\":[{\"type\":\"scattergeo\",\"marker\":{\"colorbar\":{\"outlinewidth\":0,\"ticks\":\"\"}}}],\"scatterpolar\":[{\"type\":\"scatterpolar\",\"marker\":{\"colorbar\":{\"outlinewidth\":0,\"ticks\":\"\"}}}],\"histogram\":[{\"marker\":{\"pattern\":{\"fillmode\":\"overlay\",\"size\":10,\"solidity\":0.2}},\"type\":\"histogram\"}],\"scattergl\":[{\"type\":\"scattergl\",\"marker\":{\"colorbar\":{\"outlinewidth\":0,\"ticks\":\"\"}}}],\"scatter3d\":[{\"type\":\"scatter3d\",\"line\":{\"colorbar\":{\"outlinewidth\":0,\"ticks\":\"\"}},\"marker\":{\"colorbar\":{\"outlinewidth\":0,\"ticks\":\"\"}}}],\"scattermapbox\":[{\"type\":\"scattermapbox\",\"marker\":{\"colorbar\":{\"outlinewidth\":0,\"ticks\":\"\"}}}],\"scatterternary\":[{\"type\":\"scatterternary\",\"marker\":{\"colorbar\":{\"outlinewidth\":0,\"ticks\":\"\"}}}],\"scattercarpet\":[{\"type\":\"scattercarpet\",\"marker\":{\"colorbar\":{\"outlinewidth\":0,\"ticks\":\"\"}}}],\"carpet\":[{\"aaxis\":{\"endlinecolor\":\"#2a3f5f\",\"gridcolor\":\"white\",\"linecolor\":\"white\",\"minorgridcolor\":\"white\",\"startlinecolor\":\"#2a3f5f\"},\"baxis\":{\"endlinecolor\":\"#2a3f5f\",\"gridcolor\":\"white\",\"linecolor\":\"white\",\"minorgridcolor\":\"white\",\"startlinecolor\":\"#2a3f5f\"},\"type\":\"carpet\"}],\"table\":[{\"cells\":{\"fill\":{\"color\":\"#EBF0F8\"},\"line\":{\"color\":\"white\"}},\"header\":{\"fill\":{\"color\":\"#C8D4E3\"},\"line\":{\"color\":\"white\"}},\"type\":\"table\"}],\"barpolar\":[{\"marker\":{\"line\":{\"color\":\"#E5ECF6\",\"width\":0.5},\"pattern\":{\"fillmode\":\"overlay\",\"size\":10,\"solidity\":0.2}},\"type\":\"barpolar\"}],\"pie\":[{\"automargin\":true,\"type\":\"pie\"}]},\"layout\":{\"autotypenumbers\":\"strict\",\"colorway\":[\"#636efa\",\"#EF553B\",\"#00cc96\",\"#ab63fa\",\"#FFA15A\",\"#19d3f3\",\"#FF6692\",\"#B6E880\",\"#FF97FF\",\"#FECB52\"],\"font\":{\"color\":\"#2a3f5f\"},\"hovermode\":\"closest\",\"hoverlabel\":{\"align\":\"left\"},\"paper_bgcolor\":\"white\",\"plot_bgcolor\":\"#E5ECF6\",\"polar\":{\"bgcolor\":\"#E5ECF6\",\"angularaxis\":{\"gridcolor\":\"white\",\"linecolor\":\"white\",\"ticks\":\"\"},\"radialaxis\":{\"gridcolor\":\"white\",\"linecolor\":\"white\",\"ticks\":\"\"}},\"ternary\":{\"bgcolor\":\"#E5ECF6\",\"aaxis\":{\"gridcolor\":\"white\",\"linecolor\":\"white\",\"ticks\":\"\"},\"baxis\":{\"gridcolor\":\"white\",\"linecolor\":\"white\",\"ticks\":\"\"},\"caxis\":{\"gridcolor\":\"white\",\"linecolor\":\"white\",\"ticks\":\"\"}},\"coloraxis\":{\"colorbar\":{\"outlinewidth\":0,\"ticks\":\"\"}},\"colorscale\":{\"sequential\":[[0.0,\"#0d0887\"],[0.1111111111111111,\"#46039f\"],[0.2222222222222222,\"#7201a8\"],[0.3333333333333333,\"#9c179e\"],[0.4444444444444444,\"#bd3786\"],[0.5555555555555556,\"#d8576b\"],[0.6666666666666666,\"#ed7953\"],[0.7777777777777778,\"#fb9f3a\"],[0.8888888888888888,\"#fdca26\"],[1.0,\"#f0f921\"]],\"sequentialminus\":[[0.0,\"#0d0887\"],[0.1111111111111111,\"#46039f\"],[0.2222222222222222,\"#7201a8\"],[0.3333333333333333,\"#9c179e\"],[0.4444444444444444,\"#bd3786\"],[0.5555555555555556,\"#d8576b\"],[0.6666666666666666,\"#ed7953\"],[0.7777777777777778,\"#fb9f3a\"],[0.8888888888888888,\"#fdca26\"],[1.0,\"#f0f921\"]],\"diverging\":[[0,\"#8e0152\"],[0.1,\"#c51b7d\"],[0.2,\"#de77ae\"],[0.3,\"#f1b6da\"],[0.4,\"#fde0ef\"],[0.5,\"#f7f7f7\"],[0.6,\"#e6f5d0\"],[0.7,\"#b8e186\"],[0.8,\"#7fbc41\"],[0.9,\"#4d9221\"],[1,\"#276419\"]]},\"xaxis\":{\"gridcolor\":\"white\",\"linecolor\":\"white\",\"ticks\":\"\",\"title\":{\"standoff\":15},\"zerolinecolor\":\"white\",\"automargin\":true,\"zerolinewidth\":2},\"yaxis\":{\"gridcolor\":\"white\",\"linecolor\":\"white\",\"ticks\":\"\",\"title\":{\"standoff\":15},\"zerolinecolor\":\"white\",\"automargin\":true,\"zerolinewidth\":2},\"scene\":{\"xaxis\":{\"backgroundcolor\":\"#E5ECF6\",\"gridcolor\":\"white\",\"linecolor\":\"white\",\"showbackground\":true,\"ticks\":\"\",\"zerolinecolor\":\"white\",\"gridwidth\":2},\"yaxis\":{\"backgroundcolor\":\"#E5ECF6\",\"gridcolor\":\"white\",\"linecolor\":\"white\",\"showbackground\":true,\"ticks\":\"\",\"zerolinecolor\":\"white\",\"gridwidth\":2},\"zaxis\":{\"backgroundcolor\":\"#E5ECF6\",\"gridcolor\":\"white\",\"linecolor\":\"white\",\"showbackground\":true,\"ticks\":\"\",\"zerolinecolor\":\"white\",\"gridwidth\":2}},\"shapedefaults\":{\"line\":{\"color\":\"#2a3f5f\"}},\"annotationdefaults\":{\"arrowcolor\":\"#2a3f5f\",\"arrowhead\":0,\"arrowwidth\":1},\"geo\":{\"bgcolor\":\"white\",\"landcolor\":\"#E5ECF6\",\"subunitcolor\":\"white\",\"showland\":true,\"showlakes\":true,\"lakecolor\":\"white\"},\"title\":{\"x\":0.05},\"mapbox\":{\"style\":\"light\"}}},\"legend\":{\"tracegroupgap\":0},\"title\":{\"text\":\"Breakdown of Credit entries\"},\"autosize\":false,\"width\":1000,\"height\":1300,\"showlegend\":true},                        {\"responsive\": true}                    ).then(function(){\n",
       "                            \n",
       "var gd = document.getElementById('486b59be-4d0e-4610-ab18-11f42ff8fbef');\n",
       "var x = new MutationObserver(function (mutations, observer) {{\n",
       "        var display = window.getComputedStyle(gd).display;\n",
       "        if (!display || display === 'none') {{\n",
       "            console.log([gd, 'removed!']);\n",
       "            Plotly.purge(gd);\n",
       "            observer.disconnect();\n",
       "        }}\n",
       "}});\n",
       "\n",
       "// Listen for the removal of the full notebook cells\n",
       "var notebookContainer = gd.closest('#notebook-container');\n",
       "if (notebookContainer) {{\n",
       "    x.observe(notebookContainer, {childList: true});\n",
       "}}\n",
       "\n",
       "// Listen for the clearing of the current output cell\n",
       "var outputEl = gd.closest('.output');\n",
       "if (outputEl) {{\n",
       "    x.observe(outputEl, {childList: true});\n",
       "}}\n",
       "\n",
       "                        })                };                });            </script>        </div>"
      ]
     },
     "metadata": {},
     "output_type": "display_data"
    }
   ],
   "source": [
    "summary2.loc[summary2['Credit'] < 2000, 'Particulars'] = 'Other credit' \n",
    "figcre = px.pie(summary2, values='Credit', names='Particulars', title='Breakdown of Credit entries')\n",
    "figcre.update_layout(\n",
    "    autosize=False,\n",
    "    width=1000,\n",
    "    height=1300,\n",
    "    showlegend=True\n",
    ")\n",
    "figcre.show()"
   ]
  },
  {
   "cell_type": "code",
   "execution_count": 77,
   "id": "03fa24df-8345-4bcd-b205-7efd61e8ecf1",
   "metadata": {},
   "outputs": [],
   "source": [
    "summary3=df1.groupby(['Particulars']).agg({'Debit': 'mean', 'Credit': 'mean'}).reset_index()\n"
   ]
  },
  {
   "cell_type": "code",
   "execution_count": 78,
   "id": "d698f1dc-6ca8-40c3-9a5a-9479840909a3",
   "metadata": {},
   "outputs": [
    {
     "data": {
      "text/html": [
       "<div>\n",
       "<style scoped>\n",
       "    .dataframe tbody tr th:only-of-type {\n",
       "        vertical-align: middle;\n",
       "    }\n",
       "\n",
       "    .dataframe tbody tr th {\n",
       "        vertical-align: top;\n",
       "    }\n",
       "\n",
       "    .dataframe thead th {\n",
       "        text-align: right;\n",
       "    }\n",
       "</style>\n",
       "<table border=\"1\" class=\"dataframe\">\n",
       "  <thead>\n",
       "    <tr style=\"text-align: right;\">\n",
       "      <th></th>\n",
       "      <th>Date</th>\n",
       "      <th>date</th>\n",
       "      <th>month</th>\n",
       "      <th>year</th>\n",
       "      <th>Particulars</th>\n",
       "      <th>Vch Type</th>\n",
       "      <th>Vch No.</th>\n",
       "      <th>Debit</th>\n",
       "      <th>Credit</th>\n",
       "    </tr>\n",
       "  </thead>\n",
       "  <tbody>\n",
       "    <tr>\n",
       "      <th>0</th>\n",
       "      <td>2022-04-01</td>\n",
       "      <td>1</td>\n",
       "      <td>4</td>\n",
       "      <td>2022</td>\n",
       "      <td>Computer - Software</td>\n",
       "      <td>Journal</td>\n",
       "      <td>1</td>\n",
       "      <td>614.0</td>\n",
       "      <td>0.0</td>\n",
       "    </tr>\n",
       "    <tr>\n",
       "      <th>1</th>\n",
       "      <td>2022-04-04</td>\n",
       "      <td>4</td>\n",
       "      <td>4</td>\n",
       "      <td>2022</td>\n",
       "      <td>Rep &amp; Maint - General</td>\n",
       "      <td>PMT LUC - CASH</td>\n",
       "      <td>1</td>\n",
       "      <td>200.0</td>\n",
       "      <td>0.0</td>\n",
       "    </tr>\n",
       "    <tr>\n",
       "      <th>2</th>\n",
       "      <td>2022-04-15</td>\n",
       "      <td>15</td>\n",
       "      <td>4</td>\n",
       "      <td>2022</td>\n",
       "      <td>Courier Charges</td>\n",
       "      <td>PMT LUC - CASH</td>\n",
       "      <td>2</td>\n",
       "      <td>120.0</td>\n",
       "      <td>0.0</td>\n",
       "    </tr>\n",
       "    <tr>\n",
       "      <th>3</th>\n",
       "      <td>2022-04-17</td>\n",
       "      <td>17</td>\n",
       "      <td>4</td>\n",
       "      <td>2022</td>\n",
       "      <td>Garden Expenses</td>\n",
       "      <td>PMT LUC - CASH</td>\n",
       "      <td>3</td>\n",
       "      <td>360.0</td>\n",
       "      <td>0.0</td>\n",
       "    </tr>\n",
       "    <tr>\n",
       "      <th>4</th>\n",
       "      <td>2022-04-17</td>\n",
       "      <td>17</td>\n",
       "      <td>4</td>\n",
       "      <td>2022</td>\n",
       "      <td>Rep &amp; Maint - General</td>\n",
       "      <td>PMT LUC - CASH</td>\n",
       "      <td>4</td>\n",
       "      <td>2000.0</td>\n",
       "      <td>0.0</td>\n",
       "    </tr>\n",
       "    <tr>\n",
       "      <th>...</th>\n",
       "      <td>...</td>\n",
       "      <td>...</td>\n",
       "      <td>...</td>\n",
       "      <td>...</td>\n",
       "      <td>...</td>\n",
       "      <td>...</td>\n",
       "      <td>...</td>\n",
       "      <td>...</td>\n",
       "      <td>...</td>\n",
       "    </tr>\n",
       "    <tr>\n",
       "      <th>235</th>\n",
       "      <td>2023-03-31</td>\n",
       "      <td>31</td>\n",
       "      <td>3</td>\n",
       "      <td>2023</td>\n",
       "      <td>Machinery, Equipment &amp; Vehicles</td>\n",
       "      <td>Journal</td>\n",
       "      <td>16</td>\n",
       "      <td>200.0</td>\n",
       "      <td>0.0</td>\n",
       "    </tr>\n",
       "    <tr>\n",
       "      <th>236</th>\n",
       "      <td>2023-03-31</td>\n",
       "      <td>31</td>\n",
       "      <td>3</td>\n",
       "      <td>2023</td>\n",
       "      <td>Donation in Kind - Assets</td>\n",
       "      <td>Journal</td>\n",
       "      <td>17</td>\n",
       "      <td>200.0</td>\n",
       "      <td>0.0</td>\n",
       "    </tr>\n",
       "    <tr>\n",
       "      <th>237</th>\n",
       "      <td>2023-03-31</td>\n",
       "      <td>31</td>\n",
       "      <td>3</td>\n",
       "      <td>2023</td>\n",
       "      <td>Lucknow - Delhi (EPF)</td>\n",
       "      <td>Journal</td>\n",
       "      <td>18</td>\n",
       "      <td>3300.0</td>\n",
       "      <td>0.0</td>\n",
       "    </tr>\n",
       "    <tr>\n",
       "      <th>238</th>\n",
       "      <td>2023-03-31</td>\n",
       "      <td>31</td>\n",
       "      <td>3</td>\n",
       "      <td>2023</td>\n",
       "      <td>Branch Fund</td>\n",
       "      <td>Journal</td>\n",
       "      <td>19</td>\n",
       "      <td>36301.0</td>\n",
       "      <td>0.0</td>\n",
       "    </tr>\n",
       "    <tr>\n",
       "      <th>239</th>\n",
       "      <td>2023-03-31</td>\n",
       "      <td>31</td>\n",
       "      <td>3</td>\n",
       "      <td>2023</td>\n",
       "      <td>Lucknow Operation Fund</td>\n",
       "      <td>Journal</td>\n",
       "      <td>20</td>\n",
       "      <td>505535.0</td>\n",
       "      <td>0.0</td>\n",
       "    </tr>\n",
       "  </tbody>\n",
       "</table>\n",
       "<p>240 rows × 9 columns</p>\n",
       "</div>"
      ],
      "text/plain": [
       "          Date  date  month  year                      Particulars  \\\n",
       "0   2022-04-01     1      4  2022              Computer - Software   \n",
       "1   2022-04-04     4      4  2022            Rep & Maint - General   \n",
       "2   2022-04-15    15      4  2022                  Courier Charges   \n",
       "3   2022-04-17    17      4  2022                  Garden Expenses   \n",
       "4   2022-04-17    17      4  2022            Rep & Maint - General   \n",
       "..         ...   ...    ...   ...                              ...   \n",
       "235 2023-03-31    31      3  2023  Machinery, Equipment & Vehicles   \n",
       "236 2023-03-31    31      3  2023        Donation in Kind - Assets   \n",
       "237 2023-03-31    31      3  2023            Lucknow - Delhi (EPF)   \n",
       "238 2023-03-31    31      3  2023                      Branch Fund   \n",
       "239 2023-03-31    31      3  2023           Lucknow Operation Fund   \n",
       "\n",
       "           Vch Type  Vch No.     Debit  Credit  \n",
       "0           Journal        1     614.0     0.0  \n",
       "1    PMT LUC - CASH        1     200.0     0.0  \n",
       "2    PMT LUC - CASH        2     120.0     0.0  \n",
       "3    PMT LUC - CASH        3     360.0     0.0  \n",
       "4    PMT LUC - CASH        4    2000.0     0.0  \n",
       "..              ...      ...       ...     ...  \n",
       "235         Journal       16     200.0     0.0  \n",
       "236         Journal       17     200.0     0.0  \n",
       "237         Journal       18    3300.0     0.0  \n",
       "238         Journal       19   36301.0     0.0  \n",
       "239         Journal       20  505535.0     0.0  \n",
       "\n",
       "[240 rows x 9 columns]"
      ]
     },
     "execution_count": 78,
     "metadata": {},
     "output_type": "execute_result"
    }
   ],
   "source": [
    "df1"
   ]
  },
  {
   "cell_type": "code",
   "execution_count": 79,
   "id": "95a189ce-b3fe-4760-93ed-70d05615358e",
   "metadata": {
    "scrolled": true
   },
   "outputs": [
    {
     "data": {
      "text/html": [
       "<div>\n",
       "<style scoped>\n",
       "    .dataframe tbody tr th:only-of-type {\n",
       "        vertical-align: middle;\n",
       "    }\n",
       "\n",
       "    .dataframe tbody tr th {\n",
       "        vertical-align: top;\n",
       "    }\n",
       "\n",
       "    .dataframe thead th {\n",
       "        text-align: right;\n",
       "    }\n",
       "</style>\n",
       "<table border=\"1\" class=\"dataframe\">\n",
       "  <thead>\n",
       "    <tr style=\"text-align: right;\">\n",
       "      <th></th>\n",
       "      <th>Vch Type</th>\n",
       "      <th>Debit</th>\n",
       "      <th>Credit</th>\n",
       "      <th>Vch No.</th>\n",
       "    </tr>\n",
       "  </thead>\n",
       "  <tbody>\n",
       "    <tr>\n",
       "      <th>0</th>\n",
       "      <td>Contra</td>\n",
       "      <td>0.0</td>\n",
       "      <td>520000.0</td>\n",
       "      <td>10</td>\n",
       "    </tr>\n",
       "    <tr>\n",
       "      <th>1</th>\n",
       "      <td>Journal</td>\n",
       "      <td>2512933.0</td>\n",
       "      <td>0.0</td>\n",
       "      <td>20</td>\n",
       "    </tr>\n",
       "    <tr>\n",
       "      <th>2</th>\n",
       "      <td>PMT LUC - BANK</td>\n",
       "      <td>589201.0</td>\n",
       "      <td>0.0</td>\n",
       "      <td>28</td>\n",
       "    </tr>\n",
       "    <tr>\n",
       "      <th>3</th>\n",
       "      <td>PMT LUC - CASH</td>\n",
       "      <td>533317.0</td>\n",
       "      <td>0.0</td>\n",
       "      <td>174</td>\n",
       "    </tr>\n",
       "    <tr>\n",
       "      <th>4</th>\n",
       "      <td>RCP LUC - BANK</td>\n",
       "      <td>0.0</td>\n",
       "      <td>939348.0</td>\n",
       "      <td>8</td>\n",
       "    </tr>\n",
       "  </tbody>\n",
       "</table>\n",
       "</div>"
      ],
      "text/plain": [
       "         Vch Type      Debit    Credit  Vch No.\n",
       "0          Contra        0.0  520000.0       10\n",
       "1         Journal  2512933.0       0.0       20\n",
       "2  PMT LUC - BANK   589201.0       0.0       28\n",
       "3  PMT LUC - CASH   533317.0       0.0      174\n",
       "4  RCP LUC - BANK        0.0  939348.0        8"
      ]
     },
     "execution_count": 79,
     "metadata": {},
     "output_type": "execute_result"
    }
   ],
   "source": [
    "vouch=df1.groupby(['Vch Type']).agg({'Debit': 'sum', 'Credit': 'sum','Vch No.' : 'max'}).reset_index()\n",
    "vouch"
   ]
  },
  {
   "cell_type": "code",
   "execution_count": 80,
   "id": "b302d361-5532-4a9b-b26f-89bca7cf030a",
   "metadata": {},
   "outputs": [
    {
     "data": {
      "application/vnd.plotly.v1+json": {
       "config": {
        "plotlyServerURL": "https://plot.ly"
       },
       "data": [
        {
         "alignmentgroup": "True",
         "hovertemplate": "variable=Credit<br>Vch Type=%{x}<br>value=%{y}<extra></extra>",
         "legendgroup": "Credit",
         "marker": {
          "color": "#636efa",
          "pattern": {
           "shape": ""
          }
         },
         "name": "Credit",
         "offsetgroup": "Credit",
         "orientation": "v",
         "showlegend": true,
         "textposition": "auto",
         "type": "bar",
         "x": [
          "Contra",
          "Journal",
          "PMT LUC - BANK",
          "PMT LUC - CASH",
          "RCP LUC - BANK"
         ],
         "xaxis": "x",
         "y": [
          520000,
          0,
          0,
          0,
          939348
         ],
         "yaxis": "y"
        },
        {
         "alignmentgroup": "True",
         "hovertemplate": "variable=Debit<br>Vch Type=%{x}<br>value=%{y}<extra></extra>",
         "legendgroup": "Debit",
         "marker": {
          "color": "#EF553B",
          "pattern": {
           "shape": ""
          }
         },
         "name": "Debit",
         "offsetgroup": "Debit",
         "orientation": "v",
         "showlegend": true,
         "textposition": "auto",
         "type": "bar",
         "x": [
          "Contra",
          "Journal",
          "PMT LUC - BANK",
          "PMT LUC - CASH",
          "RCP LUC - BANK"
         ],
         "xaxis": "x",
         "y": [
          0,
          2512933,
          589201,
          533317,
          0
         ],
         "yaxis": "y"
        }
       ],
       "layout": {
        "autosize": true,
        "barmode": "relative",
        "legend": {
         "title": {
          "text": "variable"
         },
         "tracegroupgap": 0
        },
        "template": {
         "data": {
          "bar": [
           {
            "error_x": {
             "color": "#2a3f5f"
            },
            "error_y": {
             "color": "#2a3f5f"
            },
            "marker": {
             "line": {
              "color": "#E5ECF6",
              "width": 0.5
             },
             "pattern": {
              "fillmode": "overlay",
              "size": 10,
              "solidity": 0.2
             }
            },
            "type": "bar"
           }
          ],
          "barpolar": [
           {
            "marker": {
             "line": {
              "color": "#E5ECF6",
              "width": 0.5
             },
             "pattern": {
              "fillmode": "overlay",
              "size": 10,
              "solidity": 0.2
             }
            },
            "type": "barpolar"
           }
          ],
          "carpet": [
           {
            "aaxis": {
             "endlinecolor": "#2a3f5f",
             "gridcolor": "white",
             "linecolor": "white",
             "minorgridcolor": "white",
             "startlinecolor": "#2a3f5f"
            },
            "baxis": {
             "endlinecolor": "#2a3f5f",
             "gridcolor": "white",
             "linecolor": "white",
             "minorgridcolor": "white",
             "startlinecolor": "#2a3f5f"
            },
            "type": "carpet"
           }
          ],
          "choropleth": [
           {
            "colorbar": {
             "outlinewidth": 0,
             "ticks": ""
            },
            "type": "choropleth"
           }
          ],
          "contour": [
           {
            "colorbar": {
             "outlinewidth": 0,
             "ticks": ""
            },
            "colorscale": [
             [
              0,
              "#0d0887"
             ],
             [
              0.1111111111111111,
              "#46039f"
             ],
             [
              0.2222222222222222,
              "#7201a8"
             ],
             [
              0.3333333333333333,
              "#9c179e"
             ],
             [
              0.4444444444444444,
              "#bd3786"
             ],
             [
              0.5555555555555556,
              "#d8576b"
             ],
             [
              0.6666666666666666,
              "#ed7953"
             ],
             [
              0.7777777777777778,
              "#fb9f3a"
             ],
             [
              0.8888888888888888,
              "#fdca26"
             ],
             [
              1,
              "#f0f921"
             ]
            ],
            "type": "contour"
           }
          ],
          "contourcarpet": [
           {
            "colorbar": {
             "outlinewidth": 0,
             "ticks": ""
            },
            "type": "contourcarpet"
           }
          ],
          "heatmap": [
           {
            "colorbar": {
             "outlinewidth": 0,
             "ticks": ""
            },
            "colorscale": [
             [
              0,
              "#0d0887"
             ],
             [
              0.1111111111111111,
              "#46039f"
             ],
             [
              0.2222222222222222,
              "#7201a8"
             ],
             [
              0.3333333333333333,
              "#9c179e"
             ],
             [
              0.4444444444444444,
              "#bd3786"
             ],
             [
              0.5555555555555556,
              "#d8576b"
             ],
             [
              0.6666666666666666,
              "#ed7953"
             ],
             [
              0.7777777777777778,
              "#fb9f3a"
             ],
             [
              0.8888888888888888,
              "#fdca26"
             ],
             [
              1,
              "#f0f921"
             ]
            ],
            "type": "heatmap"
           }
          ],
          "heatmapgl": [
           {
            "colorbar": {
             "outlinewidth": 0,
             "ticks": ""
            },
            "colorscale": [
             [
              0,
              "#0d0887"
             ],
             [
              0.1111111111111111,
              "#46039f"
             ],
             [
              0.2222222222222222,
              "#7201a8"
             ],
             [
              0.3333333333333333,
              "#9c179e"
             ],
             [
              0.4444444444444444,
              "#bd3786"
             ],
             [
              0.5555555555555556,
              "#d8576b"
             ],
             [
              0.6666666666666666,
              "#ed7953"
             ],
             [
              0.7777777777777778,
              "#fb9f3a"
             ],
             [
              0.8888888888888888,
              "#fdca26"
             ],
             [
              1,
              "#f0f921"
             ]
            ],
            "type": "heatmapgl"
           }
          ],
          "histogram": [
           {
            "marker": {
             "pattern": {
              "fillmode": "overlay",
              "size": 10,
              "solidity": 0.2
             }
            },
            "type": "histogram"
           }
          ],
          "histogram2d": [
           {
            "colorbar": {
             "outlinewidth": 0,
             "ticks": ""
            },
            "colorscale": [
             [
              0,
              "#0d0887"
             ],
             [
              0.1111111111111111,
              "#46039f"
             ],
             [
              0.2222222222222222,
              "#7201a8"
             ],
             [
              0.3333333333333333,
              "#9c179e"
             ],
             [
              0.4444444444444444,
              "#bd3786"
             ],
             [
              0.5555555555555556,
              "#d8576b"
             ],
             [
              0.6666666666666666,
              "#ed7953"
             ],
             [
              0.7777777777777778,
              "#fb9f3a"
             ],
             [
              0.8888888888888888,
              "#fdca26"
             ],
             [
              1,
              "#f0f921"
             ]
            ],
            "type": "histogram2d"
           }
          ],
          "histogram2dcontour": [
           {
            "colorbar": {
             "outlinewidth": 0,
             "ticks": ""
            },
            "colorscale": [
             [
              0,
              "#0d0887"
             ],
             [
              0.1111111111111111,
              "#46039f"
             ],
             [
              0.2222222222222222,
              "#7201a8"
             ],
             [
              0.3333333333333333,
              "#9c179e"
             ],
             [
              0.4444444444444444,
              "#bd3786"
             ],
             [
              0.5555555555555556,
              "#d8576b"
             ],
             [
              0.6666666666666666,
              "#ed7953"
             ],
             [
              0.7777777777777778,
              "#fb9f3a"
             ],
             [
              0.8888888888888888,
              "#fdca26"
             ],
             [
              1,
              "#f0f921"
             ]
            ],
            "type": "histogram2dcontour"
           }
          ],
          "mesh3d": [
           {
            "colorbar": {
             "outlinewidth": 0,
             "ticks": ""
            },
            "type": "mesh3d"
           }
          ],
          "parcoords": [
           {
            "line": {
             "colorbar": {
              "outlinewidth": 0,
              "ticks": ""
             }
            },
            "type": "parcoords"
           }
          ],
          "pie": [
           {
            "automargin": true,
            "type": "pie"
           }
          ],
          "scatter": [
           {
            "fillpattern": {
             "fillmode": "overlay",
             "size": 10,
             "solidity": 0.2
            },
            "type": "scatter"
           }
          ],
          "scatter3d": [
           {
            "line": {
             "colorbar": {
              "outlinewidth": 0,
              "ticks": ""
             }
            },
            "marker": {
             "colorbar": {
              "outlinewidth": 0,
              "ticks": ""
             }
            },
            "type": "scatter3d"
           }
          ],
          "scattercarpet": [
           {
            "marker": {
             "colorbar": {
              "outlinewidth": 0,
              "ticks": ""
             }
            },
            "type": "scattercarpet"
           }
          ],
          "scattergeo": [
           {
            "marker": {
             "colorbar": {
              "outlinewidth": 0,
              "ticks": ""
             }
            },
            "type": "scattergeo"
           }
          ],
          "scattergl": [
           {
            "marker": {
             "colorbar": {
              "outlinewidth": 0,
              "ticks": ""
             }
            },
            "type": "scattergl"
           }
          ],
          "scattermapbox": [
           {
            "marker": {
             "colorbar": {
              "outlinewidth": 0,
              "ticks": ""
             }
            },
            "type": "scattermapbox"
           }
          ],
          "scatterpolar": [
           {
            "marker": {
             "colorbar": {
              "outlinewidth": 0,
              "ticks": ""
             }
            },
            "type": "scatterpolar"
           }
          ],
          "scatterpolargl": [
           {
            "marker": {
             "colorbar": {
              "outlinewidth": 0,
              "ticks": ""
             }
            },
            "type": "scatterpolargl"
           }
          ],
          "scatterternary": [
           {
            "marker": {
             "colorbar": {
              "outlinewidth": 0,
              "ticks": ""
             }
            },
            "type": "scatterternary"
           }
          ],
          "surface": [
           {
            "colorbar": {
             "outlinewidth": 0,
             "ticks": ""
            },
            "colorscale": [
             [
              0,
              "#0d0887"
             ],
             [
              0.1111111111111111,
              "#46039f"
             ],
             [
              0.2222222222222222,
              "#7201a8"
             ],
             [
              0.3333333333333333,
              "#9c179e"
             ],
             [
              0.4444444444444444,
              "#bd3786"
             ],
             [
              0.5555555555555556,
              "#d8576b"
             ],
             [
              0.6666666666666666,
              "#ed7953"
             ],
             [
              0.7777777777777778,
              "#fb9f3a"
             ],
             [
              0.8888888888888888,
              "#fdca26"
             ],
             [
              1,
              "#f0f921"
             ]
            ],
            "type": "surface"
           }
          ],
          "table": [
           {
            "cells": {
             "fill": {
              "color": "#EBF0F8"
             },
             "line": {
              "color": "white"
             }
            },
            "header": {
             "fill": {
              "color": "#C8D4E3"
             },
             "line": {
              "color": "white"
             }
            },
            "type": "table"
           }
          ]
         },
         "layout": {
          "annotationdefaults": {
           "arrowcolor": "#2a3f5f",
           "arrowhead": 0,
           "arrowwidth": 1
          },
          "autotypenumbers": "strict",
          "coloraxis": {
           "colorbar": {
            "outlinewidth": 0,
            "ticks": ""
           }
          },
          "colorscale": {
           "diverging": [
            [
             0,
             "#8e0152"
            ],
            [
             0.1,
             "#c51b7d"
            ],
            [
             0.2,
             "#de77ae"
            ],
            [
             0.3,
             "#f1b6da"
            ],
            [
             0.4,
             "#fde0ef"
            ],
            [
             0.5,
             "#f7f7f7"
            ],
            [
             0.6,
             "#e6f5d0"
            ],
            [
             0.7,
             "#b8e186"
            ],
            [
             0.8,
             "#7fbc41"
            ],
            [
             0.9,
             "#4d9221"
            ],
            [
             1,
             "#276419"
            ]
           ],
           "sequential": [
            [
             0,
             "#0d0887"
            ],
            [
             0.1111111111111111,
             "#46039f"
            ],
            [
             0.2222222222222222,
             "#7201a8"
            ],
            [
             0.3333333333333333,
             "#9c179e"
            ],
            [
             0.4444444444444444,
             "#bd3786"
            ],
            [
             0.5555555555555556,
             "#d8576b"
            ],
            [
             0.6666666666666666,
             "#ed7953"
            ],
            [
             0.7777777777777778,
             "#fb9f3a"
            ],
            [
             0.8888888888888888,
             "#fdca26"
            ],
            [
             1,
             "#f0f921"
            ]
           ],
           "sequentialminus": [
            [
             0,
             "#0d0887"
            ],
            [
             0.1111111111111111,
             "#46039f"
            ],
            [
             0.2222222222222222,
             "#7201a8"
            ],
            [
             0.3333333333333333,
             "#9c179e"
            ],
            [
             0.4444444444444444,
             "#bd3786"
            ],
            [
             0.5555555555555556,
             "#d8576b"
            ],
            [
             0.6666666666666666,
             "#ed7953"
            ],
            [
             0.7777777777777778,
             "#fb9f3a"
            ],
            [
             0.8888888888888888,
             "#fdca26"
            ],
            [
             1,
             "#f0f921"
            ]
           ]
          },
          "colorway": [
           "#636efa",
           "#EF553B",
           "#00cc96",
           "#ab63fa",
           "#FFA15A",
           "#19d3f3",
           "#FF6692",
           "#B6E880",
           "#FF97FF",
           "#FECB52"
          ],
          "font": {
           "color": "#2a3f5f"
          },
          "geo": {
           "bgcolor": "white",
           "lakecolor": "white",
           "landcolor": "#E5ECF6",
           "showlakes": true,
           "showland": true,
           "subunitcolor": "white"
          },
          "hoverlabel": {
           "align": "left"
          },
          "hovermode": "closest",
          "mapbox": {
           "style": "light"
          },
          "paper_bgcolor": "white",
          "plot_bgcolor": "#E5ECF6",
          "polar": {
           "angularaxis": {
            "gridcolor": "white",
            "linecolor": "white",
            "ticks": ""
           },
           "bgcolor": "#E5ECF6",
           "radialaxis": {
            "gridcolor": "white",
            "linecolor": "white",
            "ticks": ""
           }
          },
          "scene": {
           "xaxis": {
            "backgroundcolor": "#E5ECF6",
            "gridcolor": "white",
            "gridwidth": 2,
            "linecolor": "white",
            "showbackground": true,
            "ticks": "",
            "zerolinecolor": "white"
           },
           "yaxis": {
            "backgroundcolor": "#E5ECF6",
            "gridcolor": "white",
            "gridwidth": 2,
            "linecolor": "white",
            "showbackground": true,
            "ticks": "",
            "zerolinecolor": "white"
           },
           "zaxis": {
            "backgroundcolor": "#E5ECF6",
            "gridcolor": "white",
            "gridwidth": 2,
            "linecolor": "white",
            "showbackground": true,
            "ticks": "",
            "zerolinecolor": "white"
           }
          },
          "shapedefaults": {
           "line": {
            "color": "#2a3f5f"
           }
          },
          "ternary": {
           "aaxis": {
            "gridcolor": "white",
            "linecolor": "white",
            "ticks": ""
           },
           "baxis": {
            "gridcolor": "white",
            "linecolor": "white",
            "ticks": ""
           },
           "bgcolor": "#E5ECF6",
           "caxis": {
            "gridcolor": "white",
            "linecolor": "white",
            "ticks": ""
           }
          },
          "title": {
           "x": 0.05
          },
          "xaxis": {
           "automargin": true,
           "gridcolor": "white",
           "linecolor": "white",
           "ticks": "",
           "title": {
            "standoff": 15
           },
           "zerolinecolor": "white",
           "zerolinewidth": 2
          },
          "yaxis": {
           "automargin": true,
           "gridcolor": "white",
           "linecolor": "white",
           "ticks": "",
           "title": {
            "standoff": 15
           },
           "zerolinecolor": "white",
           "zerolinewidth": 2
          }
         }
        },
        "title": {
         "text": "Credit Debit distribution of each voucher type"
        },
        "xaxis": {
         "anchor": "y",
         "autorange": true,
         "domain": [
          0,
          1
         ],
         "range": [
          -0.5,
          4.5
         ],
         "title": {
          "text": "Vch Type"
         },
         "type": "category"
        },
        "yaxis": {
         "anchor": "x",
         "autorange": true,
         "domain": [
          0,
          1
         ],
         "range": [
          0,
          2645192.6315789474
         ],
         "title": {
          "text": "value"
         },
         "type": "linear"
        }
       }
      },
      "image/png": "[encoded data removed]",
      "text/html": [
       "<div>                            <div id=\"ab8dfa8c-cf19-4b08-b3e7-2bfa3e75278d\" class=\"plotly-graph-div\" style=\"height:525px; width:100%;\"></div>            <script type=\"text/javascript\">                require([\"plotly\"], function(Plotly) {                    window.PLOTLYENV=window.PLOTLYENV || {};                                    if (document.getElementById(\"ab8dfa8c-cf19-4b08-b3e7-2bfa3e75278d\")) {                    Plotly.newPlot(                        \"ab8dfa8c-cf19-4b08-b3e7-2bfa3e75278d\",                        [{\"alignmentgroup\":\"True\",\"hovertemplate\":\"variable=Credit<br>Vch Type=%{x}<br>value=%{y}<extra></extra>\",\"legendgroup\":\"Credit\",\"marker\":{\"color\":\"#636efa\",\"pattern\":{\"shape\":\"\"}},\"name\":\"Credit\",\"offsetgroup\":\"Credit\",\"orientation\":\"v\",\"showlegend\":true,\"textposition\":\"auto\",\"x\":[\"Contra\",\"Journal\",\"PMT LUC - BANK\",\"PMT LUC - CASH\",\"RCP LUC - BANK\"],\"xaxis\":\"x\",\"y\":[520000.0,0.0,0.0,0.0,939348.0],\"yaxis\":\"y\",\"type\":\"bar\"},{\"alignmentgroup\":\"True\",\"hovertemplate\":\"variable=Debit<br>Vch Type=%{x}<br>value=%{y}<extra></extra>\",\"legendgroup\":\"Debit\",\"marker\":{\"color\":\"#EF553B\",\"pattern\":{\"shape\":\"\"}},\"name\":\"Debit\",\"offsetgroup\":\"Debit\",\"orientation\":\"v\",\"showlegend\":true,\"textposition\":\"auto\",\"x\":[\"Contra\",\"Journal\",\"PMT LUC - BANK\",\"PMT LUC - CASH\",\"RCP LUC - BANK\"],\"xaxis\":\"x\",\"y\":[0.0,2512933.0,589201.0,533317.0,0.0],\"yaxis\":\"y\",\"type\":\"bar\"}],                        {\"template\":{\"data\":{\"histogram2dcontour\":[{\"type\":\"histogram2dcontour\",\"colorbar\":{\"outlinewidth\":0,\"ticks\":\"\"},\"colorscale\":[[0.0,\"#0d0887\"],[0.1111111111111111,\"#46039f\"],[0.2222222222222222,\"#7201a8\"],[0.3333333333333333,\"#9c179e\"],[0.4444444444444444,\"#bd3786\"],[0.5555555555555556,\"#d8576b\"],[0.6666666666666666,\"#ed7953\"],[0.7777777777777778,\"#fb9f3a\"],[0.8888888888888888,\"#fdca26\"],[1.0,\"#f0f921\"]]}],\"choropleth\":[{\"type\":\"choropleth\",\"colorbar\":{\"outlinewidth\":0,\"ticks\":\"\"}}],\"histogram2d\":[{\"type\":\"histogram2d\",\"colorbar\":{\"outlinewidth\":0,\"ticks\":\"\"},\"colorscale\":[[0.0,\"#0d0887\"],[0.1111111111111111,\"#46039f\"],[0.2222222222222222,\"#7201a8\"],[0.3333333333333333,\"#9c179e\"],[0.4444444444444444,\"#bd3786\"],[0.5555555555555556,\"#d8576b\"],[0.6666666666666666,\"#ed7953\"],[0.7777777777777778,\"#fb9f3a\"],[0.8888888888888888,\"#fdca26\"],[1.0,\"#f0f921\"]]}],\"heatmap\":[{\"type\":\"heatmap\",\"colorbar\":{\"outlinewidth\":0,\"ticks\":\"\"},\"colorscale\":[[0.0,\"#0d0887\"],[0.1111111111111111,\"#46039f\"],[0.2222222222222222,\"#7201a8\"],[0.3333333333333333,\"#9c179e\"],[0.4444444444444444,\"#bd3786\"],[0.5555555555555556,\"#d8576b\"],[0.6666666666666666,\"#ed7953\"],[0.7777777777777778,\"#fb9f3a\"],[0.8888888888888888,\"#fdca26\"],[1.0,\"#f0f921\"]]}],\"heatmapgl\":[{\"type\":\"heatmapgl\",\"colorbar\":{\"outlinewidth\":0,\"ticks\":\"\"},\"colorscale\":[[0.0,\"#0d0887\"],[0.1111111111111111,\"#46039f\"],[0.2222222222222222,\"#7201a8\"],[0.3333333333333333,\"#9c179e\"],[0.4444444444444444,\"#bd3786\"],[0.5555555555555556,\"#d8576b\"],[0.6666666666666666,\"#ed7953\"],[0.7777777777777778,\"#fb9f3a\"],[0.8888888888888888,\"#fdca26\"],[1.0,\"#f0f921\"]]}],\"contourcarpet\":[{\"type\":\"contourcarpet\",\"colorbar\":{\"outlinewidth\":0,\"ticks\":\"\"}}],\"contour\":[{\"type\":\"contour\",\"colorbar\":{\"outlinewidth\":0,\"ticks\":\"\"},\"colorscale\":[[0.0,\"#0d0887\"],[0.1111111111111111,\"#46039f\"],[0.2222222222222222,\"#7201a8\"],[0.3333333333333333,\"#9c179e\"],[0.4444444444444444,\"#bd3786\"],[0.5555555555555556,\"#d8576b\"],[0.6666666666666666,\"#ed7953\"],[0.7777777777777778,\"#fb9f3a\"],[0.8888888888888888,\"#fdca26\"],[1.0,\"#f0f921\"]]}],\"surface\":[{\"type\":\"surface\",\"colorbar\":{\"outlinewidth\":0,\"ticks\":\"\"},\"colorscale\":[[0.0,\"#0d0887\"],[0.1111111111111111,\"#46039f\"],[0.2222222222222222,\"#7201a8\"],[0.3333333333333333,\"#9c179e\"],[0.4444444444444444,\"#bd3786\"],[0.5555555555555556,\"#d8576b\"],[0.6666666666666666,\"#ed7953\"],[0.7777777777777778,\"#fb9f3a\"],[0.8888888888888888,\"#fdca26\"],[1.0,\"#f0f921\"]]}],\"mesh3d\":[{\"type\":\"mesh3d\",\"colorbar\":{\"outlinewidth\":0,\"ticks\":\"\"}}],\"scatter\":[{\"fillpattern\":{\"fillmode\":\"overlay\",\"size\":10,\"solidity\":0.2},\"type\":\"scatter\"}],\"parcoords\":[{\"type\":\"parcoords\",\"line\":{\"colorbar\":{\"outlinewidth\":0,\"ticks\":\"\"}}}],\"scatterpolargl\":[{\"type\":\"scatterpolargl\",\"marker\":{\"colorbar\":{\"outlinewidth\":0,\"ticks\":\"\"}}}],\"bar\":[{\"error_x\":{\"color\":\"#2a3f5f\"},\"error_y\":{\"color\":\"#2a3f5f\"},\"marker\":{\"line\":{\"color\":\"#E5ECF6\",\"width\":0.5},\"pattern\":{\"fillmode\":\"overlay\",\"size\":10,\"solidity\":0.2}},\"type\":\"bar\"}],\"scattergeo\":[{\"type\":\"scattergeo\",\"marker\":{\"colorbar\":{\"outlinewidth\":0,\"ticks\":\"\"}}}],\"scatterpolar\":[{\"type\":\"scatterpolar\",\"marker\":{\"colorbar\":{\"outlinewidth\":0,\"ticks\":\"\"}}}],\"histogram\":[{\"marker\":{\"pattern\":{\"fillmode\":\"overlay\",\"size\":10,\"solidity\":0.2}},\"type\":\"histogram\"}],\"scattergl\":[{\"type\":\"scattergl\",\"marker\":{\"colorbar\":{\"outlinewidth\":0,\"ticks\":\"\"}}}],\"scatter3d\":[{\"type\":\"scatter3d\",\"line\":{\"colorbar\":{\"outlinewidth\":0,\"ticks\":\"\"}},\"marker\":{\"colorbar\":{\"outlinewidth\":0,\"ticks\":\"\"}}}],\"scattermapbox\":[{\"type\":\"scattermapbox\",\"marker\":{\"colorbar\":{\"outlinewidth\":0,\"ticks\":\"\"}}}],\"scatterternary\":[{\"type\":\"scatterternary\",\"marker\":{\"colorbar\":{\"outlinewidth\":0,\"ticks\":\"\"}}}],\"scattercarpet\":[{\"type\":\"scattercarpet\",\"marker\":{\"colorbar\":{\"outlinewidth\":0,\"ticks\":\"\"}}}],\"carpet\":[{\"aaxis\":{\"endlinecolor\":\"#2a3f5f\",\"gridcolor\":\"white\",\"linecolor\":\"white\",\"minorgridcolor\":\"white\",\"startlinecolor\":\"#2a3f5f\"},\"baxis\":{\"endlinecolor\":\"#2a3f5f\",\"gridcolor\":\"white\",\"linecolor\":\"white\",\"minorgridcolor\":\"white\",\"startlinecolor\":\"#2a3f5f\"},\"type\":\"carpet\"}],\"table\":[{\"cells\":{\"fill\":{\"color\":\"#EBF0F8\"},\"line\":{\"color\":\"white\"}},\"header\":{\"fill\":{\"color\":\"#C8D4E3\"},\"line\":{\"color\":\"white\"}},\"type\":\"table\"}],\"barpolar\":[{\"marker\":{\"line\":{\"color\":\"#E5ECF6\",\"width\":0.5},\"pattern\":{\"fillmode\":\"overlay\",\"size\":10,\"solidity\":0.2}},\"type\":\"barpolar\"}],\"pie\":[{\"automargin\":true,\"type\":\"pie\"}]},\"layout\":{\"autotypenumbers\":\"strict\",\"colorway\":[\"#636efa\",\"#EF553B\",\"#00cc96\",\"#ab63fa\",\"#FFA15A\",\"#19d3f3\",\"#FF6692\",\"#B6E880\",\"#FF97FF\",\"#FECB52\"],\"font\":{\"color\":\"#2a3f5f\"},\"hovermode\":\"closest\",\"hoverlabel\":{\"align\":\"left\"},\"paper_bgcolor\":\"white\",\"plot_bgcolor\":\"#E5ECF6\",\"polar\":{\"bgcolor\":\"#E5ECF6\",\"angularaxis\":{\"gridcolor\":\"white\",\"linecolor\":\"white\",\"ticks\":\"\"},\"radialaxis\":{\"gridcolor\":\"white\",\"linecolor\":\"white\",\"ticks\":\"\"}},\"ternary\":{\"bgcolor\":\"#E5ECF6\",\"aaxis\":{\"gridcolor\":\"white\",\"linecolor\":\"white\",\"ticks\":\"\"},\"baxis\":{\"gridcolor\":\"white\",\"linecolor\":\"white\",\"ticks\":\"\"},\"caxis\":{\"gridcolor\":\"white\",\"linecolor\":\"white\",\"ticks\":\"\"}},\"coloraxis\":{\"colorbar\":{\"outlinewidth\":0,\"ticks\":\"\"}},\"colorscale\":{\"sequential\":[[0.0,\"#0d0887\"],[0.1111111111111111,\"#46039f\"],[0.2222222222222222,\"#7201a8\"],[0.3333333333333333,\"#9c179e\"],[0.4444444444444444,\"#bd3786\"],[0.5555555555555556,\"#d8576b\"],[0.6666666666666666,\"#ed7953\"],[0.7777777777777778,\"#fb9f3a\"],[0.8888888888888888,\"#fdca26\"],[1.0,\"#f0f921\"]],\"sequentialminus\":[[0.0,\"#0d0887\"],[0.1111111111111111,\"#46039f\"],[0.2222222222222222,\"#7201a8\"],[0.3333333333333333,\"#9c179e\"],[0.4444444444444444,\"#bd3786\"],[0.5555555555555556,\"#d8576b\"],[0.6666666666666666,\"#ed7953\"],[0.7777777777777778,\"#fb9f3a\"],[0.8888888888888888,\"#fdca26\"],[1.0,\"#f0f921\"]],\"diverging\":[[0,\"#8e0152\"],[0.1,\"#c51b7d\"],[0.2,\"#de77ae\"],[0.3,\"#f1b6da\"],[0.4,\"#fde0ef\"],[0.5,\"#f7f7f7\"],[0.6,\"#e6f5d0\"],[0.7,\"#b8e186\"],[0.8,\"#7fbc41\"],[0.9,\"#4d9221\"],[1,\"#276419\"]]},\"xaxis\":{\"gridcolor\":\"white\",\"linecolor\":\"white\",\"ticks\":\"\",\"title\":{\"standoff\":15},\"zerolinecolor\":\"white\",\"automargin\":true,\"zerolinewidth\":2},\"yaxis\":{\"gridcolor\":\"white\",\"linecolor\":\"white\",\"ticks\":\"\",\"title\":{\"standoff\":15},\"zerolinecolor\":\"white\",\"automargin\":true,\"zerolinewidth\":2},\"scene\":{\"xaxis\":{\"backgroundcolor\":\"#E5ECF6\",\"gridcolor\":\"white\",\"linecolor\":\"white\",\"showbackground\":true,\"ticks\":\"\",\"zerolinecolor\":\"white\",\"gridwidth\":2},\"yaxis\":{\"backgroundcolor\":\"#E5ECF6\",\"gridcolor\":\"white\",\"linecolor\":\"white\",\"showbackground\":true,\"ticks\":\"\",\"zerolinecolor\":\"white\",\"gridwidth\":2},\"zaxis\":{\"backgroundcolor\":\"#E5ECF6\",\"gridcolor\":\"white\",\"linecolor\":\"white\",\"showbackground\":true,\"ticks\":\"\",\"zerolinecolor\":\"white\",\"gridwidth\":2}},\"shapedefaults\":{\"line\":{\"color\":\"#2a3f5f\"}},\"annotationdefaults\":{\"arrowcolor\":\"#2a3f5f\",\"arrowhead\":0,\"arrowwidth\":1},\"geo\":{\"bgcolor\":\"white\",\"landcolor\":\"#E5ECF6\",\"subunitcolor\":\"white\",\"showland\":true,\"showlakes\":true,\"lakecolor\":\"white\"},\"title\":{\"x\":0.05},\"mapbox\":{\"style\":\"light\"}}},\"xaxis\":{\"anchor\":\"y\",\"domain\":[0.0,1.0],\"title\":{\"text\":\"Vch Type\"}},\"yaxis\":{\"anchor\":\"x\",\"domain\":[0.0,1.0],\"title\":{\"text\":\"value\"}},\"legend\":{\"title\":{\"text\":\"variable\"},\"tracegroupgap\":0},\"title\":{\"text\":\"Credit Debit distribution of each voucher type\"},\"barmode\":\"relative\"},                        {\"responsive\": true}                    ).then(function(){\n",
       "                            \n",
       "var gd = document.getElementById('ab8dfa8c-cf19-4b08-b3e7-2bfa3e75278d');\n",
       "var x = new MutationObserver(function (mutations, observer) {{\n",
       "        var display = window.getComputedStyle(gd).display;\n",
       "        if (!display || display === 'none') {{\n",
       "            console.log([gd, 'removed!']);\n",
       "            Plotly.purge(gd);\n",
       "            observer.disconnect();\n",
       "        }}\n",
       "}});\n",
       "\n",
       "// Listen for the removal of the full notebook cells\n",
       "var notebookContainer = gd.closest('#notebook-container');\n",
       "if (notebookContainer) {{\n",
       "    x.observe(notebookContainer, {childList: true});\n",
       "}}\n",
       "\n",
       "// Listen for the clearing of the current output cell\n",
       "var outputEl = gd.closest('.output');\n",
       "if (outputEl) {{\n",
       "    x.observe(outputEl, {childList: true});\n",
       "}}\n",
       "\n",
       "                        })                };                });            </script>        </div>"
      ]
     },
     "metadata": {},
     "output_type": "display_data"
    }
   ],
   "source": [
    "fig = px.bar(vouch, x=\"Vch Type\", y=['Credit','Debit'], title=\"Credit Debit distribution of each voucher type\")\n",
    "fig.show()"
   ]
  },
  {
   "cell_type": "markdown",
   "id": "2546ee78-931e-48de-a1dd-75ba52b118ae",
   "metadata": {},
   "source": [
    "## FINDIND OUTLIERS BY IQR METHOD"
   ]
  },
  {
   "cell_type": "code",
   "execution_count": 81,
   "id": "270a2488-717e-4adb-bc55-34e1c3432467",
   "metadata": {},
   "outputs": [
    {
     "data": {
      "text/plain": [
       "<Axes: xlabel='Debit'>"
      ]
     },
     "execution_count": 81,
     "metadata": {},
     "output_type": "execute_result"
    },
    {
     "data": {
      "image/png": "[encoded data removed]",
      "text/plain": [
       "<Figure size 640x480 with 1 Axes>"
      ]
     },
     "metadata": {},
     "output_type": "display_data"
    }
   ],
   "source": [
    "sns.boxplot(x=monthly_summary['Debit'])"
   ]
  },
  {
   "cell_type": "code",
   "execution_count": 82,
   "id": "763a6a34-fafd-45cc-b5fe-c13e4cf7c8e8",
   "metadata": {},
   "outputs": [
    {
     "data": {
      "text/html": [
       "<div>\n",
       "<style scoped>\n",
       "    .dataframe tbody tr th:only-of-type {\n",
       "        vertical-align: middle;\n",
       "    }\n",
       "\n",
       "    .dataframe tbody tr th {\n",
       "        vertical-align: top;\n",
       "    }\n",
       "\n",
       "    .dataframe thead th {\n",
       "        text-align: right;\n",
       "    }\n",
       "</style>\n",
       "<table border=\"1\" class=\"dataframe\">\n",
       "  <thead>\n",
       "    <tr style=\"text-align: right;\">\n",
       "      <th></th>\n",
       "      <th>year</th>\n",
       "      <th>month</th>\n",
       "      <th>Debit</th>\n",
       "      <th>Credit</th>\n",
       "    </tr>\n",
       "  </thead>\n",
       "  <tbody>\n",
       "    <tr>\n",
       "      <th>0</th>\n",
       "      <td>2022</td>\n",
       "      <td>4</td>\n",
       "      <td>11651.0</td>\n",
       "      <td>0.0</td>\n",
       "    </tr>\n",
       "    <tr>\n",
       "      <th>1</th>\n",
       "      <td>2022</td>\n",
       "      <td>5</td>\n",
       "      <td>11909.0</td>\n",
       "      <td>50000.0</td>\n",
       "    </tr>\n",
       "    <tr>\n",
       "      <th>2</th>\n",
       "      <td>2022</td>\n",
       "      <td>6</td>\n",
       "      <td>27412.0</td>\n",
       "      <td>0.0</td>\n",
       "    </tr>\n",
       "    <tr>\n",
       "      <th>3</th>\n",
       "      <td>2022</td>\n",
       "      <td>7</td>\n",
       "      <td>314291.0</td>\n",
       "      <td>571381.0</td>\n",
       "    </tr>\n",
       "    <tr>\n",
       "      <th>4</th>\n",
       "      <td>2022</td>\n",
       "      <td>8</td>\n",
       "      <td>300852.0</td>\n",
       "      <td>66933.0</td>\n",
       "    </tr>\n",
       "    <tr>\n",
       "      <th>5</th>\n",
       "      <td>2022</td>\n",
       "      <td>9</td>\n",
       "      <td>79477.0</td>\n",
       "      <td>50000.0</td>\n",
       "    </tr>\n",
       "    <tr>\n",
       "      <th>6</th>\n",
       "      <td>2022</td>\n",
       "      <td>10</td>\n",
       "      <td>54336.0</td>\n",
       "      <td>377174.0</td>\n",
       "    </tr>\n",
       "    <tr>\n",
       "      <th>7</th>\n",
       "      <td>2022</td>\n",
       "      <td>11</td>\n",
       "      <td>142250.0</td>\n",
       "      <td>50000.0</td>\n",
       "    </tr>\n",
       "    <tr>\n",
       "      <th>8</th>\n",
       "      <td>2022</td>\n",
       "      <td>12</td>\n",
       "      <td>252184.0</td>\n",
       "      <td>50000.0</td>\n",
       "    </tr>\n",
       "    <tr>\n",
       "      <th>9</th>\n",
       "      <td>2023</td>\n",
       "      <td>1</td>\n",
       "      <td>81249.0</td>\n",
       "      <td>162797.0</td>\n",
       "    </tr>\n",
       "    <tr>\n",
       "      <th>10</th>\n",
       "      <td>2023</td>\n",
       "      <td>2</td>\n",
       "      <td>59831.0</td>\n",
       "      <td>50000.0</td>\n",
       "    </tr>\n",
       "    <tr>\n",
       "      <th>11</th>\n",
       "      <td>2023</td>\n",
       "      <td>3</td>\n",
       "      <td>2300009.0</td>\n",
       "      <td>31063.0</td>\n",
       "    </tr>\n",
       "  </tbody>\n",
       "</table>\n",
       "</div>"
      ],
      "text/plain": [
       "    year  month      Debit    Credit\n",
       "0   2022      4    11651.0       0.0\n",
       "1   2022      5    11909.0   50000.0\n",
       "2   2022      6    27412.0       0.0\n",
       "3   2022      7   314291.0  571381.0\n",
       "4   2022      8   300852.0   66933.0\n",
       "5   2022      9    79477.0   50000.0\n",
       "6   2022     10    54336.0  377174.0\n",
       "7   2022     11   142250.0   50000.0\n",
       "8   2022     12   252184.0   50000.0\n",
       "9   2023      1    81249.0  162797.0\n",
       "10  2023      2    59831.0   50000.0\n",
       "11  2023      3  2300009.0   31063.0"
      ]
     },
     "execution_count": 82,
     "metadata": {},
     "output_type": "execute_result"
    }
   ],
   "source": [
    "monthly_summary"
   ]
  },
  {
   "cell_type": "code",
   "execution_count": 83,
   "id": "d2dc61d2-b626-4dc0-8e0b-fa31cc21fb46",
   "metadata": {},
   "outputs": [
    {
     "data": {
      "text/plain": [
       "<Axes: xlabel='Credit'>"
      ]
     },
     "execution_count": 83,
     "metadata": {},
     "output_type": "execute_result"
    },
    {
     "data": {
      "image/png": "[encoded data removed]",
      "text/plain": [
       "<Figure size 640x480 with 1 Axes>"
      ]
     },
     "metadata": {},
     "output_type": "display_data"
    }
   ],
   "source": [
    "sns.boxplot(x=monthly_summary['Credit'])"
   ]
  },
  {
   "cell_type": "code",
   "execution_count": 84,
   "id": "a8bc7652-801a-4b57-bab6-a416f463a8e9",
   "metadata": {},
   "outputs": [
    {
     "name": "stdout",
     "output_type": "stream",
     "text": [
      "Outliers in Debit:\n",
      "    year  month      Debit   Credit\n",
      "11  2023      3  2300009.0  31063.0\n",
      "\n",
      "Outliers in Credit:\n",
      "   year  month     Debit    Credit\n",
      "3  2022      7  314291.0  571381.0\n",
      "6  2022     10   54336.0  377174.0\n",
      "9  2023      1   81249.0  162797.0\n"
     ]
    }
   ],
   "source": [
    "Q1 = monthly_summary['Debit'].quantile(0.25)\n",
    "Q3 = monthly_summary['Debit'].quantile(0.75)\n",
    "IQR = Q3 - Q1\n",
    "lower_bound = Q1 - 1.5 * IQR\n",
    "upper_bound = Q3 + 1.5 * IQR\n",
    "df_outliers_debit = monthly_summary[(monthly_summary['Debit'] < lower_bound) | (monthly_summary['Debit'] > upper_bound)]\n",
    "\n",
    "Q1_c = monthly_summary['Credit'].quantile(0.25)\n",
    "Q3_c = monthly_summary['Credit'].quantile(0.75)\n",
    "IQR_c = Q3_c - Q1_c\n",
    "lower_bound_c = Q1_c - 1.5 * IQR_c\n",
    "upper_bound_c = Q3_c + 1.5 * IQR_c\n",
    "df_outliers_credit = monthly_summary[(monthly_summary['Credit'] < lower_bound_c) | (monthly_summary['Credit'] > upper_bound_c)]\n",
    "\n",
    "print(\"Outliers in Debit:\")\n",
    "print(df_outliers_debit)\n",
    "print(\"\\nOutliers in Credit:\")\n",
    "print(df_outliers_credit)"
   ]
  },
  {
   "cell_type": "markdown",
   "id": "466d3401-d22f-4c8f-9289-c1756882b4e1",
   "metadata": {},
   "source": [
    "### PREPROCESING 2ND TALLY"
   ]
  },
  {
   "cell_type": "code",
   "execution_count": 85,
   "id": "fa7aa801-97fb-4bd4-8702-307a827e9187",
   "metadata": {},
   "outputs": [],
   "source": [
    "date =df2['Date'].dt.day\n",
    "month =df2['Date'].dt.month\n",
    "year=df2['Date'].dt.year\n",
    "df2.insert(1,'date',date)\n",
    "df2.insert(2,'month',month)\n",
    "df2.insert(3,'year',year)"
   ]
  },
  {
   "cell_type": "code",
   "execution_count": 86,
   "id": "3c1b5124-c5cc-4b4a-91ab-b26a78045da9",
   "metadata": {},
   "outputs": [
    {
     "data": {
      "text/html": [
       "<div>\n",
       "<style scoped>\n",
       "    .dataframe tbody tr th:only-of-type {\n",
       "        vertical-align: middle;\n",
       "    }\n",
       "\n",
       "    .dataframe tbody tr th {\n",
       "        vertical-align: top;\n",
       "    }\n",
       "\n",
       "    .dataframe thead th {\n",
       "        text-align: right;\n",
       "    }\n",
       "</style>\n",
       "<table border=\"1\" class=\"dataframe\">\n",
       "  <thead>\n",
       "    <tr style=\"text-align: right;\">\n",
       "      <th></th>\n",
       "      <th>Date</th>\n",
       "      <th>date</th>\n",
       "      <th>month</th>\n",
       "      <th>year</th>\n",
       "      <th>Particulars</th>\n",
       "      <th>Vch Type</th>\n",
       "      <th>Vch No.</th>\n",
       "      <th>Debit</th>\n",
       "      <th>Credit</th>\n",
       "    </tr>\n",
       "  </thead>\n",
       "  <tbody>\n",
       "    <tr>\n",
       "      <th>0</th>\n",
       "      <td>2023-04-04</td>\n",
       "      <td>4</td>\n",
       "      <td>4</td>\n",
       "      <td>2023</td>\n",
       "      <td>Printing Expenses</td>\n",
       "      <td>PMT LUC - CASH</td>\n",
       "      <td>1</td>\n",
       "      <td>18.0</td>\n",
       "      <td>0.0</td>\n",
       "    </tr>\n",
       "    <tr>\n",
       "      <th>1</th>\n",
       "      <td>2023-04-13</td>\n",
       "      <td>13</td>\n",
       "      <td>4</td>\n",
       "      <td>2023</td>\n",
       "      <td>Courier Charges</td>\n",
       "      <td>PMT LUC - CASH</td>\n",
       "      <td>2</td>\n",
       "      <td>130.0</td>\n",
       "      <td>0.0</td>\n",
       "    </tr>\n",
       "    <tr>\n",
       "      <th>2</th>\n",
       "      <td>2023-04-15</td>\n",
       "      <td>15</td>\n",
       "      <td>4</td>\n",
       "      <td>2023</td>\n",
       "      <td>Lucknow - Delhi</td>\n",
       "      <td>RCP LUC - BANK</td>\n",
       "      <td>1</td>\n",
       "      <td>0.0</td>\n",
       "      <td>170000.0</td>\n",
       "    </tr>\n",
       "    <tr>\n",
       "      <th>3</th>\n",
       "      <td>2023-04-20</td>\n",
       "      <td>20</td>\n",
       "      <td>4</td>\n",
       "      <td>2023</td>\n",
       "      <td>O/S Liabilities (2022-23)</td>\n",
       "      <td>PMT LUC - CASH</td>\n",
       "      <td>3</td>\n",
       "      <td>589.0</td>\n",
       "      <td>0.0</td>\n",
       "    </tr>\n",
       "    <tr>\n",
       "      <th>4</th>\n",
       "      <td>2023-04-24</td>\n",
       "      <td>24</td>\n",
       "      <td>4</td>\n",
       "      <td>2023</td>\n",
       "      <td>AXIS - Lucknow - 913010001710740</td>\n",
       "      <td>Contra</td>\n",
       "      <td>1</td>\n",
       "      <td>0.0</td>\n",
       "      <td>30000.0</td>\n",
       "    </tr>\n",
       "    <tr>\n",
       "      <th>...</th>\n",
       "      <td>...</td>\n",
       "      <td>...</td>\n",
       "      <td>...</td>\n",
       "      <td>...</td>\n",
       "      <td>...</td>\n",
       "      <td>...</td>\n",
       "      <td>...</td>\n",
       "      <td>...</td>\n",
       "      <td>...</td>\n",
       "    </tr>\n",
       "    <tr>\n",
       "      <th>440</th>\n",
       "      <td>2024-03-31</td>\n",
       "      <td>31</td>\n",
       "      <td>3</td>\n",
       "      <td>2024</td>\n",
       "      <td>Internet Expenses</td>\n",
       "      <td>Journal</td>\n",
       "      <td>12</td>\n",
       "      <td>943.0</td>\n",
       "      <td>0.0</td>\n",
       "    </tr>\n",
       "    <tr>\n",
       "      <th>441</th>\n",
       "      <td>2024-03-31</td>\n",
       "      <td>31</td>\n",
       "      <td>3</td>\n",
       "      <td>2024</td>\n",
       "      <td>Lucknow - Delhi</td>\n",
       "      <td>Journal</td>\n",
       "      <td>13</td>\n",
       "      <td>766452.0</td>\n",
       "      <td>0.0</td>\n",
       "    </tr>\n",
       "    <tr>\n",
       "      <th>442</th>\n",
       "      <td>2024-03-31</td>\n",
       "      <td>31</td>\n",
       "      <td>3</td>\n",
       "      <td>2024</td>\n",
       "      <td>Lucknow - Delhi</td>\n",
       "      <td>Journal</td>\n",
       "      <td>14</td>\n",
       "      <td>116500.0</td>\n",
       "      <td>0.0</td>\n",
       "    </tr>\n",
       "    <tr>\n",
       "      <th>443</th>\n",
       "      <td>2024-03-31</td>\n",
       "      <td>31</td>\n",
       "      <td>3</td>\n",
       "      <td>2024</td>\n",
       "      <td>Branch Fund</td>\n",
       "      <td>Journal</td>\n",
       "      <td>15</td>\n",
       "      <td>14600.0</td>\n",
       "      <td>0.0</td>\n",
       "    </tr>\n",
       "    <tr>\n",
       "      <th>444</th>\n",
       "      <td>2024-03-31</td>\n",
       "      <td>31</td>\n",
       "      <td>3</td>\n",
       "      <td>2024</td>\n",
       "      <td>Lucknow Operation Fund</td>\n",
       "      <td>Journal</td>\n",
       "      <td>16</td>\n",
       "      <td>1118624.0</td>\n",
       "      <td>0.0</td>\n",
       "    </tr>\n",
       "  </tbody>\n",
       "</table>\n",
       "<p>445 rows × 9 columns</p>\n",
       "</div>"
      ],
      "text/plain": [
       "          Date  date  month  year                       Particulars  \\\n",
       "0   2023-04-04     4      4  2023                 Printing Expenses   \n",
       "1   2023-04-13    13      4  2023                   Courier Charges   \n",
       "2   2023-04-15    15      4  2023                   Lucknow - Delhi   \n",
       "3   2023-04-20    20      4  2023         O/S Liabilities (2022-23)   \n",
       "4   2023-04-24    24      4  2023  AXIS - Lucknow - 913010001710740   \n",
       "..         ...   ...    ...   ...                               ...   \n",
       "440 2024-03-31    31      3  2024                 Internet Expenses   \n",
       "441 2024-03-31    31      3  2024                   Lucknow - Delhi   \n",
       "442 2024-03-31    31      3  2024                   Lucknow - Delhi   \n",
       "443 2024-03-31    31      3  2024                       Branch Fund   \n",
       "444 2024-03-31    31      3  2024            Lucknow Operation Fund   \n",
       "\n",
       "           Vch Type  Vch No.      Debit    Credit  \n",
       "0    PMT LUC - CASH        1       18.0       0.0  \n",
       "1    PMT LUC - CASH        2      130.0       0.0  \n",
       "2    RCP LUC - BANK        1        0.0  170000.0  \n",
       "3    PMT LUC - CASH        3      589.0       0.0  \n",
       "4            Contra        1        0.0   30000.0  \n",
       "..              ...      ...        ...       ...  \n",
       "440         Journal       12      943.0       0.0  \n",
       "441         Journal       13   766452.0       0.0  \n",
       "442         Journal       14   116500.0       0.0  \n",
       "443         Journal       15    14600.0       0.0  \n",
       "444         Journal       16  1118624.0       0.0  \n",
       "\n",
       "[445 rows x 9 columns]"
      ]
     },
     "execution_count": 86,
     "metadata": {},
     "output_type": "execute_result"
    }
   ],
   "source": [
    "df2=df2.fillna(0)\n",
    "df2"
   ]
  },
  {
   "cell_type": "code",
   "execution_count": 87,
   "id": "f86c1015-a38b-41b7-a291-863500d63399",
   "metadata": {},
   "outputs": [
    {
     "data": {
      "text/html": [
       "<div>\n",
       "<style scoped>\n",
       "    .dataframe tbody tr th:only-of-type {\n",
       "        vertical-align: middle;\n",
       "    }\n",
       "\n",
       "    .dataframe tbody tr th {\n",
       "        vertical-align: top;\n",
       "    }\n",
       "\n",
       "    .dataframe thead th {\n",
       "        text-align: right;\n",
       "    }\n",
       "</style>\n",
       "<table border=\"1\" class=\"dataframe\">\n",
       "  <thead>\n",
       "    <tr style=\"text-align: right;\">\n",
       "      <th></th>\n",
       "      <th>Date</th>\n",
       "      <th>date</th>\n",
       "      <th>month</th>\n",
       "      <th>year</th>\n",
       "      <th>Particulars</th>\n",
       "      <th>Vch Type</th>\n",
       "      <th>Vch No.</th>\n",
       "      <th>Debit</th>\n",
       "      <th>Credit</th>\n",
       "    </tr>\n",
       "  </thead>\n",
       "  <tbody>\n",
       "    <tr>\n",
       "      <th>0</th>\n",
       "      <td>2022-04-01</td>\n",
       "      <td>1</td>\n",
       "      <td>4</td>\n",
       "      <td>2022</td>\n",
       "      <td>Computer - Software</td>\n",
       "      <td>Journal</td>\n",
       "      <td>1</td>\n",
       "      <td>614.0</td>\n",
       "      <td>0.0</td>\n",
       "    </tr>\n",
       "    <tr>\n",
       "      <th>1</th>\n",
       "      <td>2022-04-04</td>\n",
       "      <td>4</td>\n",
       "      <td>4</td>\n",
       "      <td>2022</td>\n",
       "      <td>Rep &amp; Maint - General</td>\n",
       "      <td>PMT LUC - CASH</td>\n",
       "      <td>1</td>\n",
       "      <td>200.0</td>\n",
       "      <td>0.0</td>\n",
       "    </tr>\n",
       "    <tr>\n",
       "      <th>2</th>\n",
       "      <td>2022-04-15</td>\n",
       "      <td>15</td>\n",
       "      <td>4</td>\n",
       "      <td>2022</td>\n",
       "      <td>Courier Charges</td>\n",
       "      <td>PMT LUC - CASH</td>\n",
       "      <td>2</td>\n",
       "      <td>120.0</td>\n",
       "      <td>0.0</td>\n",
       "    </tr>\n",
       "    <tr>\n",
       "      <th>3</th>\n",
       "      <td>2022-04-17</td>\n",
       "      <td>17</td>\n",
       "      <td>4</td>\n",
       "      <td>2022</td>\n",
       "      <td>Garden Expenses</td>\n",
       "      <td>PMT LUC - CASH</td>\n",
       "      <td>3</td>\n",
       "      <td>360.0</td>\n",
       "      <td>0.0</td>\n",
       "    </tr>\n",
       "    <tr>\n",
       "      <th>4</th>\n",
       "      <td>2022-04-17</td>\n",
       "      <td>17</td>\n",
       "      <td>4</td>\n",
       "      <td>2022</td>\n",
       "      <td>Rep &amp; Maint - General</td>\n",
       "      <td>PMT LUC - CASH</td>\n",
       "      <td>4</td>\n",
       "      <td>2000.0</td>\n",
       "      <td>0.0</td>\n",
       "    </tr>\n",
       "    <tr>\n",
       "      <th>...</th>\n",
       "      <td>...</td>\n",
       "      <td>...</td>\n",
       "      <td>...</td>\n",
       "      <td>...</td>\n",
       "      <td>...</td>\n",
       "      <td>...</td>\n",
       "      <td>...</td>\n",
       "      <td>...</td>\n",
       "      <td>...</td>\n",
       "    </tr>\n",
       "    <tr>\n",
       "      <th>235</th>\n",
       "      <td>2023-03-31</td>\n",
       "      <td>31</td>\n",
       "      <td>3</td>\n",
       "      <td>2023</td>\n",
       "      <td>Machinery, Equipment &amp; Vehicles</td>\n",
       "      <td>Journal</td>\n",
       "      <td>16</td>\n",
       "      <td>200.0</td>\n",
       "      <td>0.0</td>\n",
       "    </tr>\n",
       "    <tr>\n",
       "      <th>236</th>\n",
       "      <td>2023-03-31</td>\n",
       "      <td>31</td>\n",
       "      <td>3</td>\n",
       "      <td>2023</td>\n",
       "      <td>Donation in Kind - Assets</td>\n",
       "      <td>Journal</td>\n",
       "      <td>17</td>\n",
       "      <td>200.0</td>\n",
       "      <td>0.0</td>\n",
       "    </tr>\n",
       "    <tr>\n",
       "      <th>237</th>\n",
       "      <td>2023-03-31</td>\n",
       "      <td>31</td>\n",
       "      <td>3</td>\n",
       "      <td>2023</td>\n",
       "      <td>Lucknow - Delhi (EPF)</td>\n",
       "      <td>Journal</td>\n",
       "      <td>18</td>\n",
       "      <td>3300.0</td>\n",
       "      <td>0.0</td>\n",
       "    </tr>\n",
       "    <tr>\n",
       "      <th>238</th>\n",
       "      <td>2023-03-31</td>\n",
       "      <td>31</td>\n",
       "      <td>3</td>\n",
       "      <td>2023</td>\n",
       "      <td>Branch Fund</td>\n",
       "      <td>Journal</td>\n",
       "      <td>19</td>\n",
       "      <td>36301.0</td>\n",
       "      <td>0.0</td>\n",
       "    </tr>\n",
       "    <tr>\n",
       "      <th>239</th>\n",
       "      <td>2023-03-31</td>\n",
       "      <td>31</td>\n",
       "      <td>3</td>\n",
       "      <td>2023</td>\n",
       "      <td>Lucknow Operation Fund</td>\n",
       "      <td>Journal</td>\n",
       "      <td>20</td>\n",
       "      <td>505535.0</td>\n",
       "      <td>0.0</td>\n",
       "    </tr>\n",
       "  </tbody>\n",
       "</table>\n",
       "<p>240 rows × 9 columns</p>\n",
       "</div>"
      ],
      "text/plain": [
       "          Date  date  month  year                      Particulars  \\\n",
       "0   2022-04-01     1      4  2022              Computer - Software   \n",
       "1   2022-04-04     4      4  2022            Rep & Maint - General   \n",
       "2   2022-04-15    15      4  2022                  Courier Charges   \n",
       "3   2022-04-17    17      4  2022                  Garden Expenses   \n",
       "4   2022-04-17    17      4  2022            Rep & Maint - General   \n",
       "..         ...   ...    ...   ...                              ...   \n",
       "235 2023-03-31    31      3  2023  Machinery, Equipment & Vehicles   \n",
       "236 2023-03-31    31      3  2023        Donation in Kind - Assets   \n",
       "237 2023-03-31    31      3  2023            Lucknow - Delhi (EPF)   \n",
       "238 2023-03-31    31      3  2023                      Branch Fund   \n",
       "239 2023-03-31    31      3  2023           Lucknow Operation Fund   \n",
       "\n",
       "           Vch Type  Vch No.     Debit  Credit  \n",
       "0           Journal        1     614.0     0.0  \n",
       "1    PMT LUC - CASH        1     200.0     0.0  \n",
       "2    PMT LUC - CASH        2     120.0     0.0  \n",
       "3    PMT LUC - CASH        3     360.0     0.0  \n",
       "4    PMT LUC - CASH        4    2000.0     0.0  \n",
       "..              ...      ...       ...     ...  \n",
       "235         Journal       16     200.0     0.0  \n",
       "236         Journal       17     200.0     0.0  \n",
       "237         Journal       18    3300.0     0.0  \n",
       "238         Journal       19   36301.0     0.0  \n",
       "239         Journal       20  505535.0     0.0  \n",
       "\n",
       "[240 rows x 9 columns]"
      ]
     },
     "execution_count": 87,
     "metadata": {},
     "output_type": "execute_result"
    }
   ],
   "source": [
    "df1"
   ]
  },
  {
   "cell_type": "markdown",
   "id": "e2a99cff-a475-4528-b594-163cadb4f8e5",
   "metadata": {},
   "source": [
    "## MAKING A THIRD DATA SET FOR COMMON PARTICULARS IS BOTH THE DATA SET "
   ]
  },
  {
   "cell_type": "code",
   "execution_count": 88,
   "id": "4fdb1aa8-3867-4484-aaf6-580ab4e3d4b3",
   "metadata": {},
   "outputs": [],
   "source": [
    "# Find common Particulars\n",
    "common_particulars = list(set(df1['Particulars']).intersection(set(df2['Particulars'])))\n",
    "\n",
    "# Create a third data frame with values of common Particulars\n",
    "df3 = pd.concat([df1[df1['Particulars'].isin(common_particulars)],df2[df2['Particulars'].isin(common_particulars)]])\n"
   ]
  },
  {
   "cell_type": "code",
   "execution_count": 89,
   "id": "48c92ba5-5f68-4d7b-a2c8-6db7ea43e4eb",
   "metadata": {},
   "outputs": [
    {
     "name": "stdout",
     "output_type": "stream",
     "text": [
      "['Courier Charges', 'Meditational Aids - Expenses', 'Machinery, Equipment & Vehicles', 'Lucknow - Delhi', 'AXIS - Lucknow - 913010001710740', 'Printing Expenses', 'Stationery Expenses', 'Hiring Charges - Pandals,Tents,Utensils Etc.', 'Assets of Rs 5000 Or Below', 'Photocopying Expenses', 'Audio Visuals', 'Salaries', 'Garden Expenses', 'Rep & Maint - General', 'Housekeeping Comsumables', 'Rent', 'Assistance for Educational Fees', 'Food Expenses', 'Book Fair Expenses', 'Rep & Maint - Machinery & Equipments', 'Internet Expenses', 'Interest - Savings', 'Conveyance Expenses', 'Electricity Expenses', 'Lucknow Operation Fund', 'Rep & Maint - Computers']\n"
     ]
    }
   ],
   "source": [
    "print(common_particulars)"
   ]
  },
  {
   "cell_type": "code",
   "execution_count": 90,
   "id": "9b4e3a20-bab4-4ef7-b7bd-cda5591a5fd7",
   "metadata": {},
   "outputs": [
    {
     "data": {
      "text/html": [
       "<div>\n",
       "<style scoped>\n",
       "    .dataframe tbody tr th:only-of-type {\n",
       "        vertical-align: middle;\n",
       "    }\n",
       "\n",
       "    .dataframe tbody tr th {\n",
       "        vertical-align: top;\n",
       "    }\n",
       "\n",
       "    .dataframe thead th {\n",
       "        text-align: right;\n",
       "    }\n",
       "</style>\n",
       "<table border=\"1\" class=\"dataframe\">\n",
       "  <thead>\n",
       "    <tr style=\"text-align: right;\">\n",
       "      <th></th>\n",
       "      <th>Date</th>\n",
       "      <th>date</th>\n",
       "      <th>month</th>\n",
       "      <th>year</th>\n",
       "      <th>Particulars</th>\n",
       "      <th>Vch Type</th>\n",
       "      <th>Vch No.</th>\n",
       "      <th>Debit</th>\n",
       "      <th>Credit</th>\n",
       "    </tr>\n",
       "  </thead>\n",
       "  <tbody>\n",
       "    <tr>\n",
       "      <th>1</th>\n",
       "      <td>2022-04-04</td>\n",
       "      <td>4</td>\n",
       "      <td>4</td>\n",
       "      <td>2022</td>\n",
       "      <td>Rep &amp; Maint - General</td>\n",
       "      <td>PMT LUC - CASH</td>\n",
       "      <td>1</td>\n",
       "      <td>200.0</td>\n",
       "      <td>0.0</td>\n",
       "    </tr>\n",
       "    <tr>\n",
       "      <th>2</th>\n",
       "      <td>2022-04-15</td>\n",
       "      <td>15</td>\n",
       "      <td>4</td>\n",
       "      <td>2022</td>\n",
       "      <td>Courier Charges</td>\n",
       "      <td>PMT LUC - CASH</td>\n",
       "      <td>2</td>\n",
       "      <td>120.0</td>\n",
       "      <td>0.0</td>\n",
       "    </tr>\n",
       "    <tr>\n",
       "      <th>3</th>\n",
       "      <td>2022-04-17</td>\n",
       "      <td>17</td>\n",
       "      <td>4</td>\n",
       "      <td>2022</td>\n",
       "      <td>Garden Expenses</td>\n",
       "      <td>PMT LUC - CASH</td>\n",
       "      <td>3</td>\n",
       "      <td>360.0</td>\n",
       "      <td>0.0</td>\n",
       "    </tr>\n",
       "    <tr>\n",
       "      <th>4</th>\n",
       "      <td>2022-04-17</td>\n",
       "      <td>17</td>\n",
       "      <td>4</td>\n",
       "      <td>2022</td>\n",
       "      <td>Rep &amp; Maint - General</td>\n",
       "      <td>PMT LUC - CASH</td>\n",
       "      <td>4</td>\n",
       "      <td>2000.0</td>\n",
       "      <td>0.0</td>\n",
       "    </tr>\n",
       "    <tr>\n",
       "      <th>6</th>\n",
       "      <td>2022-04-21</td>\n",
       "      <td>21</td>\n",
       "      <td>4</td>\n",
       "      <td>2022</td>\n",
       "      <td>Electricity Expenses</td>\n",
       "      <td>PMT LUC - BANK</td>\n",
       "      <td>1</td>\n",
       "      <td>1168.0</td>\n",
       "      <td>0.0</td>\n",
       "    </tr>\n",
       "    <tr>\n",
       "      <th>...</th>\n",
       "      <td>...</td>\n",
       "      <td>...</td>\n",
       "      <td>...</td>\n",
       "      <td>...</td>\n",
       "      <td>...</td>\n",
       "      <td>...</td>\n",
       "      <td>...</td>\n",
       "      <td>...</td>\n",
       "      <td>...</td>\n",
       "    </tr>\n",
       "    <tr>\n",
       "      <th>439</th>\n",
       "      <td>2024-03-31</td>\n",
       "      <td>31</td>\n",
       "      <td>3</td>\n",
       "      <td>2024</td>\n",
       "      <td>Lucknow - Delhi</td>\n",
       "      <td>Journal</td>\n",
       "      <td>11</td>\n",
       "      <td>1086742.0</td>\n",
       "      <td>0.0</td>\n",
       "    </tr>\n",
       "    <tr>\n",
       "      <th>440</th>\n",
       "      <td>2024-03-31</td>\n",
       "      <td>31</td>\n",
       "      <td>3</td>\n",
       "      <td>2024</td>\n",
       "      <td>Internet Expenses</td>\n",
       "      <td>Journal</td>\n",
       "      <td>12</td>\n",
       "      <td>943.0</td>\n",
       "      <td>0.0</td>\n",
       "    </tr>\n",
       "    <tr>\n",
       "      <th>441</th>\n",
       "      <td>2024-03-31</td>\n",
       "      <td>31</td>\n",
       "      <td>3</td>\n",
       "      <td>2024</td>\n",
       "      <td>Lucknow - Delhi</td>\n",
       "      <td>Journal</td>\n",
       "      <td>13</td>\n",
       "      <td>766452.0</td>\n",
       "      <td>0.0</td>\n",
       "    </tr>\n",
       "    <tr>\n",
       "      <th>442</th>\n",
       "      <td>2024-03-31</td>\n",
       "      <td>31</td>\n",
       "      <td>3</td>\n",
       "      <td>2024</td>\n",
       "      <td>Lucknow - Delhi</td>\n",
       "      <td>Journal</td>\n",
       "      <td>14</td>\n",
       "      <td>116500.0</td>\n",
       "      <td>0.0</td>\n",
       "    </tr>\n",
       "    <tr>\n",
       "      <th>444</th>\n",
       "      <td>2024-03-31</td>\n",
       "      <td>31</td>\n",
       "      <td>3</td>\n",
       "      <td>2024</td>\n",
       "      <td>Lucknow Operation Fund</td>\n",
       "      <td>Journal</td>\n",
       "      <td>16</td>\n",
       "      <td>1118624.0</td>\n",
       "      <td>0.0</td>\n",
       "    </tr>\n",
       "  </tbody>\n",
       "</table>\n",
       "<p>615 rows × 9 columns</p>\n",
       "</div>"
      ],
      "text/plain": [
       "          Date  date  month  year             Particulars        Vch Type  \\\n",
       "1   2022-04-04     4      4  2022   Rep & Maint - General  PMT LUC - CASH   \n",
       "2   2022-04-15    15      4  2022         Courier Charges  PMT LUC - CASH   \n",
       "3   2022-04-17    17      4  2022         Garden Expenses  PMT LUC - CASH   \n",
       "4   2022-04-17    17      4  2022   Rep & Maint - General  PMT LUC - CASH   \n",
       "6   2022-04-21    21      4  2022    Electricity Expenses  PMT LUC - BANK   \n",
       "..         ...   ...    ...   ...                     ...             ...   \n",
       "439 2024-03-31    31      3  2024         Lucknow - Delhi         Journal   \n",
       "440 2024-03-31    31      3  2024       Internet Expenses         Journal   \n",
       "441 2024-03-31    31      3  2024         Lucknow - Delhi         Journal   \n",
       "442 2024-03-31    31      3  2024         Lucknow - Delhi         Journal   \n",
       "444 2024-03-31    31      3  2024  Lucknow Operation Fund         Journal   \n",
       "\n",
       "     Vch No.      Debit  Credit  \n",
       "1          1      200.0     0.0  \n",
       "2          2      120.0     0.0  \n",
       "3          3      360.0     0.0  \n",
       "4          4     2000.0     0.0  \n",
       "6          1     1168.0     0.0  \n",
       "..       ...        ...     ...  \n",
       "439       11  1086742.0     0.0  \n",
       "440       12      943.0     0.0  \n",
       "441       13   766452.0     0.0  \n",
       "442       14   116500.0     0.0  \n",
       "444       16  1118624.0     0.0  \n",
       "\n",
       "[615 rows x 9 columns]"
      ]
     },
     "execution_count": 90,
     "metadata": {},
     "output_type": "execute_result"
    }
   ],
   "source": [
    "df3"
   ]
  },
  {
   "cell_type": "code",
   "execution_count": 91,
   "id": "5228f280-63bf-433c-84f5-9abb0dfee2a4",
   "metadata": {},
   "outputs": [
    {
     "data": {
      "text/plain": [
       "Particulars\n",
       "Food Expenses                                   102\n",
       "Housekeeping Comsumables                         92\n",
       "Rep & Maint - General                            46\n",
       "Garden Expenses                                  44\n",
       "Salaries                                         44\n",
       "Courier Charges                                  44\n",
       "Lucknow - Delhi                                  39\n",
       "AXIS - Lucknow - 913010001710740                 29\n",
       "Internet Expenses                                26\n",
       "Electricity Expenses                             23\n",
       "Meditational Aids - Expenses                     23\n",
       "Stationery Expenses                              17\n",
       "Machinery, Equipment & Vehicles                  13\n",
       "Printing Expenses                                 9\n",
       "Hiring Charges - Pandals,Tents,Utensils Etc.      8\n",
       "Interest - Savings                                8\n",
       "Book Fair Expenses                                7\n",
       "Rep & Maint - Machinery & Equipments              7\n",
       "Audio Visuals                                     6\n",
       "Conveyance Expenses                               5\n",
       "Rent                                              5\n",
       "Assistance for Educational Fees                   5\n",
       "Photocopying Expenses                             4\n",
       "Assets of Rs 5000 Or Below                        4\n",
       "Rep & Maint - Computers                           3\n",
       "Lucknow Operation Fund                            2\n",
       "Name: count, dtype: int64"
      ]
     },
     "execution_count": 91,
     "metadata": {},
     "output_type": "execute_result"
    }
   ],
   "source": [
    "df3['Particulars'].value_counts()"
   ]
  },
  {
   "cell_type": "code",
   "execution_count": 92,
   "id": "f49b3e85-e7d5-40af-b66f-502376109b29",
   "metadata": {},
   "outputs": [
    {
     "data": {
      "text/html": [
       "<div>\n",
       "<style scoped>\n",
       "    .dataframe tbody tr th:only-of-type {\n",
       "        vertical-align: middle;\n",
       "    }\n",
       "\n",
       "    .dataframe tbody tr th {\n",
       "        vertical-align: top;\n",
       "    }\n",
       "\n",
       "    .dataframe thead th {\n",
       "        text-align: right;\n",
       "    }\n",
       "</style>\n",
       "<table border=\"1\" class=\"dataframe\">\n",
       "  <thead>\n",
       "    <tr style=\"text-align: right;\">\n",
       "      <th></th>\n",
       "      <th>index</th>\n",
       "      <th>Date</th>\n",
       "      <th>date</th>\n",
       "      <th>month</th>\n",
       "      <th>year</th>\n",
       "      <th>Particulars</th>\n",
       "      <th>Vch Type</th>\n",
       "      <th>Vch No.</th>\n",
       "      <th>Debit</th>\n",
       "      <th>Credit</th>\n",
       "    </tr>\n",
       "  </thead>\n",
       "  <tbody>\n",
       "    <tr>\n",
       "      <th>0</th>\n",
       "      <td>368</td>\n",
       "      <td>2024-01-12</td>\n",
       "      <td>12</td>\n",
       "      <td>1</td>\n",
       "      <td>2024</td>\n",
       "      <td>Food Expenses</td>\n",
       "      <td>PMT LUC - CASH</td>\n",
       "      <td>298</td>\n",
       "      <td>7800.0</td>\n",
       "      <td>0.0</td>\n",
       "    </tr>\n",
       "    <tr>\n",
       "      <th>1</th>\n",
       "      <td>97</td>\n",
       "      <td>2022-10-01</td>\n",
       "      <td>1</td>\n",
       "      <td>10</td>\n",
       "      <td>2022</td>\n",
       "      <td>Salaries</td>\n",
       "      <td>PMT LUC - BANK</td>\n",
       "      <td>8</td>\n",
       "      <td>15000.0</td>\n",
       "      <td>0.0</td>\n",
       "    </tr>\n",
       "    <tr>\n",
       "      <th>2</th>\n",
       "      <td>405</td>\n",
       "      <td>2024-02-27</td>\n",
       "      <td>27</td>\n",
       "      <td>2</td>\n",
       "      <td>2024</td>\n",
       "      <td>Lucknow - Delhi</td>\n",
       "      <td>RCP LUC - BANK</td>\n",
       "      <td>11</td>\n",
       "      <td>0.0</td>\n",
       "      <td>100000.0</td>\n",
       "    </tr>\n",
       "    <tr>\n",
       "      <th>3</th>\n",
       "      <td>52</td>\n",
       "      <td>2023-06-30</td>\n",
       "      <td>30</td>\n",
       "      <td>6</td>\n",
       "      <td>2023</td>\n",
       "      <td>Housekeeping Comsumables</td>\n",
       "      <td>PMT LUC - CASH</td>\n",
       "      <td>42</td>\n",
       "      <td>1300.0</td>\n",
       "      <td>0.0</td>\n",
       "    </tr>\n",
       "    <tr>\n",
       "      <th>4</th>\n",
       "      <td>378</td>\n",
       "      <td>2024-01-16</td>\n",
       "      <td>16</td>\n",
       "      <td>1</td>\n",
       "      <td>2024</td>\n",
       "      <td>Courier Charges</td>\n",
       "      <td>PMT LUC - CASH</td>\n",
       "      <td>306</td>\n",
       "      <td>130.0</td>\n",
       "      <td>0.0</td>\n",
       "    </tr>\n",
       "    <tr>\n",
       "      <th>5</th>\n",
       "      <td>264</td>\n",
       "      <td>2023-09-30</td>\n",
       "      <td>30</td>\n",
       "      <td>9</td>\n",
       "      <td>2023</td>\n",
       "      <td>Food Expenses</td>\n",
       "      <td>PMT LUC - CASH</td>\n",
       "      <td>222</td>\n",
       "      <td>7140.0</td>\n",
       "      <td>0.0</td>\n",
       "    </tr>\n",
       "    <tr>\n",
       "      <th>6</th>\n",
       "      <td>272</td>\n",
       "      <td>2023-10-01</td>\n",
       "      <td>1</td>\n",
       "      <td>10</td>\n",
       "      <td>2023</td>\n",
       "      <td>Interest - Savings</td>\n",
       "      <td>RCP LUC - BANK</td>\n",
       "      <td>9</td>\n",
       "      <td>0.0</td>\n",
       "      <td>5408.0</td>\n",
       "    </tr>\n",
       "    <tr>\n",
       "      <th>7</th>\n",
       "      <td>43</td>\n",
       "      <td>2022-07-14</td>\n",
       "      <td>14</td>\n",
       "      <td>7</td>\n",
       "      <td>2022</td>\n",
       "      <td>Hiring Charges - Pandals,Tents,Utensils Etc.</td>\n",
       "      <td>PMT LUC - CASH</td>\n",
       "      <td>35</td>\n",
       "      <td>3920.0</td>\n",
       "      <td>0.0</td>\n",
       "    </tr>\n",
       "    <tr>\n",
       "      <th>8</th>\n",
       "      <td>294</td>\n",
       "      <td>2023-10-20</td>\n",
       "      <td>20</td>\n",
       "      <td>10</td>\n",
       "      <td>2023</td>\n",
       "      <td>Housekeeping Comsumables</td>\n",
       "      <td>PMT LUC - CASH</td>\n",
       "      <td>239</td>\n",
       "      <td>184.0</td>\n",
       "      <td>0.0</td>\n",
       "    </tr>\n",
       "    <tr>\n",
       "      <th>9</th>\n",
       "      <td>305</td>\n",
       "      <td>2023-11-06</td>\n",
       "      <td>6</td>\n",
       "      <td>11</td>\n",
       "      <td>2023</td>\n",
       "      <td>Lucknow - Delhi</td>\n",
       "      <td>PMT LUC - BANK</td>\n",
       "      <td>34</td>\n",
       "      <td>600.0</td>\n",
       "      <td>0.0</td>\n",
       "    </tr>\n",
       "    <tr>\n",
       "      <th>10</th>\n",
       "      <td>241</td>\n",
       "      <td>2023-09-25</td>\n",
       "      <td>25</td>\n",
       "      <td>9</td>\n",
       "      <td>2023</td>\n",
       "      <td>Rent</td>\n",
       "      <td>PMT LUC - CASH</td>\n",
       "      <td>209</td>\n",
       "      <td>1710.0</td>\n",
       "      <td>0.0</td>\n",
       "    </tr>\n",
       "    <tr>\n",
       "      <th>11</th>\n",
       "      <td>75</td>\n",
       "      <td>2023-07-17</td>\n",
       "      <td>17</td>\n",
       "      <td>7</td>\n",
       "      <td>2023</td>\n",
       "      <td>Courier Charges</td>\n",
       "      <td>PMT LUC - CASH</td>\n",
       "      <td>61</td>\n",
       "      <td>120.0</td>\n",
       "      <td>0.0</td>\n",
       "    </tr>\n",
       "    <tr>\n",
       "      <th>12</th>\n",
       "      <td>31</td>\n",
       "      <td>2023-06-01</td>\n",
       "      <td>1</td>\n",
       "      <td>6</td>\n",
       "      <td>2023</td>\n",
       "      <td>Assistance for Educational Fees</td>\n",
       "      <td>PMT LUC - BANK</td>\n",
       "      <td>4</td>\n",
       "      <td>9200.0</td>\n",
       "      <td>0.0</td>\n",
       "    </tr>\n",
       "    <tr>\n",
       "      <th>13</th>\n",
       "      <td>198</td>\n",
       "      <td>2023-03-05</td>\n",
       "      <td>5</td>\n",
       "      <td>3</td>\n",
       "      <td>2023</td>\n",
       "      <td>Salaries</td>\n",
       "      <td>PMT LUC - BANK</td>\n",
       "      <td>24</td>\n",
       "      <td>15000.0</td>\n",
       "      <td>0.0</td>\n",
       "    </tr>\n",
       "    <tr>\n",
       "      <th>14</th>\n",
       "      <td>14</td>\n",
       "      <td>2023-05-07</td>\n",
       "      <td>7</td>\n",
       "      <td>5</td>\n",
       "      <td>2023</td>\n",
       "      <td>Salaries</td>\n",
       "      <td>PMT LUC - CASH</td>\n",
       "      <td>12</td>\n",
       "      <td>5000.0</td>\n",
       "      <td>0.0</td>\n",
       "    </tr>\n",
       "    <tr>\n",
       "      <th>15</th>\n",
       "      <td>161</td>\n",
       "      <td>2023-01-05</td>\n",
       "      <td>5</td>\n",
       "      <td>1</td>\n",
       "      <td>2023</td>\n",
       "      <td>Salaries</td>\n",
       "      <td>PMT LUC - BANK</td>\n",
       "      <td>18</td>\n",
       "      <td>15000.0</td>\n",
       "      <td>0.0</td>\n",
       "    </tr>\n",
       "    <tr>\n",
       "      <th>16</th>\n",
       "      <td>19</td>\n",
       "      <td>2022-06-01</td>\n",
       "      <td>1</td>\n",
       "      <td>6</td>\n",
       "      <td>2022</td>\n",
       "      <td>Garden Expenses</td>\n",
       "      <td>PMT LUC - CASH</td>\n",
       "      <td>17</td>\n",
       "      <td>3300.0</td>\n",
       "      <td>0.0</td>\n",
       "    </tr>\n",
       "    <tr>\n",
       "      <th>17</th>\n",
       "      <td>287</td>\n",
       "      <td>2023-10-15</td>\n",
       "      <td>15</td>\n",
       "      <td>10</td>\n",
       "      <td>2023</td>\n",
       "      <td>Assistance for Educational Fees</td>\n",
       "      <td>PMT LUC - BANK</td>\n",
       "      <td>30</td>\n",
       "      <td>10200.0</td>\n",
       "      <td>0.0</td>\n",
       "    </tr>\n",
       "    <tr>\n",
       "      <th>18</th>\n",
       "      <td>384</td>\n",
       "      <td>2024-02-04</td>\n",
       "      <td>4</td>\n",
       "      <td>2</td>\n",
       "      <td>2024</td>\n",
       "      <td>Salaries</td>\n",
       "      <td>PMT LUC - BANK</td>\n",
       "      <td>44</td>\n",
       "      <td>15100.0</td>\n",
       "      <td>0.0</td>\n",
       "    </tr>\n",
       "    <tr>\n",
       "      <th>19</th>\n",
       "      <td>335</td>\n",
       "      <td>2023-12-16</td>\n",
       "      <td>16</td>\n",
       "      <td>12</td>\n",
       "      <td>2023</td>\n",
       "      <td>Food Expenses</td>\n",
       "      <td>PMT LUC - CASH</td>\n",
       "      <td>273</td>\n",
       "      <td>940.0</td>\n",
       "      <td>0.0</td>\n",
       "    </tr>\n",
       "    <tr>\n",
       "      <th>20</th>\n",
       "      <td>225</td>\n",
       "      <td>2023-03-31</td>\n",
       "      <td>31</td>\n",
       "      <td>3</td>\n",
       "      <td>2023</td>\n",
       "      <td>Interest - Savings</td>\n",
       "      <td>RCP LUC - BANK</td>\n",
       "      <td>8</td>\n",
       "      <td>0.0</td>\n",
       "      <td>1063.0</td>\n",
       "    </tr>\n",
       "    <tr>\n",
       "      <th>21</th>\n",
       "      <td>74</td>\n",
       "      <td>2022-08-16</td>\n",
       "      <td>16</td>\n",
       "      <td>8</td>\n",
       "      <td>2022</td>\n",
       "      <td>Internet Expenses</td>\n",
       "      <td>PMT LUC - CASH</td>\n",
       "      <td>61</td>\n",
       "      <td>589.0</td>\n",
       "      <td>0.0</td>\n",
       "    </tr>\n",
       "    <tr>\n",
       "      <th>22</th>\n",
       "      <td>145</td>\n",
       "      <td>2023-09-06</td>\n",
       "      <td>6</td>\n",
       "      <td>9</td>\n",
       "      <td>2023</td>\n",
       "      <td>Housekeeping Comsumables</td>\n",
       "      <td>PMT LUC - CASH</td>\n",
       "      <td>117</td>\n",
       "      <td>227.0</td>\n",
       "      <td>0.0</td>\n",
       "    </tr>\n",
       "    <tr>\n",
       "      <th>23</th>\n",
       "      <td>13</td>\n",
       "      <td>2023-05-07</td>\n",
       "      <td>7</td>\n",
       "      <td>5</td>\n",
       "      <td>2023</td>\n",
       "      <td>Meditational Aids - Expenses</td>\n",
       "      <td>PMT LUC - CASH</td>\n",
       "      <td>11</td>\n",
       "      <td>380.0</td>\n",
       "      <td>0.0</td>\n",
       "    </tr>\n",
       "    <tr>\n",
       "      <th>24</th>\n",
       "      <td>2</td>\n",
       "      <td>2022-04-15</td>\n",
       "      <td>15</td>\n",
       "      <td>4</td>\n",
       "      <td>2022</td>\n",
       "      <td>Courier Charges</td>\n",
       "      <td>PMT LUC - CASH</td>\n",
       "      <td>2</td>\n",
       "      <td>120.0</td>\n",
       "      <td>0.0</td>\n",
       "    </tr>\n",
       "    <tr>\n",
       "      <th>25</th>\n",
       "      <td>232</td>\n",
       "      <td>2023-03-31</td>\n",
       "      <td>31</td>\n",
       "      <td>3</td>\n",
       "      <td>2023</td>\n",
       "      <td>Lucknow - Delhi</td>\n",
       "      <td>Journal</td>\n",
       "      <td>13</td>\n",
       "      <td>895787.0</td>\n",
       "      <td>0.0</td>\n",
       "    </tr>\n",
       "    <tr>\n",
       "      <th>26</th>\n",
       "      <td>149</td>\n",
       "      <td>2022-12-08</td>\n",
       "      <td>8</td>\n",
       "      <td>12</td>\n",
       "      <td>2022</td>\n",
       "      <td>Courier Charges</td>\n",
       "      <td>PMT LUC - CASH</td>\n",
       "      <td>119</td>\n",
       "      <td>120.0</td>\n",
       "      <td>0.0</td>\n",
       "    </tr>\n",
       "    <tr>\n",
       "      <th>27</th>\n",
       "      <td>183</td>\n",
       "      <td>2023-02-05</td>\n",
       "      <td>5</td>\n",
       "      <td>2</td>\n",
       "      <td>2023</td>\n",
       "      <td>Lucknow - Delhi</td>\n",
       "      <td>PMT LUC - BANK</td>\n",
       "      <td>22</td>\n",
       "      <td>1000.0</td>\n",
       "      <td>0.0</td>\n",
       "    </tr>\n",
       "    <tr>\n",
       "      <th>28</th>\n",
       "      <td>44</td>\n",
       "      <td>2023-06-15</td>\n",
       "      <td>15</td>\n",
       "      <td>6</td>\n",
       "      <td>2023</td>\n",
       "      <td>Electricity Expenses</td>\n",
       "      <td>PMT LUC - CASH</td>\n",
       "      <td>35</td>\n",
       "      <td>11272.0</td>\n",
       "      <td>0.0</td>\n",
       "    </tr>\n",
       "    <tr>\n",
       "      <th>29</th>\n",
       "      <td>371</td>\n",
       "      <td>2024-01-14</td>\n",
       "      <td>14</td>\n",
       "      <td>1</td>\n",
       "      <td>2024</td>\n",
       "      <td>Food Expenses</td>\n",
       "      <td>PMT LUC - CASH</td>\n",
       "      <td>301</td>\n",
       "      <td>4935.0</td>\n",
       "      <td>0.0</td>\n",
       "    </tr>\n",
       "    <tr>\n",
       "      <th>30</th>\n",
       "      <td>143</td>\n",
       "      <td>2022-12-05</td>\n",
       "      <td>5</td>\n",
       "      <td>12</td>\n",
       "      <td>2022</td>\n",
       "      <td>AXIS - Lucknow - 913010001710740</td>\n",
       "      <td>Contra</td>\n",
       "      <td>7</td>\n",
       "      <td>0.0</td>\n",
       "      <td>50000.0</td>\n",
       "    </tr>\n",
       "    <tr>\n",
       "      <th>31</th>\n",
       "      <td>281</td>\n",
       "      <td>2023-10-09</td>\n",
       "      <td>9</td>\n",
       "      <td>10</td>\n",
       "      <td>2023</td>\n",
       "      <td>Meditational Aids - Expenses</td>\n",
       "      <td>PMT LUC - CASH</td>\n",
       "      <td>231</td>\n",
       "      <td>426.0</td>\n",
       "      <td>0.0</td>\n",
       "    </tr>\n",
       "    <tr>\n",
       "      <th>32</th>\n",
       "      <td>253</td>\n",
       "      <td>2023-09-26</td>\n",
       "      <td>26</td>\n",
       "      <td>9</td>\n",
       "      <td>2023</td>\n",
       "      <td>Food Expenses</td>\n",
       "      <td>Journal</td>\n",
       "      <td>1</td>\n",
       "      <td>96000.0</td>\n",
       "      <td>0.0</td>\n",
       "    </tr>\n",
       "    <tr>\n",
       "      <th>33</th>\n",
       "      <td>333</td>\n",
       "      <td>2023-12-11</td>\n",
       "      <td>11</td>\n",
       "      <td>12</td>\n",
       "      <td>2023</td>\n",
       "      <td>Courier Charges</td>\n",
       "      <td>PMT LUC - CASH</td>\n",
       "      <td>271</td>\n",
       "      <td>130.0</td>\n",
       "      <td>0.0</td>\n",
       "    </tr>\n",
       "    <tr>\n",
       "      <th>34</th>\n",
       "      <td>66</td>\n",
       "      <td>2022-08-01</td>\n",
       "      <td>1</td>\n",
       "      <td>8</td>\n",
       "      <td>2022</td>\n",
       "      <td>Food Expenses</td>\n",
       "      <td>PMT LUC - CASH</td>\n",
       "      <td>55</td>\n",
       "      <td>5674.0</td>\n",
       "      <td>0.0</td>\n",
       "    </tr>\n",
       "    <tr>\n",
       "      <th>35</th>\n",
       "      <td>88</td>\n",
       "      <td>2023-07-26</td>\n",
       "      <td>26</td>\n",
       "      <td>7</td>\n",
       "      <td>2023</td>\n",
       "      <td>Electricity Expenses</td>\n",
       "      <td>PMT LUC - CASH</td>\n",
       "      <td>72</td>\n",
       "      <td>13795.0</td>\n",
       "      <td>0.0</td>\n",
       "    </tr>\n",
       "    <tr>\n",
       "      <th>36</th>\n",
       "      <td>23</td>\n",
       "      <td>2022-06-20</td>\n",
       "      <td>20</td>\n",
       "      <td>6</td>\n",
       "      <td>2022</td>\n",
       "      <td>Rep &amp; Maint - General</td>\n",
       "      <td>PMT LUC - CASH</td>\n",
       "      <td>21</td>\n",
       "      <td>750.0</td>\n",
       "      <td>0.0</td>\n",
       "    </tr>\n",
       "    <tr>\n",
       "      <th>37</th>\n",
       "      <td>312</td>\n",
       "      <td>2023-11-16</td>\n",
       "      <td>16</td>\n",
       "      <td>11</td>\n",
       "      <td>2023</td>\n",
       "      <td>Internet Expenses</td>\n",
       "      <td>PMT LUC - CASH</td>\n",
       "      <td>253</td>\n",
       "      <td>943.0</td>\n",
       "      <td>0.0</td>\n",
       "    </tr>\n",
       "    <tr>\n",
       "      <th>38</th>\n",
       "      <td>321</td>\n",
       "      <td>2023-12-04</td>\n",
       "      <td>4</td>\n",
       "      <td>12</td>\n",
       "      <td>2023</td>\n",
       "      <td>Lucknow - Delhi</td>\n",
       "      <td>PMT LUC - BANK</td>\n",
       "      <td>36</td>\n",
       "      <td>500.0</td>\n",
       "      <td>0.0</td>\n",
       "    </tr>\n",
       "    <tr>\n",
       "      <th>39</th>\n",
       "      <td>418</td>\n",
       "      <td>2024-03-06</td>\n",
       "      <td>6</td>\n",
       "      <td>3</td>\n",
       "      <td>2024</td>\n",
       "      <td>Book Fair Expenses</td>\n",
       "      <td>PMT LUC - BANK</td>\n",
       "      <td>48</td>\n",
       "      <td>26500.0</td>\n",
       "      <td>0.0</td>\n",
       "    </tr>\n",
       "    <tr>\n",
       "      <th>40</th>\n",
       "      <td>391</td>\n",
       "      <td>2024-02-05</td>\n",
       "      <td>5</td>\n",
       "      <td>2</td>\n",
       "      <td>2024</td>\n",
       "      <td>Rep &amp; Maint - Machinery &amp; Equipments</td>\n",
       "      <td>PMT LUC - CASH</td>\n",
       "      <td>314</td>\n",
       "      <td>5200.0</td>\n",
       "      <td>0.0</td>\n",
       "    </tr>\n",
       "    <tr>\n",
       "      <th>41</th>\n",
       "      <td>222</td>\n",
       "      <td>2023-03-31</td>\n",
       "      <td>31</td>\n",
       "      <td>3</td>\n",
       "      <td>2023</td>\n",
       "      <td>Housekeeping Comsumables</td>\n",
       "      <td>PMT LUC - CASH</td>\n",
       "      <td>172</td>\n",
       "      <td>7000.0</td>\n",
       "      <td>0.0</td>\n",
       "    </tr>\n",
       "    <tr>\n",
       "      <th>42</th>\n",
       "      <td>185</td>\n",
       "      <td>2023-02-05</td>\n",
       "      <td>5</td>\n",
       "      <td>2</td>\n",
       "      <td>2023</td>\n",
       "      <td>Food Expenses</td>\n",
       "      <td>PMT LUC - CASH</td>\n",
       "      <td>143</td>\n",
       "      <td>5473.0</td>\n",
       "      <td>0.0</td>\n",
       "    </tr>\n",
       "    <tr>\n",
       "      <th>43</th>\n",
       "      <td>86</td>\n",
       "      <td>2022-09-04</td>\n",
       "      <td>4</td>\n",
       "      <td>9</td>\n",
       "      <td>2022</td>\n",
       "      <td>Food Expenses</td>\n",
       "      <td>PMT LUC - CASH</td>\n",
       "      <td>71</td>\n",
       "      <td>4418.0</td>\n",
       "      <td>0.0</td>\n",
       "    </tr>\n",
       "    <tr>\n",
       "      <th>44</th>\n",
       "      <td>175</td>\n",
       "      <td>2023-09-17</td>\n",
       "      <td>17</td>\n",
       "      <td>9</td>\n",
       "      <td>2023</td>\n",
       "      <td>Housekeeping Comsumables</td>\n",
       "      <td>PMT LUC - CASH</td>\n",
       "      <td>144</td>\n",
       "      <td>300.0</td>\n",
       "      <td>0.0</td>\n",
       "    </tr>\n",
       "    <tr>\n",
       "      <th>45</th>\n",
       "      <td>82</td>\n",
       "      <td>2023-07-23</td>\n",
       "      <td>23</td>\n",
       "      <td>7</td>\n",
       "      <td>2023</td>\n",
       "      <td>Food Expenses</td>\n",
       "      <td>PMT LUC - CASH</td>\n",
       "      <td>68</td>\n",
       "      <td>2353.0</td>\n",
       "      <td>0.0</td>\n",
       "    </tr>\n",
       "    <tr>\n",
       "      <th>46</th>\n",
       "      <td>122</td>\n",
       "      <td>2022-11-10</td>\n",
       "      <td>10</td>\n",
       "      <td>11</td>\n",
       "      <td>2022</td>\n",
       "      <td>Courier Charges</td>\n",
       "      <td>PMT LUC - CASH</td>\n",
       "      <td>99</td>\n",
       "      <td>120.0</td>\n",
       "      <td>0.0</td>\n",
       "    </tr>\n",
       "    <tr>\n",
       "      <th>47</th>\n",
       "      <td>268</td>\n",
       "      <td>2023-10-01</td>\n",
       "      <td>1</td>\n",
       "      <td>10</td>\n",
       "      <td>2023</td>\n",
       "      <td>Housekeeping Comsumables</td>\n",
       "      <td>PMT LUC - CASH</td>\n",
       "      <td>224</td>\n",
       "      <td>1800.0</td>\n",
       "      <td>0.0</td>\n",
       "    </tr>\n",
       "    <tr>\n",
       "      <th>48</th>\n",
       "      <td>203</td>\n",
       "      <td>2023-03-05</td>\n",
       "      <td>5</td>\n",
       "      <td>3</td>\n",
       "      <td>2023</td>\n",
       "      <td>Rep &amp; Maint - General</td>\n",
       "      <td>PMT LUC - CASH</td>\n",
       "      <td>158</td>\n",
       "      <td>440.0</td>\n",
       "      <td>0.0</td>\n",
       "    </tr>\n",
       "    <tr>\n",
       "      <th>49</th>\n",
       "      <td>304</td>\n",
       "      <td>2023-11-06</td>\n",
       "      <td>6</td>\n",
       "      <td>11</td>\n",
       "      <td>2023</td>\n",
       "      <td>AXIS - Lucknow - 913010001710740</td>\n",
       "      <td>Contra</td>\n",
       "      <td>11</td>\n",
       "      <td>0.0</td>\n",
       "      <td>30000.0</td>\n",
       "    </tr>\n",
       "    <tr>\n",
       "      <th>50</th>\n",
       "      <td>87</td>\n",
       "      <td>2023-07-26</td>\n",
       "      <td>26</td>\n",
       "      <td>7</td>\n",
       "      <td>2023</td>\n",
       "      <td>Rep &amp; Maint - General</td>\n",
       "      <td>PMT LUC - CASH</td>\n",
       "      <td>71</td>\n",
       "      <td>3100.0</td>\n",
       "      <td>0.0</td>\n",
       "    </tr>\n",
       "    <tr>\n",
       "      <th>51</th>\n",
       "      <td>98</td>\n",
       "      <td>2023-08-01</td>\n",
       "      <td>1</td>\n",
       "      <td>8</td>\n",
       "      <td>2023</td>\n",
       "      <td>Salaries</td>\n",
       "      <td>PMT LUC - CASH</td>\n",
       "      <td>80</td>\n",
       "      <td>5000.0</td>\n",
       "      <td>0.0</td>\n",
       "    </tr>\n",
       "    <tr>\n",
       "      <th>52</th>\n",
       "      <td>89</td>\n",
       "      <td>2023-07-26</td>\n",
       "      <td>26</td>\n",
       "      <td>7</td>\n",
       "      <td>2023</td>\n",
       "      <td>Housekeeping Comsumables</td>\n",
       "      <td>PMT LUC - CASH</td>\n",
       "      <td>73</td>\n",
       "      <td>4000.0</td>\n",
       "      <td>0.0</td>\n",
       "    </tr>\n",
       "    <tr>\n",
       "      <th>53</th>\n",
       "      <td>170</td>\n",
       "      <td>2023-09-16</td>\n",
       "      <td>16</td>\n",
       "      <td>9</td>\n",
       "      <td>2023</td>\n",
       "      <td>Housekeeping Comsumables</td>\n",
       "      <td>PMT LUC - CASH</td>\n",
       "      <td>140</td>\n",
       "      <td>1700.0</td>\n",
       "      <td>0.0</td>\n",
       "    </tr>\n",
       "    <tr>\n",
       "      <th>54</th>\n",
       "      <td>398</td>\n",
       "      <td>2024-02-20</td>\n",
       "      <td>20</td>\n",
       "      <td>2</td>\n",
       "      <td>2024</td>\n",
       "      <td>Food Expenses</td>\n",
       "      <td>PMT LUC - CASH</td>\n",
       "      <td>321</td>\n",
       "      <td>941.0</td>\n",
       "      <td>0.0</td>\n",
       "    </tr>\n",
       "    <tr>\n",
       "      <th>55</th>\n",
       "      <td>139</td>\n",
       "      <td>2023-09-04</td>\n",
       "      <td>4</td>\n",
       "      <td>9</td>\n",
       "      <td>2023</td>\n",
       "      <td>Machinery, Equipment &amp; Vehicles</td>\n",
       "      <td>PMT LUC - CASH</td>\n",
       "      <td>111</td>\n",
       "      <td>7000.0</td>\n",
       "      <td>0.0</td>\n",
       "    </tr>\n",
       "    <tr>\n",
       "      <th>56</th>\n",
       "      <td>256</td>\n",
       "      <td>2023-09-28</td>\n",
       "      <td>28</td>\n",
       "      <td>9</td>\n",
       "      <td>2023</td>\n",
       "      <td>AXIS - Lucknow - 913010001710740</td>\n",
       "      <td>Contra</td>\n",
       "      <td>9</td>\n",
       "      <td>0.0</td>\n",
       "      <td>50000.0</td>\n",
       "    </tr>\n",
       "    <tr>\n",
       "      <th>57</th>\n",
       "      <td>171</td>\n",
       "      <td>2023-09-16</td>\n",
       "      <td>16</td>\n",
       "      <td>9</td>\n",
       "      <td>2023</td>\n",
       "      <td>Garden Expenses</td>\n",
       "      <td>PMT LUC - CASH</td>\n",
       "      <td>141</td>\n",
       "      <td>500.0</td>\n",
       "      <td>0.0</td>\n",
       "    </tr>\n",
       "    <tr>\n",
       "      <th>58</th>\n",
       "      <td>323</td>\n",
       "      <td>2023-12-04</td>\n",
       "      <td>4</td>\n",
       "      <td>12</td>\n",
       "      <td>2023</td>\n",
       "      <td>Food Expenses</td>\n",
       "      <td>PMT LUC - CASH</td>\n",
       "      <td>261</td>\n",
       "      <td>3840.0</td>\n",
       "      <td>0.0</td>\n",
       "    </tr>\n",
       "    <tr>\n",
       "      <th>59</th>\n",
       "      <td>88</td>\n",
       "      <td>2022-09-14</td>\n",
       "      <td>14</td>\n",
       "      <td>9</td>\n",
       "      <td>2022</td>\n",
       "      <td>Internet Expenses</td>\n",
       "      <td>PMT LUC - CASH</td>\n",
       "      <td>73</td>\n",
       "      <td>589.0</td>\n",
       "      <td>0.0</td>\n",
       "    </tr>\n",
       "  </tbody>\n",
       "</table>\n",
       "</div>"
      ],
      "text/plain": [
       "    index       Date  date  month  year  \\\n",
       "0     368 2024-01-12    12      1  2024   \n",
       "1      97 2022-10-01     1     10  2022   \n",
       "2     405 2024-02-27    27      2  2024   \n",
       "3      52 2023-06-30    30      6  2023   \n",
       "4     378 2024-01-16    16      1  2024   \n",
       "5     264 2023-09-30    30      9  2023   \n",
       "6     272 2023-10-01     1     10  2023   \n",
       "7      43 2022-07-14    14      7  2022   \n",
       "8     294 2023-10-20    20     10  2023   \n",
       "9     305 2023-11-06     6     11  2023   \n",
       "10    241 2023-09-25    25      9  2023   \n",
       "11     75 2023-07-17    17      7  2023   \n",
       "12     31 2023-06-01     1      6  2023   \n",
       "13    198 2023-03-05     5      3  2023   \n",
       "14     14 2023-05-07     7      5  2023   \n",
       "15    161 2023-01-05     5      1  2023   \n",
       "16     19 2022-06-01     1      6  2022   \n",
       "17    287 2023-10-15    15     10  2023   \n",
       "18    384 2024-02-04     4      2  2024   \n",
       "19    335 2023-12-16    16     12  2023   \n",
       "20    225 2023-03-31    31      3  2023   \n",
       "21     74 2022-08-16    16      8  2022   \n",
       "22    145 2023-09-06     6      9  2023   \n",
       "23     13 2023-05-07     7      5  2023   \n",
       "24      2 2022-04-15    15      4  2022   \n",
       "25    232 2023-03-31    31      3  2023   \n",
       "26    149 2022-12-08     8     12  2022   \n",
       "27    183 2023-02-05     5      2  2023   \n",
       "28     44 2023-06-15    15      6  2023   \n",
       "29    371 2024-01-14    14      1  2024   \n",
       "30    143 2022-12-05     5     12  2022   \n",
       "31    281 2023-10-09     9     10  2023   \n",
       "32    253 2023-09-26    26      9  2023   \n",
       "33    333 2023-12-11    11     12  2023   \n",
       "34     66 2022-08-01     1      8  2022   \n",
       "35     88 2023-07-26    26      7  2023   \n",
       "36     23 2022-06-20    20      6  2022   \n",
       "37    312 2023-11-16    16     11  2023   \n",
       "38    321 2023-12-04     4     12  2023   \n",
       "39    418 2024-03-06     6      3  2024   \n",
       "40    391 2024-02-05     5      2  2024   \n",
       "41    222 2023-03-31    31      3  2023   \n",
       "42    185 2023-02-05     5      2  2023   \n",
       "43     86 2022-09-04     4      9  2022   \n",
       "44    175 2023-09-17    17      9  2023   \n",
       "45     82 2023-07-23    23      7  2023   \n",
       "46    122 2022-11-10    10     11  2022   \n",
       "47    268 2023-10-01     1     10  2023   \n",
       "48    203 2023-03-05     5      3  2023   \n",
       "49    304 2023-11-06     6     11  2023   \n",
       "50     87 2023-07-26    26      7  2023   \n",
       "51     98 2023-08-01     1      8  2023   \n",
       "52     89 2023-07-26    26      7  2023   \n",
       "53    170 2023-09-16    16      9  2023   \n",
       "54    398 2024-02-20    20      2  2024   \n",
       "55    139 2023-09-04     4      9  2023   \n",
       "56    256 2023-09-28    28      9  2023   \n",
       "57    171 2023-09-16    16      9  2023   \n",
       "58    323 2023-12-04     4     12  2023   \n",
       "59     88 2022-09-14    14      9  2022   \n",
       "\n",
       "                                     Particulars        Vch Type  Vch No.  \\\n",
       "0                                  Food Expenses  PMT LUC - CASH      298   \n",
       "1                                       Salaries  PMT LUC - BANK        8   \n",
       "2                                Lucknow - Delhi  RCP LUC - BANK       11   \n",
       "3                       Housekeeping Comsumables  PMT LUC - CASH       42   \n",
       "4                                Courier Charges  PMT LUC - CASH      306   \n",
       "5                                  Food Expenses  PMT LUC - CASH      222   \n",
       "6                             Interest - Savings  RCP LUC - BANK        9   \n",
       "7   Hiring Charges - Pandals,Tents,Utensils Etc.  PMT LUC - CASH       35   \n",
       "8                       Housekeeping Comsumables  PMT LUC - CASH      239   \n",
       "9                                Lucknow - Delhi  PMT LUC - BANK       34   \n",
       "10                                          Rent  PMT LUC - CASH      209   \n",
       "11                               Courier Charges  PMT LUC - CASH       61   \n",
       "12               Assistance for Educational Fees  PMT LUC - BANK        4   \n",
       "13                                      Salaries  PMT LUC - BANK       24   \n",
       "14                                      Salaries  PMT LUC - CASH       12   \n",
       "15                                      Salaries  PMT LUC - BANK       18   \n",
       "16                               Garden Expenses  PMT LUC - CASH       17   \n",
       "17               Assistance for Educational Fees  PMT LUC - BANK       30   \n",
       "18                                      Salaries  PMT LUC - BANK       44   \n",
       "19                                 Food Expenses  PMT LUC - CASH      273   \n",
       "20                            Interest - Savings  RCP LUC - BANK        8   \n",
       "21                             Internet Expenses  PMT LUC - CASH       61   \n",
       "22                      Housekeeping Comsumables  PMT LUC - CASH      117   \n",
       "23                  Meditational Aids - Expenses  PMT LUC - CASH       11   \n",
       "24                               Courier Charges  PMT LUC - CASH        2   \n",
       "25                               Lucknow - Delhi         Journal       13   \n",
       "26                               Courier Charges  PMT LUC - CASH      119   \n",
       "27                               Lucknow - Delhi  PMT LUC - BANK       22   \n",
       "28                          Electricity Expenses  PMT LUC - CASH       35   \n",
       "29                                 Food Expenses  PMT LUC - CASH      301   \n",
       "30              AXIS - Lucknow - 913010001710740          Contra        7   \n",
       "31                  Meditational Aids - Expenses  PMT LUC - CASH      231   \n",
       "32                                 Food Expenses         Journal        1   \n",
       "33                               Courier Charges  PMT LUC - CASH      271   \n",
       "34                                 Food Expenses  PMT LUC - CASH       55   \n",
       "35                          Electricity Expenses  PMT LUC - CASH       72   \n",
       "36                         Rep & Maint - General  PMT LUC - CASH       21   \n",
       "37                             Internet Expenses  PMT LUC - CASH      253   \n",
       "38                               Lucknow - Delhi  PMT LUC - BANK       36   \n",
       "39                            Book Fair Expenses  PMT LUC - BANK       48   \n",
       "40          Rep & Maint - Machinery & Equipments  PMT LUC - CASH      314   \n",
       "41                      Housekeeping Comsumables  PMT LUC - CASH      172   \n",
       "42                                 Food Expenses  PMT LUC - CASH      143   \n",
       "43                                 Food Expenses  PMT LUC - CASH       71   \n",
       "44                      Housekeeping Comsumables  PMT LUC - CASH      144   \n",
       "45                                 Food Expenses  PMT LUC - CASH       68   \n",
       "46                               Courier Charges  PMT LUC - CASH       99   \n",
       "47                      Housekeeping Comsumables  PMT LUC - CASH      224   \n",
       "48                         Rep & Maint - General  PMT LUC - CASH      158   \n",
       "49              AXIS - Lucknow - 913010001710740          Contra       11   \n",
       "50                         Rep & Maint - General  PMT LUC - CASH       71   \n",
       "51                                      Salaries  PMT LUC - CASH       80   \n",
       "52                      Housekeeping Comsumables  PMT LUC - CASH       73   \n",
       "53                      Housekeeping Comsumables  PMT LUC - CASH      140   \n",
       "54                                 Food Expenses  PMT LUC - CASH      321   \n",
       "55               Machinery, Equipment & Vehicles  PMT LUC - CASH      111   \n",
       "56              AXIS - Lucknow - 913010001710740          Contra        9   \n",
       "57                               Garden Expenses  PMT LUC - CASH      141   \n",
       "58                                 Food Expenses  PMT LUC - CASH      261   \n",
       "59                             Internet Expenses  PMT LUC - CASH       73   \n",
       "\n",
       "       Debit    Credit  \n",
       "0     7800.0       0.0  \n",
       "1    15000.0       0.0  \n",
       "2        0.0  100000.0  \n",
       "3     1300.0       0.0  \n",
       "4      130.0       0.0  \n",
       "5     7140.0       0.0  \n",
       "6        0.0    5408.0  \n",
       "7     3920.0       0.0  \n",
       "8      184.0       0.0  \n",
       "9      600.0       0.0  \n",
       "10    1710.0       0.0  \n",
       "11     120.0       0.0  \n",
       "12    9200.0       0.0  \n",
       "13   15000.0       0.0  \n",
       "14    5000.0       0.0  \n",
       "15   15000.0       0.0  \n",
       "16    3300.0       0.0  \n",
       "17   10200.0       0.0  \n",
       "18   15100.0       0.0  \n",
       "19     940.0       0.0  \n",
       "20       0.0    1063.0  \n",
       "21     589.0       0.0  \n",
       "22     227.0       0.0  \n",
       "23     380.0       0.0  \n",
       "24     120.0       0.0  \n",
       "25  895787.0       0.0  \n",
       "26     120.0       0.0  \n",
       "27    1000.0       0.0  \n",
       "28   11272.0       0.0  \n",
       "29    4935.0       0.0  \n",
       "30       0.0   50000.0  \n",
       "31     426.0       0.0  \n",
       "32   96000.0       0.0  \n",
       "33     130.0       0.0  \n",
       "34    5674.0       0.0  \n",
       "35   13795.0       0.0  \n",
       "36     750.0       0.0  \n",
       "37     943.0       0.0  \n",
       "38     500.0       0.0  \n",
       "39   26500.0       0.0  \n",
       "40    5200.0       0.0  \n",
       "41    7000.0       0.0  \n",
       "42    5473.0       0.0  \n",
       "43    4418.0       0.0  \n",
       "44     300.0       0.0  \n",
       "45    2353.0       0.0  \n",
       "46     120.0       0.0  \n",
       "47    1800.0       0.0  \n",
       "48     440.0       0.0  \n",
       "49       0.0   30000.0  \n",
       "50    3100.0       0.0  \n",
       "51    5000.0       0.0  \n",
       "52    4000.0       0.0  \n",
       "53    1700.0       0.0  \n",
       "54     941.0       0.0  \n",
       "55    7000.0       0.0  \n",
       "56       0.0   50000.0  \n",
       "57     500.0       0.0  \n",
       "58    3840.0       0.0  \n",
       "59     589.0       0.0  "
      ]
     },
     "execution_count": 92,
     "metadata": {},
     "output_type": "execute_result"
    }
   ],
   "source": [
    "df3.sample(60).reset_index()"
   ]
  },
  {
   "cell_type": "code",
   "execution_count": 93,
   "id": "6ba2b77a-4306-4eff-b3e8-ed5f614aee0a",
   "metadata": {},
   "outputs": [
    {
     "data": {
      "text/plain": [
       "(615, 9)"
      ]
     },
     "execution_count": 93,
     "metadata": {},
     "output_type": "execute_result"
    }
   ],
   "source": [
    "df3.shape"
   ]
  },
  {
   "cell_type": "code",
   "execution_count": 94,
   "id": "316e9431-1754-412c-b7e1-eabd6eba3770",
   "metadata": {},
   "outputs": [
    {
     "data": {
      "text/plain": [
       "(240, 9)"
      ]
     },
     "execution_count": 94,
     "metadata": {},
     "output_type": "execute_result"
    }
   ],
   "source": [
    "df1.shape"
   ]
  },
  {
   "cell_type": "code",
   "execution_count": 95,
   "id": "0a1856b9-3cee-4b08-9162-674ff4361c77",
   "metadata": {},
   "outputs": [
    {
     "data": {
      "text/plain": [
       "(445, 9)"
      ]
     },
     "execution_count": 95,
     "metadata": {},
     "output_type": "execute_result"
    }
   ],
   "source": [
    "df2.shape"
   ]
  },
  {
   "cell_type": "markdown",
   "id": "3d485ed5-bb90-4fda-9c58-d28d91f9c363",
   "metadata": {},
   "source": [
    "\n",
    "### MAKING COMBOBOX FOR COMPARING DATA ENTERIES IN BOTH THE FINANCIAL YEARS AND PREDICTING THE CREDIT AND DEBIT FOR THE NEXT FY USING LINEAR EXTRAPOLATION\n"
   ]
  },
  {
   "cell_type": "code",
   "execution_count": 96,
   "id": "1d9731d1-1173-4c9d-a10b-4e1715b13dbe",
   "metadata": {},
   "outputs": [],
   "source": [
    "import tkinter as tk\n",
    "from tkinter import ttk\n",
    "import pandas as pd\n",
    "\n",
    "# Function to calculate predicted values for the next financial year\n",
    "def predict_next_year(fy_sums):\n",
    "    if len(fy_sums) < 2:\n",
    "        return None, None\n",
    "    \n",
    "    # Avoid division by zero by checking if previous year's value is zero\n",
    "    if fy_sums[-2][0] == 0:\n",
    "        avg_debit_growth = 0\n",
    "    else:\n",
    "        avg_debit_growth = (fy_sums[-1][0] - fy_sums[-2][0]) / fy_sums[-2][0]\n",
    "        \n",
    "    if fy_sums[-2][1] == 0:\n",
    "        avg_credit_growth = 0\n",
    "    else:\n",
    "        avg_credit_growth = (fy_sums[-1][1] - fy_sums[-2][1]) / fy_sums[-2][1]\n",
    "    \n",
    "    next_year_debit = fy_sums[-1][0] * (1 + avg_debit_growth)\n",
    "    next_year_credit = fy_sums[-1][1] * (1 + avg_credit_growth)\n",
    "    \n",
    "    return next_year_debit, next_year_credit\n",
    "\n",
    "# Function to update the listbox with entries corresponding to the selected particular name\n",
    "def update_listbox(event):\n",
    "    selected_particular = combo_var.get()\n",
    "    selected_entries = df3.loc[df3['Particulars'] == selected_particular, ['month', 'year', 'Debit', 'Credit']]\n",
    "    \n",
    "    # Filter entries for each financial year\n",
    "    fy_2022_2023 = selected_entries[(selected_entries['year'] == 2022) | \n",
    "                                    ((selected_entries['year'] == 2023) & (selected_entries['month'] <= 3))]\n",
    "    fy_2023_2024 = selected_entries[(selected_entries['year'] == 2023) & (selected_entries['month'] >= 4)]\n",
    "    \n",
    "    # Calculate sums for each financial year\n",
    "    sum_debit_fy_2022_2023 = fy_2022_2023['Debit'].sum()\n",
    "    sum_credit_fy_2022_2023 = fy_2022_2023['Credit'].sum()\n",
    "    sum_debit_fy_2023_2024 = fy_2023_2024['Debit'].sum()\n",
    "    sum_credit_fy_2023_2024 = fy_2023_2024['Credit'].sum()\n",
    "\n",
    "    # List of summed values for financial years\n",
    "    fy_sums = [(sum_debit_fy_2022_2023, sum_credit_fy_2022_2023), (sum_debit_fy_2023_2024, sum_credit_fy_2023_2024)]\n",
    "\n",
    "    # Predict next year's values\n",
    "    next_year_debit, next_year_credit = predict_next_year(fy_sums)\n",
    "    \n",
    "    listbox.delete(0, tk.END)\n",
    "    for index, row in selected_entries.iterrows():\n",
    "        entry_text = f\"{int(row['month'])} {int(row['year'])}: Debit - {row['Debit']}, Credit - {row['Credit']}\"\n",
    "        listbox.insert(tk.END, entry_text)\n",
    "    \n",
    "    # Display sums\n",
    "    listbox.insert(tk.END, \"\")\n",
    "    listbox.insert(tk.END, f\"Total for FY 2022-2023: Debit - {sum_debit_fy_2022_2023}, Credit - {sum_credit_fy_2022_2023}\")\n",
    "    listbox.insert(tk.END, f\"Total for FY 2023-2024: Debit - {sum_debit_fy_2023_2024}, Credit - {sum_credit_fy_2023_2024}\")\n",
    "    \n",
    "    # Display predicted values if available\n",
    "    if next_year_debit is not None and next_year_credit is not None:\n",
    "        listbox.insert(tk.END, f\"Predicted for FY 2024-2025: Debit - {next_year_debit:.2f}, Credit - {next_year_credit:.2f}\")\n",
    "\n",
    "# Create the main window\n",
    "root = tk.Tk()\n",
    "root.title(\"Entry Viewer\")\n",
    "\n",
    "# Create a combo box to select particular names\n",
    "combo_var = tk.StringVar()\n",
    "combo_box = ttk.Combobox(root, textvariable=combo_var)\n",
    "unique_values = df3['Particulars'].unique()\n",
    "combo_box['values'] = unique_values.tolist()  # Convert to list if necessary\n",
    "combo_box.grid(row=0, column=0, padx=10, pady=10)\n",
    "combo_box.bind('<<ComboboxSelected>>', update_listbox)\n",
    "\n",
    "# Create a listbox to display entries\n",
    "listbox = tk.Listbox(root, width=50, height=20)\n",
    "listbox.grid(row=1, column=0, padx=10, pady=10)\n",
    "\n",
    "# Function to initialize listbox with entries for initial selection\n",
    "def initialize_listbox():\n",
    "    selected_particular = combo_var.get()\n",
    "    selected_entries = df3[df3['Particulars'] == selected_particular]\n",
    "    \n",
    "    listbox.delete(0, tk.END)\n",
    "    for index, row in selected_entries.iterrows():\n",
    "        entry_text = f\"{int(row['month'])} {int(row['year'])}: Debit - {row['Debit']}, Credit - {row['Credit']}\"\n",
    "        listbox.insert(tk.END, entry_text)\n",
    "\n",
    "    # Initialize sums for the first particular name\n",
    "    update_listbox(None)\n",
    "\n",
    "# Initialize with the first particular name\n",
    "initial_particular = unique_values[0]  # Select the first unique item in the list\n",
    "combo_var.set(initial_particular)\n",
    "initialize_listbox()  # Initialize listbox with entries for initial selection\n",
    "\n",
    "# Start the Tkinter event loop\n",
    "root.mainloop()\n"
   ]
  },
  {
   "cell_type": "raw",
   "id": "1b56ae4e-0d60-4130-b3e1-8ab61b29747b",
   "metadata": {},
   "source": []
  }
 ],
 "metadata": {
  "kernelspec": {
   "display_name": "Python 3 (ipykernel)",
   "language": "python",
   "name": "python3"
  },
  "language_info": {
   "codemirror_mode": {
    "name": "ipython",
    "version": 3
   },
   "file_extension": ".py",
   "mimetype": "text/x-python",
   "name": "python",
   "nbconvert_exporter": "python",
   "pygments_lexer": "ipython3",
   "version": "3.11.7"
  }
 },
 "nbformat": 4,
 "nbformat_minor": 5
}
